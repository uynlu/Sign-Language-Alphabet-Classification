{
 "cells": [
  {
   "cell_type": "markdown",
   "metadata": {
    "id": "hmlmLfN54bsp"
   },
   "source": [
    "# Import modules"
   ]
  },
  {
   "cell_type": "markdown",
   "metadata": {
    "id": "XA7WZwAs4gkX"
   },
   "source": [
    "## Install module"
   ]
  },
  {
   "cell_type": "code",
   "execution_count": 1,
   "metadata": {
    "colab": {
     "base_uri": "https://localhost:8080/"
    },
    "executionInfo": {
     "elapsed": 10152,
     "status": "ok",
     "timestamp": 1735034846789,
     "user": {
      "displayName": "Uyên Lưu Bảo",
      "userId": "10825055318362925261"
     },
     "user_tz": -420
    },
    "id": "j89YqOTh4jGJ",
    "outputId": "cd2668f3-dac3-4e30-c2e8-05ca1a4d7404"
   },
   "outputs": [
    {
     "name": "stdout",
     "output_type": "stream",
     "text": [
      "\u001b[?25l   \u001b[90m━━━━━━━━━━━━━━━━━━━━━━━━━━━━━━━━━━━━━━━━\u001b[0m \u001b[32m0.0/1.6 MB\u001b[0m \u001b[31m?\u001b[0m eta \u001b[36m-:--:--\u001b[0m\r\u001b[2K   \u001b[91m━━━━━━━━━━━━━━━\u001b[0m\u001b[90m╺\u001b[0m\u001b[90m━━━━━━━━━━━━━━━━━━━━━━━━\u001b[0m \u001b[32m0.6/1.6 MB\u001b[0m \u001b[31m17.7 MB/s\u001b[0m eta \u001b[36m0:00:01\u001b[0m\r\u001b[2K   \u001b[90m━━━━━━━━━━━━━━━━━━━━━━━━━━━━━━━━━━━━━━━━\u001b[0m \u001b[32m1.6/1.6 MB\u001b[0m \u001b[31m21.2 MB/s\u001b[0m eta \u001b[36m0:00:00\u001b[0m\n",
      "\u001b[?25htime: 1.81 ms (started: 2024-12-24 10:07:26 +00:00)\n"
     ]
    }
   ],
   "source": [
    "!pip install -qq ipython-autotime\n",
    "%load_ext autotime"
   ]
  },
  {
   "cell_type": "markdown",
   "metadata": {
    "id": "nVqIyzX74oB2"
   },
   "source": [
    "## Import libraries"
   ]
  },
  {
   "cell_type": "code",
   "execution_count": 3,
   "metadata": {
    "colab": {
     "base_uri": "https://localhost:8080/"
    },
    "executionInfo": {
     "elapsed": 9,
     "status": "ok",
     "timestamp": 1735034846789,
     "user": {
      "displayName": "Uyên Lưu Bảo",
      "userId": "10825055318362925261"
     },
     "user_tz": -420
    },
    "id": "C-0PTFMex2pI",
    "outputId": "be30a5ae-7a9b-4871-bc9f-cbe2a8e95d10"
   },
   "outputs": [
    {
     "name": "stdout",
     "output_type": "stream",
     "text": [
      "time: 731 µs (started: 2024-12-24 10:07:26 +00:00)\n"
     ]
    }
   ],
   "source": [
    "import warnings\n",
    "warnings.filterwarnings('ignore')"
   ]
  },
  {
   "cell_type": "code",
   "execution_count": 4,
   "metadata": {
    "colab": {
     "base_uri": "https://localhost:8080/"
    },
    "executionInfo": {
     "elapsed": 6,
     "status": "ok",
     "timestamp": 1735034846789,
     "user": {
      "displayName": "Uyên Lưu Bảo",
      "userId": "10825055318362925261"
     },
     "user_tz": -420
    },
    "id": "9ivAprD85Rg0",
    "outputId": "387b124a-9816-4158-da94-e2c3812d99ce"
   },
   "outputs": [
    {
     "name": "stdout",
     "output_type": "stream",
     "text": [
      "time: 458 µs (started: 2024-12-24 10:07:26 +00:00)\n"
     ]
    }
   ],
   "source": [
    "import numpy as np"
   ]
  },
  {
   "cell_type": "code",
   "execution_count": 5,
   "metadata": {
    "colab": {
     "base_uri": "https://localhost:8080/"
    },
    "executionInfo": {
     "elapsed": 1199,
     "status": "ok",
     "timestamp": 1735034847985,
     "user": {
      "displayName": "Uyên Lưu Bảo",
      "userId": "10825055318362925261"
     },
     "user_tz": -420
    },
    "id": "TKqBJLcMJFGL",
    "outputId": "041fc203-25c0-45a0-d5a5-7fe2a6cc4e13"
   },
   "outputs": [
    {
     "name": "stdout",
     "output_type": "stream",
     "text": [
      "time: 1.06 s (started: 2024-12-24 10:07:26 +00:00)\n"
     ]
    }
   ],
   "source": [
    "import pandas as pd"
   ]
  },
  {
   "cell_type": "code",
   "execution_count": null,
   "metadata": {
    "colab": {
     "base_uri": "https://localhost:8080/"
    },
    "executionInfo": {
     "elapsed": 5784,
     "status": "ok",
     "timestamp": 1735034853763,
     "user": {
      "displayName": "Uyên Lưu Bảo",
      "userId": "10825055318362925261"
     },
     "user_tz": -420
    },
    "id": "yRRjhlef5eTi",
    "outputId": "16395395-15ab-4943-a942-b49d88b28ef1"
   },
   "outputs": [
    {
     "name": "stdout",
     "output_type": "stream",
     "text": [
      "time: 5.7 s (started: 2024-12-24 10:07:27 +00:00)\n"
     ]
    }
   ],
   "source": [
    "from sklearn.model_selection import train_test_split\n",
    "from sklearn.svm import SVC\n",
    "from sklearn.ensemble import RandomForestClassifier\n",
    "from sklearn.neighbors import KNeighborsClassifier\n",
    "from sklearn.svm import OneClassSVM\n",
    "from sklearn.metrics import classification_report, accuracy_score, f1_score"
   ]
  },
  {
   "cell_type": "code",
   "execution_count": 7,
   "metadata": {
    "colab": {
     "base_uri": "https://localhost:8080/"
    },
    "executionInfo": {
     "elapsed": 8,
     "status": "ok",
     "timestamp": 1735034853763,
     "user": {
      "displayName": "Uyên Lưu Bảo",
      "userId": "10825055318362925261"
     },
     "user_tz": -420
    },
    "id": "gxJBE4lytxX0",
    "outputId": "32b55b82-088f-4401-e67c-bf852329180e"
   },
   "outputs": [
    {
     "name": "stdout",
     "output_type": "stream",
     "text": [
      "time: 499 µs (started: 2024-12-24 10:07:33 +00:00)\n"
     ]
    }
   ],
   "source": [
    "from joblib import dump, load"
   ]
  },
  {
   "cell_type": "code",
   "execution_count": 8,
   "metadata": {
    "colab": {
     "base_uri": "https://localhost:8080/"
    },
    "executionInfo": {
     "elapsed": 6,
     "status": "ok",
     "timestamp": 1735034853763,
     "user": {
      "displayName": "Uyên Lưu Bảo",
      "userId": "10825055318362925261"
     },
     "user_tz": -420
    },
    "id": "ueoFDO4bMfoj",
    "outputId": "5e4264bf-1131-4ba6-b60d-297d948236a7"
   },
   "outputs": [
    {
     "name": "stdout",
     "output_type": "stream",
     "text": [
      "time: 464 µs (started: 2024-12-24 10:07:33 +00:00)\n"
     ]
    }
   ],
   "source": [
    "import scipy.stats as stats"
   ]
  },
  {
   "cell_type": "markdown",
   "metadata": {
    "id": "VG8z8y1oe44u"
   },
   "source": [
    "# Load extracted files"
   ]
  },
  {
   "cell_type": "code",
   "execution_count": 9,
   "metadata": {
    "colab": {
     "base_uri": "https://localhost:8080/"
    },
    "executionInfo": {
     "elapsed": 6997,
     "status": "ok",
     "timestamp": 1735034860757,
     "user": {
      "displayName": "Uyên Lưu Bảo",
      "userId": "10825055318362925261"
     },
     "user_tz": -420
    },
    "id": "lyQMM48Fe79H",
    "outputId": "39f4be16-e4ad-4eb8-9dd8-319cce1629a1"
   },
   "outputs": [
    {
     "name": "stdout",
     "output_type": "stream",
     "text": [
      "time: 6.84 s (started: 2024-12-24 10:07:33 +00:00)\n"
     ]
    }
   ],
   "source": [
    "X_grass_alphabet = pd.read_csv('/content/drive/MyDrive/UIT/HK5/CS231/Đồ án/Source code/Features/X_grass_alphabet.csv')\n",
    "X_grass_alphabet = X_grass_alphabet.to_numpy()"
   ]
  },
  {
   "cell_type": "code",
   "execution_count": 10,
   "metadata": {
    "colab": {
     "base_uri": "https://localhost:8080/"
    },
    "executionInfo": {
     "elapsed": 562,
     "status": "ok",
     "timestamp": 1735034861316,
     "user": {
      "displayName": "Uyên Lưu Bảo",
      "userId": "10825055318362925261"
     },
     "user_tz": -420
    },
    "id": "ImREK6xRfZDH",
    "outputId": "cde15eec-31ac-4563-9686-03943e3c1785"
   },
   "outputs": [
    {
     "name": "stdout",
     "output_type": "stream",
     "text": [
      "time: 415 ms (started: 2024-12-24 10:07:40 +00:00)\n"
     ]
    }
   ],
   "source": [
    "y_grass_alphabet = pd.read_csv('/content/drive/MyDrive/UIT/HK5/CS231/Đồ án/Source code/Features/y_grass_alphabet.csv')\n",
    "y_grass_alphabet = y_grass_alphabet.to_numpy()"
   ]
  },
  {
   "cell_type": "code",
   "execution_count": 11,
   "metadata": {
    "colab": {
     "base_uri": "https://localhost:8080/"
    },
    "executionInfo": {
     "elapsed": 1514,
     "status": "ok",
     "timestamp": 1735034862827,
     "user": {
      "displayName": "Uyên Lưu Bảo",
      "userId": "10825055318362925261"
     },
     "user_tz": -420
    },
    "id": "rBD5KQjOfgC_",
    "outputId": "cefd144d-1ca6-4734-b333-2d9de979f270"
   },
   "outputs": [
    {
     "name": "stdout",
     "output_type": "stream",
     "text": [
      "time: 1.63 s (started: 2024-12-24 10:07:40 +00:00)\n"
     ]
    }
   ],
   "source": [
    "X_train_synthetic_alphabet = pd.read_csv('/content/drive/MyDrive/UIT/HK5/CS231/Đồ án/Source code/Features/X_train_synthetic_alphabet.csv')\n",
    "X_train_synthetic_alphabet = X_train_synthetic_alphabet.to_numpy()"
   ]
  },
  {
   "cell_type": "code",
   "execution_count": 12,
   "metadata": {
    "colab": {
     "base_uri": "https://localhost:8080/"
    },
    "executionInfo": {
     "elapsed": 583,
     "status": "ok",
     "timestamp": 1735034863407,
     "user": {
      "displayName": "Uyên Lưu Bảo",
      "userId": "10825055318362925261"
     },
     "user_tz": -420
    },
    "id": "0BdEkv2FFEAZ",
    "outputId": "dc52c397-3a0d-47b2-92a2-0f54d17b881e"
   },
   "outputs": [
    {
     "name": "stdout",
     "output_type": "stream",
     "text": [
      "time: 509 ms (started: 2024-12-24 10:07:42 +00:00)\n"
     ]
    }
   ],
   "source": [
    "X_test_synthetic_alphabet = pd.read_csv('/content/drive/MyDrive/UIT/HK5/CS231/Đồ án/Source code/Features/X_test_synthetic_alphabet.csv')\n",
    "X_test_synthetic_alphabet = X_test_synthetic_alphabet.to_numpy()"
   ]
  },
  {
   "cell_type": "code",
   "execution_count": 13,
   "metadata": {
    "colab": {
     "base_uri": "https://localhost:8080/"
    },
    "executionInfo": {
     "elapsed": 5,
     "status": "ok",
     "timestamp": 1735034863407,
     "user": {
      "displayName": "Uyên Lưu Bảo",
      "userId": "10825055318362925261"
     },
     "user_tz": -420
    },
    "id": "EhXODbcPfzwG",
    "outputId": "836fb827-100d-4b78-c911-abb03aace927"
   },
   "outputs": [
    {
     "name": "stdout",
     "output_type": "stream",
     "text": [
      "time: 314 ms (started: 2024-12-24 10:07:42 +00:00)\n"
     ]
    }
   ],
   "source": [
    "y_train_synthetic_alphabet = pd.read_csv('/content/drive/MyDrive/UIT/HK5/CS231/Đồ án/Source code/Features/y_train_synthetic_alphabet.csv')\n",
    "y_train_synthetic_alphabet = y_train_synthetic_alphabet.to_numpy()"
   ]
  },
  {
   "cell_type": "code",
   "execution_count": 14,
   "metadata": {
    "colab": {
     "base_uri": "https://localhost:8080/"
    },
    "executionInfo": {
     "elapsed": 557,
     "status": "ok",
     "timestamp": 1735034863961,
     "user": {
      "displayName": "Uyên Lưu Bảo",
      "userId": "10825055318362925261"
     },
     "user_tz": -420
    },
    "id": "lZAlJ09dFNDW",
    "outputId": "48097be4-67df-4ce6-f000-718b296b6349"
   },
   "outputs": [
    {
     "name": "stdout",
     "output_type": "stream",
     "text": [
      "time: 263 ms (started: 2024-12-24 10:07:43 +00:00)\n"
     ]
    }
   ],
   "source": [
    "y_test_synthetic_alphabet = pd.read_csv('/content/drive/MyDrive/UIT/HK5/CS231/Đồ án/Source code/Features/y_test_synthetic_alphabet.csv')\n",
    "y_test_synthetic_alphabet = y_test_synthetic_alphabet.to_numpy()"
   ]
  },
  {
   "cell_type": "code",
   "execution_count": 15,
   "metadata": {
    "colab": {
     "base_uri": "https://localhost:8080/"
    },
    "executionInfo": {
     "elapsed": 419,
     "status": "ok",
     "timestamp": 1735034864377,
     "user": {
      "displayName": "Uyên Lưu Bảo",
      "userId": "10825055318362925261"
     },
     "user_tz": -420
    },
    "id": "LynwNS6z_5AS",
    "outputId": "74194357-1a86-4f4b-95e8-6cc5c5e9fc08"
   },
   "outputs": [
    {
     "name": "stdout",
     "output_type": "stream",
     "text": [
      "time: 591 ms (started: 2024-12-24 10:07:43 +00:00)\n"
     ]
    }
   ],
   "source": [
    "X_train_numbers = pd.read_csv('/content/drive/MyDrive/UIT/HK5/CS231/Đồ án/Source code/Features/X_train_numbers.csv')\n",
    "X_train_numbers = X_train_numbers.to_numpy()"
   ]
  },
  {
   "cell_type": "code",
   "execution_count": 16,
   "metadata": {
    "colab": {
     "base_uri": "https://localhost:8080/"
    },
    "executionInfo": {
     "elapsed": 472,
     "status": "ok",
     "timestamp": 1735034864846,
     "user": {
      "displayName": "Uyên Lưu Bảo",
      "userId": "10825055318362925261"
     },
     "user_tz": -420
    },
    "id": "4j96tlpv_8Ri",
    "outputId": "d376ab70-8bcf-4f2f-cc9a-efe68c4db817"
   },
   "outputs": [
    {
     "name": "stdout",
     "output_type": "stream",
     "text": [
      "time: 331 ms (started: 2024-12-24 10:07:43 +00:00)\n"
     ]
    }
   ],
   "source": [
    "y_train_numbers = pd.read_csv('/content/drive/MyDrive/UIT/HK5/CS231/Đồ án/Source code/Features/y_train_numbers.csv')\n",
    "y_train_numbers = y_train_numbers.to_numpy()"
   ]
  },
  {
   "cell_type": "code",
   "execution_count": 17,
   "metadata": {
    "colab": {
     "base_uri": "https://localhost:8080/"
    },
    "executionInfo": {
     "elapsed": 509,
     "status": "ok",
     "timestamp": 1735034865352,
     "user": {
      "displayName": "Uyên Lưu Bảo",
      "userId": "10825055318362925261"
     },
     "user_tz": -420
    },
    "id": "eNxK1NSQgI5a",
    "outputId": "28a72d1e-85ec-4e08-9d2d-e7e21a250f0b"
   },
   "outputs": [
    {
     "name": "stdout",
     "output_type": "stream",
     "text": [
      "time: 339 ms (started: 2024-12-24 10:07:44 +00:00)\n"
     ]
    }
   ],
   "source": [
    "X_test_numbers = pd.read_csv('/content/drive/MyDrive/UIT/HK5/CS231/Đồ án/Source code/Features/X_test_numbers.csv')\n",
    "X_test_numbers = X_test_numbers.to_numpy()"
   ]
  },
  {
   "cell_type": "code",
   "execution_count": 18,
   "metadata": {
    "colab": {
     "base_uri": "https://localhost:8080/"
    },
    "executionInfo": {
     "elapsed": 14,
     "status": "ok",
     "timestamp": 1735034865353,
     "user": {
      "displayName": "Uyên Lưu Bảo",
      "userId": "10825055318362925261"
     },
     "user_tz": -420
    },
    "id": "GYRLZtxZgrKJ",
    "outputId": "7965a6a6-3e22-4f4b-f495-04466cb5fffc"
   },
   "outputs": [
    {
     "name": "stdout",
     "output_type": "stream",
     "text": [
      "time: 283 ms (started: 2024-12-24 10:07:44 +00:00)\n"
     ]
    }
   ],
   "source": [
    "y_test_numbers = pd.read_csv('/content/drive/MyDrive/UIT/HK5/CS231/Đồ án/Source code/Features/y_test_numbers.csv')\n",
    "y_test_numbers = y_test_numbers.to_numpy()"
   ]
  },
  {
   "cell_type": "code",
   "execution_count": 19,
   "metadata": {
    "colab": {
     "base_uri": "https://localhost:8080/"
    },
    "executionInfo": {
     "elapsed": 12,
     "status": "ok",
     "timestamp": 1735034865353,
     "user": {
      "displayName": "Uyên Lưu Bảo",
      "userId": "10825055318362925261"
     },
     "user_tz": -420
    },
    "id": "qZVlNH310gPJ",
    "outputId": "e3733faa-4c0e-4c2a-dd55-2effa870e9bb"
   },
   "outputs": [
    {
     "name": "stdout",
     "output_type": "stream",
     "text": [
      "time: 9.49 ms (started: 2024-12-24 10:07:44 +00:00)\n"
     ]
    }
   ],
   "source": [
    "X_numbers = np.concatenate((X_train_numbers, X_test_numbers), axis=0)\n",
    "y_numbers = np.concatenate((y_train_numbers, y_test_numbers), axis=0)"
   ]
  },
  {
   "cell_type": "markdown",
   "metadata": {
    "id": "kHDWGxi5FvhX"
   },
   "source": [
    "# Prepare trainning, testing datasets"
   ]
  },
  {
   "cell_type": "code",
   "execution_count": 20,
   "metadata": {
    "colab": {
     "base_uri": "https://localhost:8080/"
    },
    "executionInfo": {
     "elapsed": 14,
     "status": "ok",
     "timestamp": 1735034865357,
     "user": {
      "displayName": "Uyên Lưu Bảo",
      "userId": "10825055318362925261"
     },
     "user_tz": -420
    },
    "id": "i8YBJlIfI2Qd",
    "outputId": "64af5f58-0a95-4293-c37f-50a9421d9669"
   },
   "outputs": [
    {
     "name": "stdout",
     "output_type": "stream",
     "text": [
      "time: 1.28 ms (started: 2024-12-24 10:07:44 +00:00)\n"
     ]
    }
   ],
   "source": [
    "def sample_numbers(X_numbers, y_numbers, ratio):\n",
    "    sample_indexes = np.random.choice(X_numbers.shape[0], int(ratio * X_numbers.shape[0]), replace=False)\n",
    "    X_numbers = X_numbers[sample_indexes]\n",
    "    y_numbers = y_numbers[sample_indexes]\n",
    "    return X_numbers, y_numbers\n",
    "\n",
    "def add_noise(X_alphabet, y_alphabet, X_numbers, y_numbers):\n",
    "    X = np.concatenate((X_alphabet, X_numbers), axis=0)\n",
    "    y = np.concatenate((y_alphabet, y_numbers), axis=0)\n",
    "    data = np.concatenate((X, y), axis=1)\n",
    "    np.random.shuffle(data)\n",
    "    return data[:, :-1], data[:, -1]"
   ]
  },
  {
   "cell_type": "code",
   "execution_count": 21,
   "metadata": {
    "colab": {
     "base_uri": "https://localhost:8080/"
    },
    "executionInfo": {
     "elapsed": 12,
     "status": "ok",
     "timestamp": 1735034865357,
     "user": {
      "displayName": "Uyên Lưu Bảo",
      "userId": "10825055318362925261"
     },
     "user_tz": -420
    },
    "id": "U6fmrcCg1t6z",
    "outputId": "f5db256b-3500-48b0-956d-18df64d72c45"
   },
   "outputs": [
    {
     "name": "stdout",
     "output_type": "stream",
     "text": [
      "time: 3.31 ms (started: 2024-12-24 10:07:44 +00:00)\n"
     ]
    }
   ],
   "source": [
    "X_train_grass_numbers, y_train_grass_numbers = sample_numbers(X_train_numbers, y_train_numbers, 0.3)\n",
    "X_test_grass_numbers, y_test_grass_numbers = sample_numbers(X_test_numbers, y_test_numbers, 0.67)"
   ]
  },
  {
   "cell_type": "code",
   "execution_count": 22,
   "metadata": {
    "colab": {
     "base_uri": "https://localhost:8080/"
    },
    "executionInfo": {
     "elapsed": 11,
     "status": "ok",
     "timestamp": 1735034865357,
     "user": {
      "displayName": "Uyên Lưu Bảo",
      "userId": "10825055318362925261"
     },
     "user_tz": -420
    },
    "id": "vy2f4rL09iVY",
    "outputId": "e1ea695a-e1ed-488f-be8f-64807b97799b"
   },
   "outputs": [
    {
     "name": "stdout",
     "output_type": "stream",
     "text": [
      "time: 5.35 ms (started: 2024-12-24 10:07:44 +00:00)\n"
     ]
    }
   ],
   "source": [
    "X_train_synthetic_numbers, y_train_synthetic_numbers = sample_numbers(X_train_numbers, y_train_numbers, 0.1)\n",
    "X_test_synthetic_numbers, y_test_synthetic_numbers = sample_numbers(X_test_numbers, y_test_numbers, 0.1)"
   ]
  },
  {
   "cell_type": "code",
   "execution_count": 23,
   "metadata": {
    "colab": {
     "base_uri": "https://localhost:8080/"
    },
    "executionInfo": {
     "elapsed": 378,
     "status": "ok",
     "timestamp": 1735034865726,
     "user": {
      "displayName": "Uyên Lưu Bảo",
      "userId": "10825055318362925261"
     },
     "user_tz": -420
    },
    "id": "268AVJSdHZEl",
    "outputId": "85d797fd-5145-4c22-aa6c-8591a5382b12"
   },
   "outputs": [
    {
     "name": "stdout",
     "output_type": "stream",
     "text": [
      "time: 117 ms (started: 2024-12-24 10:07:45 +00:00)\n"
     ]
    }
   ],
   "source": [
    "X_train_grass_alphabet, X_test_grass_alphabet, y_train_grass_alphabet, y_test_grass_alphabet = train_test_split(X_grass_alphabet, y_grass_alphabet, test_size=0.2, random_state=42)"
   ]
  },
  {
   "cell_type": "code",
   "execution_count": 24,
   "metadata": {
    "colab": {
     "base_uri": "https://localhost:8080/"
    },
    "executionInfo": {
     "elapsed": 5,
     "status": "ok",
     "timestamp": 1735034865726,
     "user": {
      "displayName": "Uyên Lưu Bảo",
      "userId": "10825055318362925261"
     },
     "user_tz": -420
    },
    "id": "IVq2c2yvIUni",
    "outputId": "72914e8a-9976-4bf9-a0c0-c866dfb46869"
   },
   "outputs": [
    {
     "name": "stdout",
     "output_type": "stream",
     "text": [
      "time: 43.9 ms (started: 2024-12-24 10:07:45 +00:00)\n"
     ]
    }
   ],
   "source": [
    "X_train_alphabet = np.concatenate((X_train_grass_alphabet, X_train_synthetic_alphabet), axis=0)\n",
    "y_train_alphabet = np.concatenate((y_train_grass_alphabet, y_train_synthetic_alphabet), axis=0)\n",
    "X_test_alphabet = np.concatenate((X_test_grass_alphabet, X_test_synthetic_alphabet), axis=0)\n",
    "y_test_alphabet = np.concatenate((y_test_grass_alphabet, y_test_synthetic_alphabet), axis=0)"
   ]
  },
  {
   "cell_type": "code",
   "execution_count": 25,
   "metadata": {
    "colab": {
     "base_uri": "https://localhost:8080/"
    },
    "executionInfo": {
     "elapsed": 381,
     "status": "ok",
     "timestamp": 1735034866103,
     "user": {
      "displayName": "Uyên Lưu Bảo",
      "userId": "10825055318362925261"
     },
     "user_tz": -420
    },
    "id": "KIvUw3ooG4NO",
    "outputId": "afc6f0b9-6591-4f18-9014-fb8b1f2e020a"
   },
   "outputs": [
    {
     "name": "stdout",
     "output_type": "stream",
     "text": [
      "time: 291 ms (started: 2024-12-24 10:07:45 +00:00)\n"
     ]
    }
   ],
   "source": [
    "X_train_grass, y_train_grass = add_noise(X_train_grass_alphabet, y_train_grass_alphabet, X_train_grass_numbers, y_train_grass_numbers)\n",
    "X_test_grass, y_test_grass = add_noise(X_test_grass_alphabet, y_test_grass_alphabet, X_test_grass_numbers, y_test_grass_numbers)"
   ]
  },
  {
   "cell_type": "code",
   "execution_count": 26,
   "metadata": {
    "colab": {
     "base_uri": "https://localhost:8080/"
    },
    "executionInfo": {
     "elapsed": 10,
     "status": "ok",
     "timestamp": 1735034866103,
     "user": {
      "displayName": "Uyên Lưu Bảo",
      "userId": "10825055318362925261"
     },
     "user_tz": -420
    },
    "id": "dnPlJBivG4Ju",
    "outputId": "7c77cd88-4832-488a-efa8-64d015df9af2"
   },
   "outputs": [
    {
     "name": "stdout",
     "output_type": "stream",
     "text": [
      "time: 152 ms (started: 2024-12-24 10:07:45 +00:00)\n"
     ]
    }
   ],
   "source": [
    "X_train_synthetic, y_train_synthetic = add_noise(X_train_synthetic_alphabet, y_train_synthetic_alphabet, X_train_synthetic_numbers, y_train_synthetic_numbers)\n",
    "X_test_synthetic, y_test_synthetic = add_noise(X_test_synthetic_alphabet, y_test_synthetic_alphabet, X_test_synthetic_numbers, y_test_synthetic_numbers)"
   ]
  },
  {
   "cell_type": "code",
   "execution_count": 53,
   "metadata": {
    "colab": {
     "base_uri": "https://localhost:8080/"
    },
    "executionInfo": {
     "elapsed": 357,
     "status": "ok",
     "timestamp": 1735036415981,
     "user": {
      "displayName": "Uyên Lưu Bảo",
      "userId": "10825055318362925261"
     },
     "user_tz": -420
    },
    "id": "HuMM-7uYOQiS",
    "outputId": "d06b85a9-1acf-4e58-96e6-a9ba27553760"
   },
   "outputs": [
    {
     "name": "stdout",
     "output_type": "stream",
     "text": [
      "time: 201 ms (started: 2024-12-24 10:33:35 +00:00)\n"
     ]
    }
   ],
   "source": [
    "X_train, y_train = add_noise(X_train_alphabet, y_train_alphabet, X_train_numbers, y_train_numbers)\n",
    "X_test, y_test = add_noise(X_test_alphabet, y_test_alphabet, X_test_numbers, y_test_numbers)"
   ]
  },
  {
   "cell_type": "markdown",
   "metadata": {
    "id": "XqSvwxVPJlb6"
   },
   "source": [
    "# Implement"
   ]
  },
  {
   "cell_type": "markdown",
   "metadata": {
    "id": "yf0lD-fRzCIy"
   },
   "source": [
    "## Original direction"
   ]
  },
  {
   "cell_type": "code",
   "execution_count": 27,
   "metadata": {
    "colab": {
     "base_uri": "https://localhost:8080/"
    },
    "executionInfo": {
     "elapsed": 7,
     "status": "ok",
     "timestamp": 1735034866103,
     "user": {
      "displayName": "Uyên Lưu Bảo",
      "userId": "10825055318362925261"
     },
     "user_tz": -420
    },
    "id": "EmyBXM4iLS9p",
    "outputId": "a81c80db-5249-4dfa-8de1-c3586ecc0a0f"
   },
   "outputs": [
    {
     "name": "stdout",
     "output_type": "stream",
     "text": [
      "time: 3.29 ms (started: 2024-12-24 10:07:45 +00:00)\n"
     ]
    }
   ],
   "source": [
    "def apply_model_1(model, X_train, y_train, X_test, y_test):\n",
    "    if model == 'SVC':\n",
    "        model = SVC()\n",
    "    elif model == 'Random Forest':\n",
    "        model = RandomForestClassifier()\n",
    "    elif model == 'KNN':\n",
    "        model = KNeighborsClassifier()\n",
    "\n",
    "    model.fit(X_train, y_train)\n",
    "\n",
    "    y_predict = model.predict(X_test)\n",
    "    print(classification_report(y_test, y_predict))\n",
    "\n",
    "    return model, accuracy_score(y_test, y_predict), f1_score(y_test, y_predict, average='macro')"
   ]
  },
  {
   "cell_type": "code",
   "execution_count": 28,
   "metadata": {
    "colab": {
     "base_uri": "https://localhost:8080/"
    },
    "executionInfo": {
     "elapsed": 343,
     "status": "ok",
     "timestamp": 1735034866442,
     "user": {
      "displayName": "Uyên Lưu Bảo",
      "userId": "10825055318362925261"
     },
     "user_tz": -420
    },
    "id": "qjbomNo5z_Mu",
    "outputId": "29ca1b48-ca6c-4a3d-fede-6aeb3cfa88d4"
   },
   "outputs": [
    {
     "name": "stdout",
     "output_type": "stream",
     "text": [
      "time: 2.72 ms (started: 2024-12-24 10:07:45 +00:00)\n"
     ]
    }
   ],
   "source": [
    "accuracy = []\n",
    "f1 = []"
   ]
  },
  {
   "cell_type": "markdown",
   "metadata": {
    "id": "pC4-dUI8zROc"
   },
   "source": [
    "### SVC"
   ]
  },
  {
   "cell_type": "code",
   "execution_count": 29,
   "metadata": {
    "colab": {
     "base_uri": "https://localhost:8080/"
    },
    "executionInfo": {
     "elapsed": 41628,
     "status": "ok",
     "timestamp": 1735034908068,
     "user": {
      "displayName": "Uyên Lưu Bảo",
      "userId": "10825055318362925261"
     },
     "user_tz": -420
    },
    "id": "08jjRvbazsEo",
    "outputId": "39a4b9d2-cd14-4ca4-ee96-42a4a3d8efde"
   },
   "outputs": [
    {
     "name": "stdout",
     "output_type": "stream",
     "text": [
      "              precision    recall  f1-score   support\n",
      "\n",
      "        -1.0       0.00      0.00      0.00       898\n",
      "         1.0       0.03      0.03      0.03       388\n",
      "         2.0       0.04      0.04      0.04       452\n",
      "         3.0       0.04      0.04      0.04       411\n",
      "         4.0       0.03      0.04      0.04       443\n",
      "         5.0       0.04      0.04      0.04       425\n",
      "         6.0       0.05      0.07      0.06       553\n",
      "         7.0       0.02      0.03      0.02       379\n",
      "         8.0       0.02      0.02      0.02       297\n",
      "         9.0       0.04      0.04      0.04       434\n",
      "        10.0       0.05      0.05      0.05       412\n",
      "        11.0       0.04      0.04      0.04       529\n",
      "        12.0       0.03      0.03      0.03       478\n",
      "        13.0       0.01      0.01      0.01       151\n",
      "        14.0       0.01      0.01      0.01       145\n",
      "        15.0       0.03      0.03      0.03       376\n",
      "        16.0       0.01      0.01      0.01       239\n",
      "        17.0       0.04      0.04      0.04       235\n",
      "        18.0       0.04      0.04      0.04       467\n",
      "        19.0       0.05      0.05      0.05       446\n",
      "        20.0       0.05      0.05      0.05       421\n",
      "        21.0       0.03      0.03      0.03       444\n",
      "        22.0       0.04      0.04      0.04       494\n",
      "        23.0       0.04      0.06      0.05       457\n",
      "        24.0       0.03      0.03      0.03       409\n",
      "        25.0       0.04      0.04      0.04       476\n",
      "        26.0       0.02      0.02      0.02       457\n",
      "\n",
      "    accuracy                           0.04     11316\n",
      "   macro avg       0.03      0.04      0.03     11316\n",
      "weighted avg       0.03      0.04      0.03     11316\n",
      "\n",
      "time: 41.7 s (started: 2024-12-24 10:07:45 +00:00)\n"
     ]
    }
   ],
   "source": [
    "svc_grass, accuracy_grass, f1_grass = apply_model_1('SVC', X_train_grass_alphabet, y_train_grass_alphabet, add_noise(X_test_grass_alphabet, y_test_grass_alphabet, X_test_numbers, y_test_numbers)[0], add_noise(X_test_grass_alphabet, y_test_grass_alphabet, X_test_numbers, y_test_numbers)[1])\n",
    "dump(svc_grass, '/content/drive/MyDrive/UIT/HK5/CS231/Đồ án/Source code/Model/svc_grass.h5')\n",
    "accuracy.append(accuracy_grass)\n",
    "f1.append(f1_grass)"
   ]
  },
  {
   "cell_type": "code",
   "execution_count": 30,
   "metadata": {
    "colab": {
     "base_uri": "https://localhost:8080/"
    },
    "executionInfo": {
     "elapsed": 2877,
     "status": "ok",
     "timestamp": 1735034910941,
     "user": {
      "displayName": "Uyên Lưu Bảo",
      "userId": "10825055318362925261"
     },
     "user_tz": -420
    },
    "id": "FLAinig-DBw5",
    "outputId": "6fcf2271-26a4-4b2f-9885-8ac2b4e2fe1b"
   },
   "outputs": [
    {
     "name": "stdout",
     "output_type": "stream",
     "text": [
      "              precision    recall  f1-score   support\n",
      "\n",
      "        -1.0       0.00      0.00      0.00       898\n",
      "         1.0       0.06      0.06      0.06       100\n",
      "         2.0       0.01      0.01      0.01       100\n",
      "         3.0       0.01      0.01      0.01       100\n",
      "         4.0       0.05      0.05      0.05       100\n",
      "         5.0       0.03      0.03      0.03       100\n",
      "         6.0       0.03      0.14      0.05       100\n",
      "         7.0       0.07      0.07      0.07        99\n",
      "         8.0       0.02      0.03      0.02        98\n",
      "         9.0       0.06      0.06      0.06       100\n",
      "        10.0       0.00      0.00      0.00        92\n",
      "        11.0       0.03      0.05      0.03       100\n",
      "        12.0       0.02      0.02      0.02       100\n",
      "        13.0       0.03      0.03      0.03       100\n",
      "        14.0       0.03      0.03      0.03       100\n",
      "        15.0       0.02      0.02      0.02       100\n",
      "        16.0       0.06      0.06      0.06        90\n",
      "        17.0       0.02      0.02      0.02        81\n",
      "        18.0       0.01      0.01      0.01       100\n",
      "        19.0       0.01      0.01      0.01       100\n",
      "        20.0       0.00      0.00      0.00       100\n",
      "        21.0       0.03      0.03      0.03       100\n",
      "        22.0       0.02      0.02      0.02       100\n",
      "        23.0       0.04      0.10      0.06       100\n",
      "        24.0       0.00      0.00      0.00       100\n",
      "        25.0       0.03      0.03      0.03        99\n",
      "        26.0       0.03      0.06      0.04       100\n",
      "\n",
      "    accuracy                           0.03      3457\n",
      "   macro avg       0.03      0.04      0.03      3457\n",
      "weighted avg       0.02      0.03      0.02      3457\n",
      "\n",
      "time: 2.91 s (started: 2024-12-24 10:08:27 +00:00)\n"
     ]
    }
   ],
   "source": [
    "svc_synthetic, accuracy_synthetic, f1_synthetic = apply_model_1(\"SVC\", X_train_synthetic_alphabet, y_train_synthetic_alphabet, add_noise(X_test_synthetic_alphabet, y_test_synthetic_alphabet, X_test_numbers, y_test_numbers)[0], add_noise(X_test_synthetic_alphabet, y_test_synthetic_alphabet, X_test_numbers, y_test_numbers)[1])\n",
    "dump(svc_synthetic, '/content/drive/MyDrive/UIT/HK5/CS231/Đồ án/Source code/Model/svc_synthetic.h5')\n",
    "accuracy.append(accuracy_synthetic)\n",
    "f1.append(f1_synthetic)"
   ]
  },
  {
   "cell_type": "code",
   "execution_count": null,
   "metadata": {
    "colab": {
     "base_uri": "https://localhost:8080/"
    },
    "executionInfo": {
     "elapsed": 57544,
     "status": "ok",
     "timestamp": 1735034968481,
     "user": {
      "displayName": "Uyên Lưu Bảo",
      "userId": "10825055318362925261"
     },
     "user_tz": -420
    },
    "id": "LPAj15GjEMPH",
    "outputId": "dc1917d2-0c94-48c1-a98c-f7af3bafd1b3"
   },
   "outputs": [
    {
     "name": "stdout",
     "output_type": "stream",
     "text": [
      "              precision    recall  f1-score   support\n",
      "\n",
      "        -1.0       0.00      0.00      0.00       898\n",
      "         1.0       0.05      0.05      0.05       488\n",
      "         2.0       0.03      0.04      0.03       552\n",
      "         3.0       0.04      0.05      0.04       511\n",
      "         4.0       0.04      0.04      0.04       543\n",
      "         5.0       0.04      0.04      0.04       525\n",
      "         6.0       0.05      0.07      0.06       653\n",
      "         7.0       0.03      0.03      0.03       478\n",
      "         8.0       0.03      0.03      0.03       395\n",
      "         9.0       0.04      0.04      0.04       534\n",
      "        10.0       0.03      0.03      0.03       504\n",
      "        11.0       0.04      0.04      0.04       629\n",
      "        12.0       0.04      0.04      0.04       578\n",
      "        13.0       0.02      0.02      0.02       251\n",
      "        14.0       0.03      0.03      0.03       245\n",
      "        15.0       0.04      0.04      0.04       476\n",
      "        16.0       0.01      0.01      0.01       329\n",
      "        17.0       0.03      0.03      0.03       316\n",
      "        18.0       0.02      0.02      0.02       567\n",
      "        19.0       0.04      0.04      0.04       546\n",
      "        20.0       0.04      0.04      0.04       521\n",
      "        21.0       0.02      0.02      0.02       544\n",
      "        22.0       0.05      0.06      0.05       594\n",
      "        23.0       0.04      0.05      0.04       557\n",
      "        24.0       0.05      0.05      0.05       509\n",
      "        25.0       0.04      0.04      0.04       575\n",
      "        26.0       0.05      0.06      0.05       557\n",
      "\n",
      "    accuracy                           0.04     13875\n",
      "   macro avg       0.03      0.04      0.04     13875\n",
      "weighted avg       0.03      0.04      0.04     13875\n",
      "\n",
      "time: 57.4 s (started: 2024-12-24 10:08:30 +00:00)\n"
     ]
    }
   ],
   "source": [
    "svc, accuracy_, f1_ = apply_model_1(\"SVC\", X_train_alphabet, y_train_alphabet, add_noise(X_test_alphabet, y_test_alphabet, X_test_numbers, y_test_numbers)[0], add_noise(X_test_alphabet, y_test_alphabet, X_test_numbers, y_test_numbers)[1])\n",
    "dump(svc, '/content/drive/MyDrive/UIT/HK5/CS231/Đồ án/Source code/Model/svc.h5')\n",
    "accuracy.append(accuracy_)\n",
    "f1.append(f1_)"
   ]
  },
  {
   "cell_type": "markdown",
   "metadata": {
    "id": "TfWAEEc5E3Mg"
   },
   "source": [
    "### Random Forest"
   ]
  },
  {
   "cell_type": "code",
   "execution_count": 32,
   "metadata": {
    "colab": {
     "base_uri": "https://localhost:8080/"
    },
    "executionInfo": {
     "elapsed": 52329,
     "status": "ok",
     "timestamp": 1735035020807,
     "user": {
      "displayName": "Uyên Lưu Bảo",
      "userId": "10825055318362925261"
     },
     "user_tz": -420
    },
    "id": "PniCzv-ME3Mh",
    "outputId": "5e72c576-9e3b-4b35-cb1f-ef9d6c6bb067"
   },
   "outputs": [
    {
     "name": "stdout",
     "output_type": "stream",
     "text": [
      "              precision    recall  f1-score   support\n",
      "\n",
      "        -1.0       0.00      0.00      0.00       898\n",
      "         1.0       0.03      0.03      0.03       388\n",
      "         2.0       0.04      0.04      0.04       452\n",
      "         3.0       0.02      0.02      0.02       411\n",
      "         4.0       0.04      0.05      0.05       443\n",
      "         5.0       0.03      0.03      0.03       425\n",
      "         6.0       0.07      0.10      0.08       553\n",
      "         7.0       0.03      0.03      0.03       379\n",
      "         8.0       0.02      0.03      0.03       297\n",
      "         9.0       0.04      0.04      0.04       434\n",
      "        10.0       0.04      0.04      0.04       412\n",
      "        11.0       0.04      0.04      0.04       529\n",
      "        12.0       0.04      0.04      0.04       478\n",
      "        13.0       0.01      0.01      0.01       151\n",
      "        14.0       0.01      0.01      0.01       145\n",
      "        15.0       0.03      0.03      0.03       376\n",
      "        16.0       0.02      0.02      0.02       239\n",
      "        17.0       0.02      0.02      0.02       235\n",
      "        18.0       0.04      0.05      0.05       467\n",
      "        19.0       0.04      0.04      0.04       446\n",
      "        20.0       0.02      0.02      0.02       421\n",
      "        21.0       0.05      0.05      0.05       444\n",
      "        22.0       0.04      0.04      0.04       494\n",
      "        23.0       0.05      0.07      0.05       457\n",
      "        24.0       0.03      0.03      0.03       409\n",
      "        25.0       0.04      0.04      0.04       476\n",
      "        26.0       0.01      0.01      0.01       457\n",
      "\n",
      "    accuracy                           0.04     11316\n",
      "   macro avg       0.03      0.03      0.03     11316\n",
      "weighted avg       0.03      0.04      0.03     11316\n",
      "\n",
      "time: 52.7 s (started: 2024-12-24 10:09:27 +00:00)\n"
     ]
    }
   ],
   "source": [
    "rf_grass, accuracy_grass, f1_grass = apply_model_1('Random Forest', X_train_grass_alphabet, y_train_grass_alphabet, add_noise(X_test_grass_alphabet, y_test_grass_alphabet, X_test_numbers, y_test_numbers)[0], add_noise(X_test_grass_alphabet, y_test_grass_alphabet, X_test_numbers, y_test_numbers)[1])\n",
    "dump(rf_grass, '/content/drive/MyDrive/UIT/HK5/CS231/Đồ án/Source code/Model/rf_grass.h5')\n",
    "accuracy.append(accuracy_grass)\n",
    "f1.append(f1_grass)"
   ]
  },
  {
   "cell_type": "code",
   "execution_count": 33,
   "metadata": {
    "colab": {
     "base_uri": "https://localhost:8080/"
    },
    "executionInfo": {
     "elapsed": 24018,
     "status": "ok",
     "timestamp": 1735035044812,
     "user": {
      "displayName": "Uyên Lưu Bảo",
      "userId": "10825055318362925261"
     },
     "user_tz": -420
    },
    "id": "wnQ2vhxbE3Mh",
    "outputId": "96f326cb-c22b-49ba-837d-89787ecc2d67"
   },
   "outputs": [
    {
     "name": "stdout",
     "output_type": "stream",
     "text": [
      "              precision    recall  f1-score   support\n",
      "\n",
      "        -1.0       0.00      0.00      0.00       898\n",
      "         1.0       0.00      0.00      0.00       100\n",
      "         2.0       0.01      0.02      0.02       100\n",
      "         3.0       0.04      0.04      0.04       100\n",
      "         4.0       0.05      0.05      0.05       100\n",
      "         5.0       0.02      0.02      0.02       100\n",
      "         6.0       0.03      0.11      0.05       100\n",
      "         7.0       0.00      0.00      0.00        99\n",
      "         8.0       0.01      0.01      0.01        98\n",
      "         9.0       0.01      0.01      0.01       100\n",
      "        10.0       0.01      0.01      0.01        92\n",
      "        11.0       0.02      0.05      0.03       100\n",
      "        12.0       0.01      0.01      0.01       100\n",
      "        13.0       0.03      0.03      0.03       100\n",
      "        14.0       0.04      0.04      0.04       100\n",
      "        15.0       0.02      0.02      0.02       100\n",
      "        16.0       0.02      0.02      0.02        90\n",
      "        17.0       0.04      0.04      0.04        81\n",
      "        18.0       0.01      0.01      0.01       100\n",
      "        19.0       0.03      0.03      0.03       100\n",
      "        20.0       0.04      0.04      0.04       100\n",
      "        21.0       0.05      0.05      0.05       100\n",
      "        22.0       0.03      0.05      0.04       100\n",
      "        23.0       0.04      0.14      0.06       100\n",
      "        24.0       0.02      0.02      0.02       100\n",
      "        25.0       0.03      0.03      0.03        99\n",
      "        26.0       0.03      0.05      0.03       100\n",
      "\n",
      "    accuracy                           0.03      3457\n",
      "   macro avg       0.02      0.03      0.03      3457\n",
      "weighted avg       0.02      0.03      0.02      3457\n",
      "\n",
      "time: 23.6 s (started: 2024-12-24 10:10:20 +00:00)\n"
     ]
    }
   ],
   "source": [
    "rf_synthetic, accuracy_synthetic, f1_synthetic = apply_model_1(\"Random Forest\", X_train_synthetic_alphabet, y_train_synthetic_alphabet, add_noise(X_test_synthetic_alphabet, y_test_synthetic_alphabet, X_test_numbers, y_test_numbers)[0], add_noise(X_test_synthetic_alphabet, y_test_synthetic_alphabet, X_test_numbers, y_test_numbers)[1])\n",
    "dump(rf_synthetic, '/content/drive/MyDrive/UIT/HK5/CS231/Đồ án/Source code/Model/rf_synthetic.h5')\n",
    "accuracy.append(accuracy_synthetic)\n",
    "f1.append(f1_synthetic)"
   ]
  },
  {
   "cell_type": "code",
   "execution_count": 34,
   "metadata": {
    "colab": {
     "base_uri": "https://localhost:8080/"
    },
    "executionInfo": {
     "elapsed": 87110,
     "status": "ok",
     "timestamp": 1735035131917,
     "user": {
      "displayName": "Uyên Lưu Bảo",
      "userId": "10825055318362925261"
     },
     "user_tz": -420
    },
    "id": "tD2y5f9UE3Mh",
    "outputId": "d61e362b-c3c3-40e2-fa24-5cc91fbaf1c3"
   },
   "outputs": [
    {
     "name": "stdout",
     "output_type": "stream",
     "text": [
      "              precision    recall  f1-score   support\n",
      "\n",
      "        -1.0       0.00      0.00      0.00       898\n",
      "         1.0       0.04      0.04      0.04       488\n",
      "         2.0       0.05      0.05      0.05       552\n",
      "         3.0       0.03      0.03      0.03       511\n",
      "         4.0       0.06      0.06      0.06       543\n",
      "         5.0       0.03      0.03      0.03       525\n",
      "         6.0       0.05      0.07      0.06       653\n",
      "         7.0       0.03      0.03      0.03       478\n",
      "         8.0       0.02      0.03      0.02       395\n",
      "         9.0       0.04      0.04      0.04       534\n",
      "        10.0       0.04      0.04      0.04       504\n",
      "        11.0       0.04      0.04      0.04       629\n",
      "        12.0       0.05      0.04      0.05       578\n",
      "        13.0       0.02      0.02      0.02       251\n",
      "        14.0       0.03      0.03      0.03       245\n",
      "        15.0       0.04      0.04      0.04       476\n",
      "        16.0       0.04      0.04      0.04       329\n",
      "        17.0       0.04      0.04      0.04       316\n",
      "        18.0       0.04      0.04      0.04       567\n",
      "        19.0       0.03      0.03      0.03       546\n",
      "        20.0       0.05      0.05      0.05       521\n",
      "        21.0       0.03      0.03      0.03       544\n",
      "        22.0       0.04      0.04      0.04       594\n",
      "        23.0       0.03      0.04      0.03       557\n",
      "        24.0       0.05      0.05      0.05       509\n",
      "        25.0       0.05      0.05      0.05       575\n",
      "        26.0       0.03      0.03      0.03       557\n",
      "\n",
      "    accuracy                           0.04     13875\n",
      "   macro avg       0.04      0.04      0.04     13875\n",
      "weighted avg       0.04      0.04      0.04     13875\n",
      "\n",
      "time: 1min 26s (started: 2024-12-24 10:10:44 +00:00)\n"
     ]
    }
   ],
   "source": [
    "rf, accuracy_, f1_ = apply_model_1(\"Random Forest\", X_train_alphabet, y_train_alphabet, add_noise(X_test_alphabet, y_test_alphabet, X_test_numbers, y_test_numbers)[0], add_noise(X_test_alphabet, y_test_alphabet, X_test_numbers, y_test_numbers)[1])\n",
    "dump(rf, '/content/drive/MyDrive/UIT/HK5/CS231/Đồ án/Source code/Model/rf.h5')\n",
    "accuracy.append(accuracy_)\n",
    "f1.append(f1_)"
   ]
  },
  {
   "cell_type": "markdown",
   "metadata": {
    "id": "1eGOxKXRE4h3"
   },
   "source": [
    "### KNN"
   ]
  },
  {
   "cell_type": "code",
   "execution_count": 35,
   "metadata": {
    "colab": {
     "base_uri": "https://localhost:8080/"
    },
    "executionInfo": {
     "elapsed": 4250,
     "status": "ok",
     "timestamp": 1735035136164,
     "user": {
      "displayName": "Uyên Lưu Bảo",
      "userId": "10825055318362925261"
     },
     "user_tz": -420
    },
    "id": "LQDVXgYfE4h4",
    "outputId": "332458ed-c9d9-460e-cc74-8c686d09c80f"
   },
   "outputs": [
    {
     "name": "stdout",
     "output_type": "stream",
     "text": [
      "              precision    recall  f1-score   support\n",
      "\n",
      "        -1.0       0.00      0.00      0.00       898\n",
      "         1.0       0.03      0.03      0.03       388\n",
      "         2.0       0.05      0.07      0.06       452\n",
      "         3.0       0.03      0.03      0.03       411\n",
      "         4.0       0.04      0.04      0.04       443\n",
      "         5.0       0.02      0.02      0.02       425\n",
      "         6.0       0.05      0.07      0.06       553\n",
      "         7.0       0.04      0.04      0.04       379\n",
      "         8.0       0.03      0.03      0.03       297\n",
      "         9.0       0.02      0.02      0.02       434\n",
      "        10.0       0.04      0.04      0.04       412\n",
      "        11.0       0.05      0.07      0.06       529\n",
      "        12.0       0.04      0.04      0.04       478\n",
      "        13.0       0.02      0.02      0.02       151\n",
      "        14.0       0.03      0.03      0.03       145\n",
      "        15.0       0.05      0.05      0.05       376\n",
      "        16.0       0.01      0.01      0.01       239\n",
      "        17.0       0.00      0.00      0.00       235\n",
      "        18.0       0.04      0.04      0.04       467\n",
      "        19.0       0.05      0.05      0.05       446\n",
      "        20.0       0.04      0.04      0.04       421\n",
      "        21.0       0.03      0.03      0.03       444\n",
      "        22.0       0.05      0.05      0.05       494\n",
      "        23.0       0.03      0.04      0.04       457\n",
      "        24.0       0.03      0.03      0.03       409\n",
      "        25.0       0.05      0.05      0.05       476\n",
      "        26.0       0.04      0.04      0.04       457\n",
      "\n",
      "    accuracy                           0.04     11316\n",
      "   macro avg       0.03      0.04      0.03     11316\n",
      "weighted avg       0.03      0.04      0.04     11316\n",
      "\n",
      "time: 4.34 s (started: 2024-12-24 10:12:10 +00:00)\n"
     ]
    }
   ],
   "source": [
    "knn_grass, accuracy_grass, f1_grass = apply_model_1('KNN', X_train_grass_alphabet, y_train_grass_alphabet, add_noise(X_test_grass_alphabet, y_test_grass_alphabet, X_test_numbers, y_test_numbers)[0], add_noise(X_test_grass_alphabet, y_test_grass_alphabet, X_test_numbers, y_test_numbers)[1])\n",
    "dump(knn_grass, '/content/drive/MyDrive/UIT/HK5/CS231/Đồ án/Source code/Model/knn_grass.h5')\n",
    "accuracy.append(accuracy_grass)\n",
    "f1.append(f1_grass)"
   ]
  },
  {
   "cell_type": "code",
   "execution_count": 36,
   "metadata": {
    "colab": {
     "base_uri": "https://localhost:8080/"
    },
    "executionInfo": {
     "elapsed": 551,
     "status": "ok",
     "timestamp": 1735035136712,
     "user": {
      "displayName": "Uyên Lưu Bảo",
      "userId": "10825055318362925261"
     },
     "user_tz": -420
    },
    "id": "hL4jqEKWE4h5",
    "outputId": "61b1871a-45c0-4c54-8d12-76963db57767"
   },
   "outputs": [
    {
     "name": "stdout",
     "output_type": "stream",
     "text": [
      "              precision    recall  f1-score   support\n",
      "\n",
      "        -1.0       0.00      0.00      0.00       898\n",
      "         1.0       0.02      0.02      0.02       100\n",
      "         2.0       0.01      0.02      0.02       100\n",
      "         3.0       0.01      0.01      0.01       100\n",
      "         4.0       0.03      0.05      0.04       100\n",
      "         5.0       0.02      0.02      0.02       100\n",
      "         6.0       0.02      0.11      0.04       100\n",
      "         7.0       0.05      0.05      0.05        99\n",
      "         8.0       0.02      0.02      0.02        98\n",
      "         9.0       0.03      0.03      0.03       100\n",
      "        10.0       0.01      0.01      0.01        92\n",
      "        11.0       0.01      0.02      0.01       100\n",
      "        12.0       0.03      0.03      0.03       100\n",
      "        13.0       0.02      0.02      0.02       100\n",
      "        14.0       0.04      0.04      0.04       100\n",
      "        15.0       0.04      0.04      0.04       100\n",
      "        16.0       0.01      0.01      0.01        90\n",
      "        17.0       0.05      0.05      0.05        81\n",
      "        18.0       0.04      0.04      0.04       100\n",
      "        19.0       0.05      0.05      0.05       100\n",
      "        20.0       0.03      0.03      0.03       100\n",
      "        21.0       0.03      0.03      0.03       100\n",
      "        22.0       0.01      0.02      0.02       100\n",
      "        23.0       0.04      0.08      0.05       100\n",
      "        24.0       0.03      0.03      0.03       100\n",
      "        25.0       0.01      0.01      0.01        99\n",
      "        26.0       0.01      0.02      0.01       100\n",
      "\n",
      "    accuracy                           0.02      3457\n",
      "   macro avg       0.02      0.03      0.03      3457\n",
      "weighted avg       0.02      0.02      0.02      3457\n",
      "\n",
      "time: 862 ms (started: 2024-12-24 10:12:15 +00:00)\n"
     ]
    }
   ],
   "source": [
    "knn_synthetic, accuracy_synthetic, f1_synthetic = apply_model_1(\"KNN\", X_train_synthetic_alphabet, y_train_synthetic_alphabet, add_noise(X_test_synthetic_alphabet, y_test_synthetic_alphabet, X_test_numbers, y_test_numbers)[0], add_noise(X_test_synthetic_alphabet, y_test_synthetic_alphabet, X_test_numbers, y_test_numbers)[1])\n",
    "dump(knn_synthetic, '/content/drive/MyDrive/UIT/HK5/CS231/Đồ án/Source code/Model/knn_synthetic.h5')\n",
    "accuracy.append(accuracy_synthetic)\n",
    "f1.append(f1_synthetic)"
   ]
  },
  {
   "cell_type": "code",
   "execution_count": 37,
   "metadata": {
    "colab": {
     "base_uri": "https://localhost:8080/"
    },
    "executionInfo": {
     "elapsed": 11035,
     "status": "ok",
     "timestamp": 1735035147744,
     "user": {
      "displayName": "Uyên Lưu Bảo",
      "userId": "10825055318362925261"
     },
     "user_tz": -420
    },
    "id": "oq7k6F2kE4h5",
    "outputId": "aee473b4-8895-46aa-9c7d-0b77fb50fe7c"
   },
   "outputs": [
    {
     "name": "stdout",
     "output_type": "stream",
     "text": [
      "              precision    recall  f1-score   support\n",
      "\n",
      "        -1.0       0.00      0.00      0.00       898\n",
      "         1.0       0.03      0.03      0.03       488\n",
      "         2.0       0.03      0.04      0.03       552\n",
      "         3.0       0.03      0.03      0.03       511\n",
      "         4.0       0.03      0.03      0.03       543\n",
      "         5.0       0.05      0.05      0.05       525\n",
      "         6.0       0.05      0.08      0.06       653\n",
      "         7.0       0.04      0.04      0.04       478\n",
      "         8.0       0.05      0.05      0.05       395\n",
      "         9.0       0.04      0.04      0.04       534\n",
      "        10.0       0.03      0.03      0.03       504\n",
      "        11.0       0.05      0.06      0.06       629\n",
      "        12.0       0.05      0.05      0.05       578\n",
      "        13.0       0.02      0.02      0.02       251\n",
      "        14.0       0.01      0.01      0.01       245\n",
      "        15.0       0.04      0.04      0.04       476\n",
      "        16.0       0.02      0.02      0.02       329\n",
      "        17.0       0.03      0.03      0.03       316\n",
      "        18.0       0.03      0.04      0.03       567\n",
      "        19.0       0.04      0.05      0.05       546\n",
      "        20.0       0.04      0.04      0.04       521\n",
      "        21.0       0.03      0.03      0.03       544\n",
      "        22.0       0.04      0.05      0.04       594\n",
      "        23.0       0.05      0.05      0.05       557\n",
      "        24.0       0.04      0.04      0.04       509\n",
      "        25.0       0.03      0.03      0.03       575\n",
      "        26.0       0.03      0.03      0.03       557\n",
      "\n",
      "    accuracy                           0.04     13875\n",
      "   macro avg       0.03      0.04      0.04     13875\n",
      "weighted avg       0.03      0.04      0.04     13875\n",
      "\n",
      "time: 10.9 s (started: 2024-12-24 10:12:16 +00:00)\n"
     ]
    }
   ],
   "source": [
    "knn, accuracy_, f1_ = apply_model_1(\"KNN\", X_train_alphabet, y_train_alphabet, add_noise(X_test_alphabet, y_test_alphabet, X_test_numbers, y_test_numbers)[0], add_noise(X_test_alphabet, y_test_alphabet, X_test_numbers, y_test_numbers)[1])\n",
    "dump(knn, '/content/drive/MyDrive/UIT/HK5/CS231/Đồ án/Source code/Model/knn.h5')\n",
    "accuracy.append(accuracy_)\n",
    "f1.append(f1_)"
   ]
  },
  {
   "cell_type": "markdown",
   "metadata": {
    "id": "WNqXkv6JJqQ9"
   },
   "source": [
    "## The first direction"
   ]
  },
  {
   "cell_type": "code",
   "execution_count": 38,
   "metadata": {
    "colab": {
     "base_uri": "https://localhost:8080/"
    },
    "executionInfo": {
     "elapsed": 4,
     "status": "ok",
     "timestamp": 1735035147744,
     "user": {
      "displayName": "Uyên Lưu Bảo",
      "userId": "10825055318362925261"
     },
     "user_tz": -420
    },
    "id": "e2jAaZNFUhmR",
    "outputId": "d5cf77ca-627e-4422-8e22-d7c7fc5322f5"
   },
   "outputs": [
    {
     "name": "stdout",
     "output_type": "stream",
     "text": [
      "time: 664 µs (started: 2024-12-24 10:12:27 +00:00)\n"
     ]
    }
   ],
   "source": [
    "accuracy_1 = []\n",
    "f1_score_1 = []"
   ]
  },
  {
   "cell_type": "markdown",
   "metadata": {
    "id": "StHjQR4EKPVC"
   },
   "source": [
    "### SVC"
   ]
  },
  {
   "cell_type": "code",
   "execution_count": 39,
   "metadata": {
    "colab": {
     "base_uri": "https://localhost:8080/"
    },
    "executionInfo": {
     "elapsed": 37256,
     "status": "ok",
     "timestamp": 1735035184997,
     "user": {
      "displayName": "Uyên Lưu Bảo",
      "userId": "10825055318362925261"
     },
     "user_tz": -420
    },
    "id": "5fuVIgDMJp2G",
    "outputId": "3226f20c-59a2-4ee6-dbcf-7b598d088fe9"
   },
   "outputs": [
    {
     "name": "stdout",
     "output_type": "stream",
     "text": [
      "              precision    recall  f1-score   support\n",
      "\n",
      "        -1.0       0.95      0.98      0.96       601\n",
      "         1.0       0.89      0.96      0.93       388\n",
      "         2.0       0.96      0.99      0.97       452\n",
      "         3.0       0.98      0.97      0.98       411\n",
      "         4.0       0.96      0.96      0.96       443\n",
      "         5.0       0.95      0.97      0.96       425\n",
      "         6.0       0.98      0.96      0.97       553\n",
      "         7.0       0.97      0.95      0.96       379\n",
      "         8.0       0.96      0.97      0.96       297\n",
      "         9.0       0.98      0.97      0.98       434\n",
      "        10.0       0.96      0.94      0.95       412\n",
      "        11.0       0.98      0.96      0.97       529\n",
      "        12.0       0.99      0.93      0.96       478\n",
      "        13.0       0.84      0.87      0.86       151\n",
      "        14.0       0.93      0.88      0.90       145\n",
      "        15.0       0.91      0.98      0.94       376\n",
      "        16.0       0.94      0.88      0.91       239\n",
      "        17.0       0.89      0.97      0.93       235\n",
      "        18.0       0.91      0.94      0.93       467\n",
      "        19.0       0.94      0.95      0.94       446\n",
      "        20.0       0.92      0.93      0.93       421\n",
      "        21.0       0.95      0.88      0.91       444\n",
      "        22.0       0.94      0.97      0.96       494\n",
      "        23.0       0.98      0.94      0.96       457\n",
      "        24.0       0.96      0.96      0.96       409\n",
      "        25.0       1.00      0.96      0.98       476\n",
      "        26.0       1.00      0.98      0.99       457\n",
      "\n",
      "    accuracy                           0.95     11019\n",
      "   macro avg       0.95      0.95      0.95     11019\n",
      "weighted avg       0.95      0.95      0.95     11019\n",
      "\n",
      "time: 37.2 s (started: 2024-12-24 10:12:27 +00:00)\n"
     ]
    }
   ],
   "source": [
    "svc_grass_1, accuracy_svc_grass_1, f1_score_svc_grass_1 = apply_model_1('SVC', X_train_grass, y_train_grass, X_test_grass, y_test_grass)\n",
    "dump(svc_grass_1, '/content/drive/MyDrive/UIT/HK5/CS231/Đồ án/Source code/Model/svc_grass_1.h5')\n",
    "accuracy_1.append(accuracy_svc_grass_1)\n",
    "f1_score_1.append(f1_score_svc_grass_1)"
   ]
  },
  {
   "cell_type": "code",
   "execution_count": 40,
   "metadata": {
    "colab": {
     "base_uri": "https://localhost:8080/"
    },
    "executionInfo": {
     "elapsed": 4408,
     "status": "ok",
     "timestamp": 1735035189400,
     "user": {
      "displayName": "Uyên Lưu Bảo",
      "userId": "10825055318362925261"
     },
     "user_tz": -420
    },
    "id": "NM-sibrD9HdS",
    "outputId": "b56a7a46-b67b-4ab0-c080-8f5dab210bd8"
   },
   "outputs": [
    {
     "name": "stdout",
     "output_type": "stream",
     "text": [
      "              precision    recall  f1-score   support\n",
      "\n",
      "        -1.0       1.00      0.83      0.91        89\n",
      "         1.0       0.98      0.99      0.99       100\n",
      "         2.0       0.99      1.00      1.00       100\n",
      "         3.0       1.00      1.00      1.00       100\n",
      "         4.0       1.00      0.97      0.98       100\n",
      "         5.0       0.97      0.99      0.98       100\n",
      "         6.0       0.98      1.00      0.99       100\n",
      "         7.0       0.98      0.99      0.98        99\n",
      "         8.0       0.99      0.98      0.98        98\n",
      "         9.0       1.00      1.00      1.00       100\n",
      "        10.0       0.98      0.98      0.98        92\n",
      "        11.0       1.00      0.98      0.99       100\n",
      "        12.0       1.00      1.00      1.00       100\n",
      "        13.0       1.00      1.00      1.00       100\n",
      "        14.0       1.00      1.00      1.00       100\n",
      "        15.0       0.98      1.00      0.99       100\n",
      "        16.0       1.00      0.99      0.99        90\n",
      "        17.0       0.98      0.98      0.98        81\n",
      "        18.0       0.99      1.00      1.00       100\n",
      "        19.0       0.99      1.00      1.00       100\n",
      "        20.0       0.99      0.98      0.98       100\n",
      "        21.0       0.98      0.99      0.99       100\n",
      "        22.0       1.00      1.00      1.00       100\n",
      "        23.0       0.89      1.00      0.94       100\n",
      "        24.0       0.99      0.99      0.99       100\n",
      "        25.0       1.00      0.99      0.99        99\n",
      "        26.0       1.00      1.00      1.00       100\n",
      "\n",
      "    accuracy                           0.99      2648\n",
      "   macro avg       0.99      0.99      0.99      2648\n",
      "weighted avg       0.99      0.99      0.99      2648\n",
      "\n",
      "time: 4.23 s (started: 2024-12-24 10:13:04 +00:00)\n"
     ]
    }
   ],
   "source": [
    "svc_synthetic_1, accuracy_svc_synthetic_1, f1_score_svc_synthetic_1 = apply_model_1('SVC', X_train_synthetic, y_train_synthetic, X_test_synthetic, y_test_synthetic)\n",
    "dump(svc_synthetic_1, '/content/drive/MyDrive/UIT/HK5/CS231/Đồ án/Source code/Model/svc_synthetic_1.h5')\n",
    "accuracy_1.append(accuracy_svc_synthetic_1)\n",
    "f1_score_1.append(f1_score_svc_synthetic_1)"
   ]
  },
  {
   "cell_type": "code",
   "execution_count": 54,
   "metadata": {
    "colab": {
     "base_uri": "https://localhost:8080/"
    },
    "executionInfo": {
     "elapsed": 88854,
     "status": "ok",
     "timestamp": 1735036521002,
     "user": {
      "displayName": "Uyên Lưu Bảo",
      "userId": "10825055318362925261"
     },
     "user_tz": -420
    },
    "id": "bNbyPFjb9HH-",
    "outputId": "e21f5b17-d52b-493c-beaa-dfc5cac58017"
   },
   "outputs": [
    {
     "name": "stdout",
     "output_type": "stream",
     "text": [
      "              precision    recall  f1-score   support\n",
      "\n",
      "        -1.0       0.94      0.98      0.96       898\n",
      "         1.0       0.93      0.96      0.94       488\n",
      "         2.0       0.97      1.00      0.98       552\n",
      "         3.0       0.97      0.98      0.98       511\n",
      "         4.0       0.98      0.96      0.97       543\n",
      "         5.0       0.95      0.98      0.96       525\n",
      "         6.0       0.98      0.97      0.98       653\n",
      "         7.0       0.97      0.96      0.97       478\n",
      "         8.0       0.97      0.95      0.96       395\n",
      "         9.0       0.97      0.98      0.98       534\n",
      "        10.0       0.96      0.95      0.95       504\n",
      "        11.0       0.99      0.96      0.98       629\n",
      "        12.0       0.99      0.93      0.96       578\n",
      "        13.0       0.91      0.85      0.88       251\n",
      "        14.0       0.90      0.92      0.91       245\n",
      "        15.0       0.93      0.98      0.95       476\n",
      "        16.0       0.95      0.89      0.92       329\n",
      "        17.0       0.88      0.97      0.92       316\n",
      "        18.0       0.94      0.94      0.94       567\n",
      "        19.0       0.95      0.97      0.96       546\n",
      "        20.0       0.93      0.93      0.93       521\n",
      "        21.0       0.94      0.92      0.93       544\n",
      "        22.0       0.94      0.97      0.96       594\n",
      "        23.0       0.98      0.92      0.95       557\n",
      "        24.0       0.96      0.96      0.96       509\n",
      "        25.0       1.00      0.96      0.98       575\n",
      "        26.0       1.00      0.98      0.99       557\n",
      "\n",
      "    accuracy                           0.96     13875\n",
      "   macro avg       0.95      0.95      0.95     13875\n",
      "weighted avg       0.96      0.96      0.96     13875\n",
      "\n",
      "time: 1min 28s (started: 2024-12-24 10:33:51 +00:00)\n"
     ]
    }
   ],
   "source": [
    "svc_1, accuracy_svc_1, f1_score_svc_1 = apply_model_1('SVC', X_train, y_train, X_test, y_test)\n",
    "dump(svc_1, '/content/drive/MyDrive/UIT/HK5/CS231/Đồ án/Source code/Model/svc_1.h5')\n",
    "accuracy_1.append(accuracy_svc_1)\n",
    "f1_score_1.append(f1_score_svc_1)"
   ]
  },
  {
   "cell_type": "markdown",
   "metadata": {
    "id": "8F5G2gTyKS_t"
   },
   "source": [
    "### Random Forest"
   ]
  },
  {
   "cell_type": "code",
   "execution_count": 42,
   "metadata": {
    "colab": {
     "base_uri": "https://localhost:8080/"
    },
    "executionInfo": {
     "elapsed": 56544,
     "status": "ok",
     "timestamp": 1735035250447,
     "user": {
      "displayName": "Uyên Lưu Bảo",
      "userId": "10825055318362925261"
     },
     "user_tz": -420
    },
    "id": "8V17vQtnKUJe",
    "outputId": "7d6d7a02-cadf-4189-964e-9cd5f8bb081d"
   },
   "outputs": [
    {
     "name": "stdout",
     "output_type": "stream",
     "text": [
      "              precision    recall  f1-score   support\n",
      "\n",
      "        -1.0       0.97      0.98      0.97       601\n",
      "         1.0       0.94      0.95      0.94       388\n",
      "         2.0       0.97      0.99      0.98       452\n",
      "         3.0       0.99      0.98      0.98       411\n",
      "         4.0       0.98      0.98      0.98       443\n",
      "         5.0       0.97      0.97      0.97       425\n",
      "         6.0       0.98      0.97      0.97       553\n",
      "         7.0       0.97      0.95      0.96       379\n",
      "         8.0       0.95      0.94      0.94       297\n",
      "         9.0       0.98      0.98      0.98       434\n",
      "        10.0       0.93      0.95      0.94       412\n",
      "        11.0       0.98      0.97      0.97       529\n",
      "        12.0       0.98      0.95      0.97       478\n",
      "        13.0       0.87      0.91      0.89       151\n",
      "        14.0       0.94      0.91      0.93       145\n",
      "        15.0       0.95      0.98      0.96       376\n",
      "        16.0       0.94      0.90      0.92       239\n",
      "        17.0       0.90      0.97      0.93       235\n",
      "        18.0       0.97      0.97      0.97       467\n",
      "        19.0       0.95      0.96      0.96       446\n",
      "        20.0       0.93      0.95      0.94       421\n",
      "        21.0       0.95      0.94      0.95       444\n",
      "        22.0       0.97      0.97      0.97       494\n",
      "        23.0       0.99      0.94      0.96       457\n",
      "        24.0       0.95      0.97      0.96       409\n",
      "        25.0       1.00      0.96      0.98       476\n",
      "        26.0       1.00      0.98      0.99       457\n",
      "\n",
      "    accuracy                           0.96     11019\n",
      "   macro avg       0.96      0.96      0.96     11019\n",
      "weighted avg       0.96      0.96      0.96     11019\n",
      "\n",
      "time: 56.5 s (started: 2024-12-24 10:13:13 +00:00)\n"
     ]
    }
   ],
   "source": [
    "rf_grass_1, accuracy_rf_grass_1, f1_score_rf_grass_1 = apply_model_1('Random Forest', X_train_grass, y_train_grass, X_test_grass, y_test_grass)\n",
    "dump(rf_grass_1, '/content/drive/MyDrive/UIT/HK5/CS231/Đồ án/Source code/Model/rf_grass_1.h5')\n",
    "accuracy_1.append(accuracy_rf_grass_1)\n",
    "f1_score_1.append(f1_score_rf_grass_1)"
   ]
  },
  {
   "cell_type": "code",
   "execution_count": 43,
   "metadata": {
    "colab": {
     "base_uri": "https://localhost:8080/"
    },
    "executionInfo": {
     "elapsed": 24122,
     "status": "ok",
     "timestamp": 1735035274565,
     "user": {
      "displayName": "Uyên Lưu Bảo",
      "userId": "10825055318362925261"
     },
     "user_tz": -420
    },
    "id": "m1H7fMiWBns_",
    "outputId": "325683ba-7642-476e-9bd2-1836cf20d9dd"
   },
   "outputs": [
    {
     "name": "stdout",
     "output_type": "stream",
     "text": [
      "              precision    recall  f1-score   support\n",
      "\n",
      "        -1.0       1.00      0.99      0.99        89\n",
      "         1.0       1.00      0.99      0.99       100\n",
      "         2.0       1.00      1.00      1.00       100\n",
      "         3.0       1.00      1.00      1.00       100\n",
      "         4.0       1.00      0.97      0.98       100\n",
      "         5.0       0.98      1.00      0.99       100\n",
      "         6.0       1.00      1.00      1.00       100\n",
      "         7.0       0.99      0.98      0.98        99\n",
      "         8.0       0.98      0.99      0.98        98\n",
      "         9.0       1.00      0.99      0.99       100\n",
      "        10.0       0.98      0.97      0.97        92\n",
      "        11.0       1.00      0.99      0.99       100\n",
      "        12.0       1.00      1.00      1.00       100\n",
      "        13.0       0.99      1.00      1.00       100\n",
      "        14.0       1.00      1.00      1.00       100\n",
      "        15.0       0.99      1.00      1.00       100\n",
      "        16.0       0.99      0.99      0.99        90\n",
      "        17.0       0.96      0.98      0.97        81\n",
      "        18.0       0.99      1.00      1.00       100\n",
      "        19.0       1.00      0.99      0.99       100\n",
      "        20.0       0.99      1.00      1.00       100\n",
      "        21.0       0.99      0.99      0.99       100\n",
      "        22.0       1.00      1.00      1.00       100\n",
      "        23.0       0.99      1.00      1.00       100\n",
      "        24.0       0.99      1.00      1.00       100\n",
      "        25.0       1.00      1.00      1.00        99\n",
      "        26.0       1.00      1.00      1.00       100\n",
      "\n",
      "    accuracy                           0.99      2648\n",
      "   macro avg       0.99      0.99      0.99      2648\n",
      "weighted avg       0.99      0.99      0.99      2648\n",
      "\n",
      "time: 24.1 s (started: 2024-12-24 10:14:09 +00:00)\n"
     ]
    }
   ],
   "source": [
    "rf_synthetic_1, accuracy_rf_synthetic_1, f1_score_rf_synthetic_1 = apply_model_1('Random Forest', X_train_synthetic, y_train_synthetic, X_test_synthetic, y_test_synthetic)\n",
    "dump(rf_synthetic_1, '/content/drive/MyDrive/UIT/HK5/CS231/Đồ án/Source code/Model/rf_synthetic_1.h5')\n",
    "accuracy_1.append(accuracy_rf_synthetic_1)\n",
    "f1_score_1.append(f1_score_rf_synthetic_1)"
   ]
  },
  {
   "cell_type": "code",
   "execution_count": 55,
   "metadata": {
    "colab": {
     "base_uri": "https://localhost:8080/"
    },
    "executionInfo": {
     "elapsed": 110849,
     "status": "ok",
     "timestamp": 1735036632894,
     "user": {
      "displayName": "Uyên Lưu Bảo",
      "userId": "10825055318362925261"
     },
     "user_tz": -420
    },
    "id": "BcuxREAfBwTm",
    "outputId": "f388a89f-caa6-404a-8a7b-e04775d7a219"
   },
   "outputs": [
    {
     "name": "stdout",
     "output_type": "stream",
     "text": [
      "              precision    recall  f1-score   support\n",
      "\n",
      "        -1.0       0.97      0.99      0.98       898\n",
      "         1.0       0.95      0.96      0.96       488\n",
      "         2.0       0.98      0.99      0.98       552\n",
      "         3.0       0.99      0.98      0.99       511\n",
      "         4.0       0.97      0.98      0.98       543\n",
      "         5.0       0.98      0.98      0.98       525\n",
      "         6.0       0.98      0.98      0.98       653\n",
      "         7.0       0.97      0.96      0.96       478\n",
      "         8.0       0.96      0.94      0.95       395\n",
      "         9.0       0.98      0.99      0.98       534\n",
      "        10.0       0.95      0.95      0.95       504\n",
      "        11.0       0.98      0.96      0.97       629\n",
      "        12.0       0.99      0.95      0.97       578\n",
      "        13.0       0.91      0.94      0.92       251\n",
      "        14.0       0.96      0.93      0.95       245\n",
      "        15.0       0.96      0.99      0.97       476\n",
      "        16.0       0.93      0.94      0.93       329\n",
      "        17.0       0.90      0.97      0.93       316\n",
      "        18.0       0.96      0.97      0.96       567\n",
      "        19.0       0.96      0.97      0.96       546\n",
      "        20.0       0.95      0.96      0.96       521\n",
      "        21.0       0.97      0.95      0.96       544\n",
      "        22.0       0.97      0.98      0.98       594\n",
      "        23.0       0.99      0.95      0.97       557\n",
      "        24.0       0.96      0.98      0.97       509\n",
      "        25.0       0.99      0.97      0.98       575\n",
      "        26.0       1.00      0.99      0.99       557\n",
      "\n",
      "    accuracy                           0.97     13875\n",
      "   macro avg       0.97      0.97      0.97     13875\n",
      "weighted avg       0.97      0.97      0.97     13875\n",
      "\n",
      "time: 1min 50s (started: 2024-12-24 10:35:21 +00:00)\n"
     ]
    }
   ],
   "source": [
    "rf_1, accuracy_rf_1, f1_score_rf_1 = apply_model_1('Random Forest', X_train, y_train, X_test, y_test)\n",
    "dump(rf_1, '/content/drive/MyDrive/UIT/HK5/CS231/Đồ án/Source code/Model/rf_1.h5')\n",
    "accuracy_1.append(accuracy_rf_1)\n",
    "f1_score_1.append(f1_score_rf_1)"
   ]
  },
  {
   "cell_type": "markdown",
   "metadata": {
    "id": "iG83tCRFKUxD"
   },
   "source": [
    "### KNN"
   ]
  },
  {
   "cell_type": "code",
   "execution_count": 45,
   "metadata": {
    "colab": {
     "base_uri": "https://localhost:8080/"
    },
    "executionInfo": {
     "elapsed": 6452,
     "status": "ok",
     "timestamp": 1735035305884,
     "user": {
      "displayName": "Uyên Lưu Bảo",
      "userId": "10825055318362925261"
     },
     "user_tz": -420
    },
    "id": "q-OPw-yuKea6",
    "outputId": "3db25f10-6517-426d-bb5b-42d58edf00d2"
   },
   "outputs": [
    {
     "name": "stdout",
     "output_type": "stream",
     "text": [
      "              precision    recall  f1-score   support\n",
      "\n",
      "        -1.0       0.97      0.99      0.98       601\n",
      "         1.0       0.92      0.95      0.93       388\n",
      "         2.0       0.96      0.99      0.97       452\n",
      "         3.0       0.98      0.98      0.98       411\n",
      "         4.0       0.98      0.97      0.98       443\n",
      "         5.0       0.98      0.96      0.97       425\n",
      "         6.0       0.99      0.98      0.98       553\n",
      "         7.0       0.96      0.94      0.95       379\n",
      "         8.0       0.95      0.95      0.95       297\n",
      "         9.0       0.99      0.98      0.98       434\n",
      "        10.0       0.97      0.95      0.96       412\n",
      "        11.0       0.98      0.97      0.98       529\n",
      "        12.0       0.97      0.96      0.96       478\n",
      "        13.0       0.86      0.91      0.88       151\n",
      "        14.0       0.91      0.88      0.90       145\n",
      "        15.0       0.94      0.99      0.96       376\n",
      "        16.0       0.95      0.89      0.92       239\n",
      "        17.0       0.91      0.96      0.93       235\n",
      "        18.0       0.95      0.97      0.96       467\n",
      "        19.0       0.94      0.96      0.95       446\n",
      "        20.0       0.92      0.94      0.93       421\n",
      "        21.0       0.94      0.93      0.93       444\n",
      "        22.0       0.97      0.97      0.97       494\n",
      "        23.0       0.99      0.94      0.97       457\n",
      "        24.0       0.96      0.97      0.96       409\n",
      "        25.0       0.99      0.96      0.98       476\n",
      "        26.0       1.00      0.98      0.99       457\n",
      "\n",
      "    accuracy                           0.96     11019\n",
      "   macro avg       0.96      0.96      0.96     11019\n",
      "weighted avg       0.96      0.96      0.96     11019\n",
      "\n",
      "time: 6.13 s (started: 2024-12-24 10:14:59 +00:00)\n"
     ]
    }
   ],
   "source": [
    "knn_grass_1, accuracy_knn_grass_1, f1_score_knn_grass_1 = apply_model_1('KNN', X_train_grass, y_train_grass, X_test_grass, y_test_grass)\n",
    "dump(knn_grass_1, '/content/drive/MyDrive/UIT/HK5/CS231/Đồ án/Source code/Model/knn_grass_1.h5')\n",
    "accuracy_1.append(accuracy_knn_grass_1)\n",
    "f1_score_1.append(f1_score_knn_grass_1)"
   ]
  },
  {
   "cell_type": "code",
   "execution_count": 46,
   "metadata": {
    "colab": {
     "base_uri": "https://localhost:8080/"
    },
    "executionInfo": {
     "elapsed": 623,
     "status": "ok",
     "timestamp": 1735035306501,
     "user": {
      "displayName": "Uyên Lưu Bảo",
      "userId": "10825055318362925261"
     },
     "user_tz": -420
    },
    "id": "MFNjIyLpCPtx",
    "outputId": "091291e4-21df-4450-9d59-a321f6980429"
   },
   "outputs": [
    {
     "name": "stdout",
     "output_type": "stream",
     "text": [
      "              precision    recall  f1-score   support\n",
      "\n",
      "        -1.0       1.00      0.90      0.95        89\n",
      "         1.0       0.99      1.00      1.00       100\n",
      "         2.0       1.00      1.00      1.00       100\n",
      "         3.0       1.00      0.99      0.99       100\n",
      "         4.0       1.00      0.98      0.99       100\n",
      "         5.0       0.99      1.00      1.00       100\n",
      "         6.0       0.99      1.00      1.00       100\n",
      "         7.0       0.97      1.00      0.99        99\n",
      "         8.0       1.00      0.97      0.98        98\n",
      "         9.0       1.00      0.99      0.99       100\n",
      "        10.0       0.99      0.99      0.99        92\n",
      "        11.0       1.00      0.99      0.99       100\n",
      "        12.0       1.00      1.00      1.00       100\n",
      "        13.0       1.00      1.00      1.00       100\n",
      "        14.0       0.99      1.00      1.00       100\n",
      "        15.0       0.97      1.00      0.99       100\n",
      "        16.0       0.99      0.97      0.98        90\n",
      "        17.0       0.99      0.99      0.99        81\n",
      "        18.0       0.99      1.00      1.00       100\n",
      "        19.0       0.99      1.00      1.00       100\n",
      "        20.0       1.00      0.99      0.99       100\n",
      "        21.0       0.98      0.99      0.99       100\n",
      "        22.0       0.99      1.00      1.00       100\n",
      "        23.0       0.93      0.99      0.96       100\n",
      "        24.0       0.99      1.00      1.00       100\n",
      "        25.0       1.00      0.99      0.99        99\n",
      "        26.0       1.00      1.00      1.00       100\n",
      "\n",
      "    accuracy                           0.99      2648\n",
      "   macro avg       0.99      0.99      0.99      2648\n",
      "weighted avg       0.99      0.99      0.99      2648\n",
      "\n",
      "time: 719 ms (started: 2024-12-24 10:15:05 +00:00)\n"
     ]
    }
   ],
   "source": [
    "knn_synthetic_1, accuracy_knn_synthetic_1, f1_score_knn_synthetic_1 = apply_model_1('KNN', X_train_synthetic, y_train_synthetic, X_test_synthetic, y_test_synthetic)\n",
    "dump(knn_synthetic_1, '/content/drive/MyDrive/UIT/HK5/CS231/Đồ án/Source code/Model/knn_synthetic_1.h5')\n",
    "accuracy_1.append(accuracy_knn_synthetic_1)\n",
    "f1_score_1.append(f1_score_knn_synthetic_1)"
   ]
  },
  {
   "cell_type": "code",
   "execution_count": 56,
   "metadata": {
    "colab": {
     "base_uri": "https://localhost:8080/"
    },
    "executionInfo": {
     "elapsed": 12400,
     "status": "ok",
     "timestamp": 1735036646522,
     "user": {
      "displayName": "Uyên Lưu Bảo",
      "userId": "10825055318362925261"
     },
     "user_tz": -420
    },
    "id": "x3GdNuuXCPqN",
    "outputId": "77918f25-15ce-40b8-89d2-aa2681f0f1c1"
   },
   "outputs": [
    {
     "name": "stdout",
     "output_type": "stream",
     "text": [
      "              precision    recall  f1-score   support\n",
      "\n",
      "        -1.0       0.97      0.99      0.98       898\n",
      "         1.0       0.93      0.96      0.95       488\n",
      "         2.0       0.97      0.99      0.98       552\n",
      "         3.0       0.98      0.98      0.98       511\n",
      "         4.0       0.98      0.97      0.98       543\n",
      "         5.0       0.98      0.97      0.97       525\n",
      "         6.0       0.99      0.98      0.99       653\n",
      "         7.0       0.96      0.95      0.95       478\n",
      "         8.0       0.96      0.95      0.96       395\n",
      "         9.0       0.99      0.98      0.99       534\n",
      "        10.0       0.97      0.95      0.96       504\n",
      "        11.0       0.99      0.97      0.98       629\n",
      "        12.0       0.98      0.96      0.97       578\n",
      "        13.0       0.91      0.95      0.93       251\n",
      "        14.0       0.96      0.92      0.94       245\n",
      "        15.0       0.93      0.99      0.96       476\n",
      "        16.0       0.95      0.91      0.93       329\n",
      "        17.0       0.92      0.97      0.94       316\n",
      "        18.0       0.95      0.97      0.96       567\n",
      "        19.0       0.95      0.96      0.95       546\n",
      "        20.0       0.95      0.95      0.95       521\n",
      "        21.0       0.94      0.94      0.94       544\n",
      "        22.0       0.97      0.97      0.97       594\n",
      "        23.0       0.99      0.96      0.97       557\n",
      "        24.0       0.96      0.97      0.97       509\n",
      "        25.0       0.99      0.97      0.98       575\n",
      "        26.0       0.99      0.98      0.99       557\n",
      "\n",
      "    accuracy                           0.97     13875\n",
      "   macro avg       0.96      0.96      0.96     13875\n",
      "weighted avg       0.97      0.97      0.97     13875\n",
      "\n",
      "time: 12.2 s (started: 2024-12-24 10:37:13 +00:00)\n"
     ]
    }
   ],
   "source": [
    "knn_1, accuracy_knn_1, f1_score_knn_1 = apply_model_1('KNN', X_train, y_train, X_test, y_test)\n",
    "dump(knn_1, '/content/drive/MyDrive/UIT/HK5/CS231/Đồ án/Source code/Model/knn_1.h5')\n",
    "accuracy_1.append(accuracy_knn_1)\n",
    "f1_score_1.append(f1_score_knn_1)"
   ]
  },
  {
   "cell_type": "markdown",
   "metadata": {
    "id": "SIfjfOqhQfMY"
   },
   "source": [
    "## The second direction"
   ]
  },
  {
   "cell_type": "code",
   "execution_count": 48,
   "metadata": {
    "colab": {
     "base_uri": "https://localhost:8080/"
    },
    "executionInfo": {
     "elapsed": 7,
     "status": "ok",
     "timestamp": 1735035307476,
     "user": {
      "displayName": "Uyên Lưu Bảo",
      "userId": "10825055318362925261"
     },
     "user_tz": -420
    },
    "id": "zDvEM3vBQKJf",
    "outputId": "358d171a-bc64-4300-af34-d7455baf1b10"
   },
   "outputs": [
    {
     "name": "stdout",
     "output_type": "stream",
     "text": [
      "time: 2.84 ms (started: 2024-12-24 10:15:06 +00:00)\n"
     ]
    }
   ],
   "source": [
    "def apply_ocsvm(X_train_alphabet, X_test, y_test):\n",
    "    ocsvm = OneClassSVM(nu=0.5, kernel='rbf', gamma='scale')\n",
    "    ocsvm.fit(X_train_alphabet, np.ones(len(X_train_alphabet)))\n",
    "\n",
    "    y_predict = ocsvm.predict(X_test)\n",
    "\n",
    "    y_true = []\n",
    "    for label in y_test:\n",
    "        if label == -1:\n",
    "            y_true.append(-1)\n",
    "        else:\n",
    "            y_true.append(1)\n",
    "\n",
    "    print(classification_report(y_predict, y_true))\n",
    "\n",
    "    return ocsvm\n",
    "\n",
    "\n",
    "def accuracy_with_ocsvm(model, ocsvm, X_test, y_test):\n",
    "    index_alphabet = [index for index, value in enumerate(ocsvm.predict(X_test)) if value == 1]\n",
    "    index_numbers = [index for index, value in enumerate(ocsvm.predict(X_test)) if value == -1]\n",
    "\n",
    "    X_test_alphabet = X_test[index_alphabet]\n",
    "    y_test_alphabet = y_test[index_alphabet]\n",
    "    X_test_numbers = X_test[index_numbers]\n",
    "    y_test_numbers = y_test[index_numbers]\n",
    "\n",
    "    predictions = model.predict(X_test_alphabet)\n",
    "    actual_labels = y_test_alphabet\n",
    "\n",
    "    num_numbers = len(y_test_numbers)\n",
    "\n",
    "    predicted_concat = np.concatenate((predictions, -1 * np.ones(num_numbers)), axis = 0)\n",
    "    actual_concat = np.concatenate((actual_labels.reshape(-1, 1), np.expand_dims(-1 * np.ones(num_numbers), axis = 1)), axis = 0)\n",
    "\n",
    "    print(classification_report(actual_concat, predicted_concat))\n",
    "\n",
    "    return accuracy_score(actual_concat, predicted_concat), f1_score(actual_concat, predicted_concat, average = 'macro')"
   ]
  },
  {
   "cell_type": "code",
   "execution_count": 49,
   "metadata": {
    "colab": {
     "base_uri": "https://localhost:8080/"
    },
    "executionInfo": {
     "elapsed": 6,
     "status": "ok",
     "timestamp": 1735035307476,
     "user": {
      "displayName": "Uyên Lưu Bảo",
      "userId": "10825055318362925261"
     },
     "user_tz": -420
    },
    "id": "vJqnKA7rKnz1",
    "outputId": "6944a873-8aad-4bd8-e26a-717072a00d43"
   },
   "outputs": [
    {
     "name": "stdout",
     "output_type": "stream",
     "text": [
      "time: 668 µs (started: 2024-12-24 10:15:06 +00:00)\n"
     ]
    }
   ],
   "source": [
    "accuracy_2 = []\n",
    "f1_score_2 = []"
   ]
  },
  {
   "cell_type": "markdown",
   "metadata": {
    "id": "Mkt2VEDpDrW-"
   },
   "source": [
    "### One class SVM"
   ]
  },
  {
   "cell_type": "code",
   "execution_count": 50,
   "metadata": {
    "colab": {
     "base_uri": "https://localhost:8080/"
    },
    "executionInfo": {
     "elapsed": 185005,
     "status": "ok",
     "timestamp": 1735035492477,
     "user": {
      "displayName": "Uyên Lưu Bảo",
      "userId": "10825055318362925261"
     },
     "user_tz": -420
    },
    "id": "B-XGQb9nDrBX",
    "outputId": "10525fee-0b68-4af9-8bd9-69b395d6161b"
   },
   "outputs": [
    {
     "name": "stdout",
     "output_type": "stream",
     "text": [
      "              precision    recall  f1-score   support\n",
      "\n",
      "          -1       0.53      0.06      0.10      5592\n",
      "           1       0.49      0.95      0.65      5427\n",
      "\n",
      "    accuracy                           0.50     11019\n",
      "   macro avg       0.51      0.50      0.38     11019\n",
      "weighted avg       0.51      0.50      0.37     11019\n",
      "\n"
     ]
    },
    {
     "data": {
      "text/plain": [
       "['/content/drive/MyDrive/UIT/HK5/CS231/Đồ án/Source code/Model/ocsvm_grass.h5']"
      ]
     },
     "execution_count": 50,
     "metadata": {},
     "output_type": "execute_result"
    },
    {
     "name": "stdout",
     "output_type": "stream",
     "text": [
      "time: 3min 5s (started: 2024-12-24 10:15:06 +00:00)\n"
     ]
    }
   ],
   "source": [
    "ocsvm_grass = apply_ocsvm(X_train_grass_alphabet, X_test_grass, y_test_grass)\n",
    "dump(ocsvm_grass, '/content/drive/MyDrive/UIT/HK5/CS231/Đồ án/Source code/Model/ocsvm_grass.h5')"
   ]
  },
  {
   "cell_type": "code",
   "execution_count": 51,
   "metadata": {
    "colab": {
     "base_uri": "https://localhost:8080/"
    },
    "executionInfo": {
     "elapsed": 46409,
     "status": "ok",
     "timestamp": 1735035538878,
     "user": {
      "displayName": "Uyên Lưu Bảo",
      "userId": "10825055318362925261"
     },
     "user_tz": -420
    },
    "id": "RqmnZgyFGgCp",
    "outputId": "c79a8750-ce78-4c9a-faff-e220762f3610"
   },
   "outputs": [
    {
     "name": "stdout",
     "output_type": "stream",
     "text": [
      "              precision    recall  f1-score   support\n",
      "\n",
      "          -1       0.78      0.05      0.10      1341\n",
      "           1       0.50      0.98      0.67      1307\n",
      "\n",
      "    accuracy                           0.51      2648\n",
      "   macro avg       0.64      0.52      0.38      2648\n",
      "weighted avg       0.64      0.51      0.38      2648\n",
      "\n"
     ]
    },
    {
     "data": {
      "text/plain": [
       "['/content/drive/MyDrive/UIT/HK5/CS231/Đồ án/Source code/Model/ocsvm_synthetic.h5']"
      ]
     },
     "execution_count": 51,
     "metadata": {},
     "output_type": "execute_result"
    },
    {
     "name": "stdout",
     "output_type": "stream",
     "text": [
      "time: 46.3 s (started: 2024-12-24 10:18:11 +00:00)\n"
     ]
    }
   ],
   "source": [
    "ocsvm_synthetic = apply_ocsvm(X_train_synthetic_alphabet, X_test_synthetic, y_test_synthetic)\n",
    "dump(ocsvm_synthetic, '/content/drive/MyDrive/UIT/HK5/CS231/Đồ án/Source code/Model/ocsvm_synthetic.h5')"
   ]
  },
  {
   "cell_type": "code",
   "execution_count": 57,
   "metadata": {
    "colab": {
     "base_uri": "https://localhost:8080/"
    },
    "executionInfo": {
     "elapsed": 403689,
     "status": "ok",
     "timestamp": 1735037050209,
     "user": {
      "displayName": "Uyên Lưu Bảo",
      "userId": "10825055318362925261"
     },
     "user_tz": -420
    },
    "id": "86Ior299GjEl",
    "outputId": "29347340-b68e-4f90-a2b5-77fe5d6844b1"
   },
   "outputs": [
    {
     "name": "stdout",
     "output_type": "stream",
     "text": [
      "              precision    recall  f1-score   support\n",
      "\n",
      "          -1       0.60      0.07      0.13      7484\n",
      "           1       0.47      0.94      0.62      6391\n",
      "\n",
      "    accuracy                           0.47     13875\n",
      "   macro avg       0.53      0.51      0.38     13875\n",
      "weighted avg       0.54      0.47      0.36     13875\n",
      "\n"
     ]
    },
    {
     "data": {
      "text/plain": [
       "['/content/drive/MyDrive/UIT/HK5/CS231/Đồ án/Source code/Model/ocsvm.h5']"
      ]
     },
     "execution_count": 57,
     "metadata": {},
     "output_type": "execute_result"
    },
    {
     "name": "stdout",
     "output_type": "stream",
     "text": [
      "time: 6min 43s (started: 2024-12-24 10:37:25 +00:00)\n"
     ]
    }
   ],
   "source": [
    "ocsvm = apply_ocsvm(X_train_alphabet, X_test, y_test)\n",
    "dump(ocsvm, '/content/drive/MyDrive/UIT/HK5/CS231/Đồ án/Source code/Model/ocsvm.h5')"
   ]
  },
  {
   "cell_type": "markdown",
   "metadata": {
    "id": "E51RMdO8Gu6Y"
   },
   "source": [
    "### SVC"
   ]
  },
  {
   "cell_type": "code",
   "execution_count": 58,
   "metadata": {
    "colab": {
     "base_uri": "https://localhost:8080/"
    },
    "executionInfo": {
     "elapsed": 59111,
     "status": "ok",
     "timestamp": 1735037109317,
     "user": {
      "displayName": "Uyên Lưu Bảo",
      "userId": "10825055318362925261"
     },
     "user_tz": -420
    },
    "id": "xAtch6P4G0Fy",
    "outputId": "c3f63668-d51f-4400-aac7-997de7b60e47"
   },
   "outputs": [
    {
     "name": "stdout",
     "output_type": "stream",
     "text": [
      "              precision    recall  f1-score   support\n",
      "\n",
      "        -1.0       1.00      0.95      0.98      5873\n",
      "         1.0       0.99      0.98      0.99       292\n",
      "         2.0       0.92      0.99      0.96       217\n",
      "         3.0       0.97      0.99      0.98        92\n",
      "         4.0       0.85      0.99      0.91       282\n",
      "         5.0       0.98      0.98      0.98       316\n",
      "         6.0       0.62      0.97      0.76       119\n",
      "         7.0       0.88      0.95      0.91       148\n",
      "         8.0       0.93      0.96      0.95       101\n",
      "         9.0       0.87      0.97      0.92       138\n",
      "        10.0       0.90      0.88      0.89       112\n",
      "        11.0       0.94      0.97      0.95       317\n",
      "        12.0       0.95      0.95      0.95       213\n",
      "        13.0       0.96      0.83      0.89        30\n",
      "        14.0       1.00      0.90      0.95        20\n",
      "        15.0       0.95      0.98      0.96       191\n",
      "        16.0       1.00      0.67      0.80         6\n",
      "        17.0       1.00      0.50      0.67         2\n",
      "        18.0       0.90      0.94      0.92       278\n",
      "        19.0       0.96      0.99      0.98       326\n",
      "        20.0       0.93      0.98      0.95       260\n",
      "        21.0       0.93      0.92      0.93       303\n",
      "        22.0       0.85      0.97      0.91       333\n",
      "        23.0       0.82      0.95      0.88       243\n",
      "        24.0       0.96      0.98      0.97       323\n",
      "        25.0       0.99      0.95      0.97       189\n",
      "        26.0       1.00      0.99      0.99       295\n",
      "\n",
      "    accuracy                           0.96     11019\n",
      "   macro avg       0.93      0.93      0.92     11019\n",
      "weighted avg       0.96      0.96      0.96     11019\n",
      "\n",
      "time: 59.1 s (started: 2024-12-24 10:44:09 +00:00)\n"
     ]
    }
   ],
   "source": [
    "accuracy_svc_grass_ocsvm_2, f1_score_svc_grass_ocsvm_2 = accuracy_with_ocsvm(svc_grass, ocsvm_grass, X_test_grass, y_test_grass)\n",
    "accuracy_2.append(accuracy_svc_grass_ocsvm_2)\n",
    "f1_score_2.append(f1_score_svc_grass_ocsvm_2)"
   ]
  },
  {
   "cell_type": "code",
   "execution_count": 59,
   "metadata": {
    "colab": {
     "base_uri": "https://localhost:8080/"
    },
    "executionInfo": {
     "elapsed": 18054,
     "status": "ok",
     "timestamp": 1735037127363,
     "user": {
      "displayName": "Uyên Lưu Bảo",
      "userId": "10825055318362925261"
     },
     "user_tz": -420
    },
    "id": "2bTOC8GBKynm",
    "outputId": "aee7c442-af8b-4426-a1f6-67b008c40758"
   },
   "outputs": [
    {
     "name": "stdout",
     "output_type": "stream",
     "text": [
      "              precision    recall  f1-score   support\n",
      "\n",
      "        -1.0       1.00      0.96      0.98       996\n",
      "         1.0       0.99      0.99      0.99        75\n",
      "         2.0       0.97      1.00      0.99        39\n",
      "         3.0       1.00      1.00      1.00        95\n",
      "         4.0       1.00      0.96      0.98        69\n",
      "         5.0       0.97      1.00      0.98        95\n",
      "         6.0       0.73      1.00      0.85        47\n",
      "         7.0       1.00      1.00      1.00        52\n",
      "         8.0       1.00      1.00      1.00        10\n",
      "         9.0       1.00      1.00      1.00        61\n",
      "        10.0       1.00      1.00      1.00         9\n",
      "        11.0       0.95      1.00      0.97        73\n",
      "        12.0       0.98      1.00      0.99        82\n",
      "        13.0       1.00      1.00      1.00        79\n",
      "        14.0       1.00      1.00      1.00        91\n",
      "        15.0       1.00      1.00      1.00        66\n",
      "        16.0       1.00      1.00      1.00        36\n",
      "        17.0       1.00      1.00      1.00        10\n",
      "        18.0       0.99      1.00      1.00       100\n",
      "        19.0       1.00      1.00      1.00        75\n",
      "        20.0       0.99      1.00      0.99        98\n",
      "        21.0       0.97      0.98      0.98        66\n",
      "        22.0       0.99      1.00      0.99        68\n",
      "        23.0       0.80      1.00      0.89        36\n",
      "        24.0       0.99      0.99      0.99       100\n",
      "        25.0       1.00      0.99      0.99        85\n",
      "        26.0       0.90      1.00      0.95        35\n",
      "\n",
      "    accuracy                           0.98      2648\n",
      "   macro avg       0.97      1.00      0.98      2648\n",
      "weighted avg       0.98      0.98      0.98      2648\n",
      "\n",
      "time: 18.1 s (started: 2024-12-24 10:45:08 +00:00)\n"
     ]
    }
   ],
   "source": [
    "accuracy_svc_synthetic_ocsvm_2, f1_score_svc_synthetic_ocsvm_2 = accuracy_with_ocsvm(svc_synthetic, ocsvm, X_test_synthetic, y_test_synthetic)\n",
    "accuracy_2.append(accuracy_svc_synthetic_ocsvm_2)\n",
    "f1_score_2.append(f1_score_svc_synthetic_ocsvm_2)"
   ]
  },
  {
   "cell_type": "code",
   "execution_count": 67,
   "metadata": {
    "colab": {
     "base_uri": "https://localhost:8080/"
    },
    "executionInfo": {
     "elapsed": 114115,
     "status": "ok",
     "timestamp": 1735037498945,
     "user": {
      "displayName": "Uyên Lưu Bảo",
      "userId": "10825055318362925261"
     },
     "user_tz": -420
    },
    "id": "fLdRNze5K1Fd",
    "outputId": "65609292-d97d-43ab-fd4a-08d012626bfe"
   },
   "outputs": [
    {
     "name": "stdout",
     "output_type": "stream",
     "text": [
      "              precision    recall  f1-score   support\n",
      "\n",
      "        -1.0       1.00      0.95      0.98      7839\n",
      "         1.0       0.98      0.99      0.98       357\n",
      "         2.0       0.93      1.00      0.96       228\n",
      "         3.0       0.94      0.99      0.97       143\n",
      "         4.0       0.93      0.99      0.96       298\n",
      "         5.0       0.98      0.99      0.98       373\n",
      "         6.0       0.54      0.98      0.69       124\n",
      "         7.0       0.96      0.97      0.97       184\n",
      "         8.0       0.97      0.95      0.96        99\n",
      "         9.0       0.92      0.98      0.95       179\n",
      "        10.0       0.91      0.90      0.91        91\n",
      "        11.0       0.96      0.96      0.96       341\n",
      "        12.0       0.98      0.95      0.96       255\n",
      "        13.0       0.98      0.91      0.94       107\n",
      "        14.0       0.95      0.98      0.96        97\n",
      "        15.0       0.97      0.99      0.98       207\n",
      "        16.0       0.95      0.95      0.95        40\n",
      "        17.0       1.00      0.92      0.96        12\n",
      "        18.0       0.94      0.96      0.95       341\n",
      "        19.0       0.98      1.00      0.99       397\n",
      "        20.0       0.94      0.97      0.95       329\n",
      "        21.0       0.95      0.91      0.93       343\n",
      "        22.0       0.80      0.97      0.88       375\n",
      "        23.0       0.76      0.95      0.85       248\n",
      "        24.0       0.95      0.99      0.97       408\n",
      "        25.0       1.00      0.93      0.97       181\n",
      "        26.0       0.85      0.99      0.91       279\n",
      "\n",
      "    accuracy                           0.96     13875\n",
      "   macro avg       0.93      0.96      0.94     13875\n",
      "weighted avg       0.97      0.96      0.96     13875\n",
      "\n",
      "time: 1min 53s (started: 2024-12-24 10:49:44 +00:00)\n"
     ]
    }
   ],
   "source": [
    "accuracy_svc_ocsvm_2, f1_score_svc_ocsvm_2 = accuracy_with_ocsvm(svc, ocsvm, X_test, y_test)\n",
    "accuracy_2.append(accuracy_svc_ocsvm_2)\n",
    "f1_score_2.append(f1_score_svc_ocsvm_2)"
   ]
  },
  {
   "cell_type": "markdown",
   "metadata": {
    "id": "TINWEXDmGwgT"
   },
   "source": [
    "### Random Forest"
   ]
  },
  {
   "cell_type": "code",
   "execution_count": 61,
   "metadata": {
    "colab": {
     "base_uri": "https://localhost:8080/"
    },
    "executionInfo": {
     "elapsed": 79546,
     "status": "ok",
     "timestamp": 1735037228274,
     "user": {
      "displayName": "Uyên Lưu Bảo",
      "userId": "10825055318362925261"
     },
     "user_tz": -420
    },
    "id": "cLZr_f5QG0dC",
    "outputId": "746c2744-88c2-41f1-f7ba-0c518cbbbfd9"
   },
   "outputs": [
    {
     "name": "stdout",
     "output_type": "stream",
     "text": [
      "              precision    recall  f1-score   support\n",
      "\n",
      "        -1.0       1.00      0.97      0.98      6635\n",
      "         1.0       0.99      0.98      0.98       282\n",
      "         2.0       0.91      0.99      0.95       189\n",
      "         3.0       0.96      0.98      0.97        48\n",
      "         4.0       0.90      1.00      0.95       229\n",
      "         5.0       0.98      1.00      0.99       278\n",
      "         6.0       0.62      0.97      0.76        77\n",
      "         7.0       0.94      0.95      0.94       132\n",
      "         8.0       0.91      0.94      0.93        89\n",
      "         9.0       0.97      0.97      0.97       118\n",
      "        10.0       0.81      0.93      0.86        82\n",
      "        11.0       0.87      0.98      0.92       268\n",
      "        12.0       0.95      0.95      0.95       173\n",
      "        13.0       0.96      0.86      0.91        28\n",
      "        14.0       1.00      0.83      0.91         6\n",
      "        15.0       0.99      0.98      0.98       141\n",
      "        16.0       0.75      0.75      0.75         4\n",
      "        17.0       0.00      0.00      0.00         2\n",
      "        18.0       0.92      0.98      0.95       241\n",
      "        19.0       0.97      1.00      0.98       322\n",
      "        20.0       0.95      0.98      0.96       231\n",
      "        21.0       0.96      0.95      0.96       277\n",
      "        22.0       0.90      0.97      0.93       307\n",
      "        23.0       0.76      0.95      0.84       212\n",
      "        24.0       0.96      0.99      0.97       308\n",
      "        25.0       1.00      0.94      0.97        96\n",
      "        26.0       1.00      0.98      0.99       244\n",
      "\n",
      "    accuracy                           0.97     11019\n",
      "   macro avg       0.89      0.92      0.90     11019\n",
      "weighted avg       0.97      0.97      0.97     11019\n",
      "\n",
      "time: 1min 19s (started: 2024-12-24 10:45:48 +00:00)\n"
     ]
    }
   ],
   "source": [
    "accuracy_rf_grass_ocsvm_2, f1_score_rf_grass_ocsvm_2 = accuracy_with_ocsvm(rf_grass, ocsvm, X_test_grass, y_test_grass)\n",
    "accuracy_2.append(accuracy_rf_grass_ocsvm_2)\n",
    "f1_score_2.append(f1_score_rf_grass_ocsvm_2)"
   ]
  },
  {
   "cell_type": "code",
   "execution_count": 62,
   "metadata": {
    "colab": {
     "base_uri": "https://localhost:8080/"
    },
    "executionInfo": {
     "elapsed": 21585,
     "status": "ok",
     "timestamp": 1735037249857,
     "user": {
      "displayName": "Uyên Lưu Bảo",
      "userId": "10825055318362925261"
     },
     "user_tz": -420
    },
    "id": "ttXLsxlWK9WQ",
    "outputId": "dc960141-cc6b-43af-8d68-ace626c24786"
   },
   "outputs": [
    {
     "name": "stdout",
     "output_type": "stream",
     "text": [
      "              precision    recall  f1-score   support\n",
      "\n",
      "        -1.0       1.00      0.96      0.98       996\n",
      "         1.0       0.99      0.99      0.99        75\n",
      "         2.0       0.97      1.00      0.99        39\n",
      "         3.0       1.00      1.00      1.00        95\n",
      "         4.0       1.00      0.99      0.99        69\n",
      "         5.0       0.97      1.00      0.98        95\n",
      "         6.0       0.75      1.00      0.85        47\n",
      "         7.0       0.98      0.98      0.98        52\n",
      "         8.0       0.91      1.00      0.95        10\n",
      "         9.0       1.00      0.98      0.99        61\n",
      "        10.0       1.00      0.89      0.94         9\n",
      "        11.0       0.99      1.00      0.99        73\n",
      "        12.0       0.99      1.00      0.99        82\n",
      "        13.0       1.00      1.00      1.00        79\n",
      "        14.0       1.00      1.00      1.00        91\n",
      "        15.0       1.00      1.00      1.00        66\n",
      "        16.0       1.00      1.00      1.00        36\n",
      "        17.0       1.00      1.00      1.00        10\n",
      "        18.0       0.99      1.00      1.00       100\n",
      "        19.0       1.00      1.00      1.00        75\n",
      "        20.0       0.99      1.00      0.99        98\n",
      "        21.0       1.00      0.98      0.99        66\n",
      "        22.0       0.92      1.00      0.96        68\n",
      "        23.0       0.78      1.00      0.88        36\n",
      "        24.0       1.00      0.99      0.99       100\n",
      "        25.0       1.00      0.99      0.99        85\n",
      "        26.0       0.88      1.00      0.93        35\n",
      "\n",
      "    accuracy                           0.98      2648\n",
      "   macro avg       0.97      0.99      0.98      2648\n",
      "weighted avg       0.98      0.98      0.98      2648\n",
      "\n",
      "time: 21.6 s (started: 2024-12-24 10:47:07 +00:00)\n"
     ]
    }
   ],
   "source": [
    "accuracy_rf_synthetic_ocsvm_2, f1_score_rf_synthetic_ocsvm_2 = accuracy_with_ocsvm(rf_synthetic, ocsvm, X_test_synthetic, y_test_synthetic)\n",
    "accuracy_2.append(accuracy_rf_synthetic_ocsvm_2)\n",
    "f1_score_2.append(f1_score_rf_synthetic_ocsvm_2)"
   ]
  },
  {
   "cell_type": "code",
   "execution_count": 68,
   "metadata": {
    "colab": {
     "base_uri": "https://localhost:8080/"
    },
    "executionInfo": {
     "elapsed": 103968,
     "status": "ok",
     "timestamp": 1735037689892,
     "user": {
      "displayName": "Uyên Lưu Bảo",
      "userId": "10825055318362925261"
     },
     "user_tz": -420
    },
    "id": "rF2js1bVK_le",
    "outputId": "192ffa5b-8280-4242-a97b-4892a4cc0561"
   },
   "outputs": [
    {
     "name": "stdout",
     "output_type": "stream",
     "text": [
      "              precision    recall  f1-score   support\n",
      "\n",
      "        -1.0       1.00      0.95      0.98      7839\n",
      "         1.0       0.99      0.99      0.99       357\n",
      "         2.0       0.90      0.99      0.95       228\n",
      "         3.0       0.97      0.99      0.98       143\n",
      "         4.0       0.89      0.99      0.94       298\n",
      "         5.0       0.97      1.00      0.99       373\n",
      "         6.0       0.58      0.99      0.73       124\n",
      "         7.0       0.98      0.95      0.96       184\n",
      "         8.0       0.92      0.96      0.94        99\n",
      "         9.0       0.97      0.99      0.98       179\n",
      "        10.0       0.90      0.90      0.90        91\n",
      "        11.0       0.89      0.97      0.93       341\n",
      "        12.0       0.95      0.95      0.95       255\n",
      "        13.0       0.97      0.96      0.97       107\n",
      "        14.0       0.98      0.99      0.98        97\n",
      "        15.0       0.99      1.00      0.99       207\n",
      "        16.0       0.95      1.00      0.98        40\n",
      "        17.0       1.00      0.92      0.96        12\n",
      "        18.0       0.97      0.97      0.97       341\n",
      "        19.0       0.99      0.99      0.99       397\n",
      "        20.0       0.96      0.98      0.97       329\n",
      "        21.0       0.94      0.95      0.95       343\n",
      "        22.0       0.87      0.98      0.92       375\n",
      "        23.0       0.76      0.96      0.85       248\n",
      "        24.0       0.96      0.99      0.98       408\n",
      "        25.0       0.99      0.94      0.97       181\n",
      "        26.0       0.87      0.98      0.92       279\n",
      "\n",
      "    accuracy                           0.96     13875\n",
      "   macro avg       0.93      0.97      0.95     13875\n",
      "weighted avg       0.97      0.96      0.97     13875\n",
      "\n",
      "time: 1min 43s (started: 2024-12-24 10:53:05 +00:00)\n"
     ]
    }
   ],
   "source": [
    "accuracy_rf_ocsvm_2, f1_score_rf_ocsvm_2 = accuracy_with_ocsvm(rf, ocsvm, X_test, y_test)\n",
    "accuracy_2.append(accuracy_rf_ocsvm_2)\n",
    "f1_score_2.append(f1_score_rf_ocsvm_2)"
   ]
  },
  {
   "cell_type": "markdown",
   "metadata": {
    "id": "K0_3G3p7Gypr"
   },
   "source": [
    "### KNN"
   ]
  },
  {
   "cell_type": "code",
   "execution_count": 64,
   "metadata": {
    "colab": {
     "base_uri": "https://localhost:8080/"
    },
    "executionInfo": {
     "elapsed": 80692,
     "status": "ok",
     "timestamp": 1735037348070,
     "user": {
      "displayName": "Uyên Lưu Bảo",
      "userId": "10825055318362925261"
     },
     "user_tz": -420
    },
    "id": "Ew-ZyftZGuCU",
    "outputId": "dc6b177e-bc0c-4c0f-8308-19beb19b924b"
   },
   "outputs": [
    {
     "name": "stdout",
     "output_type": "stream",
     "text": [
      "              precision    recall  f1-score   support\n",
      "\n",
      "        -1.0       1.00      0.97      0.98      6635\n",
      "         1.0       0.98      0.98      0.98       282\n",
      "         2.0       0.74      0.99      0.85       189\n",
      "         3.0       0.94      0.98      0.96        48\n",
      "         4.0       0.97      1.00      0.98       229\n",
      "         5.0       0.95      0.99      0.97       278\n",
      "         6.0       0.80      0.96      0.88        77\n",
      "         7.0       0.95      0.93      0.94       132\n",
      "         8.0       0.92      0.97      0.95        89\n",
      "         9.0       0.94      0.97      0.96       118\n",
      "        10.0       0.90      0.89      0.90        82\n",
      "        11.0       0.85      0.98      0.91       268\n",
      "        12.0       0.98      0.95      0.96       173\n",
      "        13.0       0.93      0.93      0.93        28\n",
      "        14.0       1.00      0.83      0.91         6\n",
      "        15.0       0.98      0.99      0.99       141\n",
      "        16.0       1.00      0.75      0.86         4\n",
      "        17.0       1.00      0.50      0.67         2\n",
      "        18.0       0.90      0.96      0.93       241\n",
      "        19.0       0.97      0.99      0.98       322\n",
      "        20.0       0.95      0.98      0.96       231\n",
      "        21.0       0.89      0.95      0.92       277\n",
      "        22.0       0.91      0.97      0.94       307\n",
      "        23.0       0.89      0.96      0.92       212\n",
      "        24.0       0.96      0.99      0.97       308\n",
      "        25.0       0.98      0.93      0.95        96\n",
      "        26.0       1.00      0.98      0.99       244\n",
      "\n",
      "    accuracy                           0.97     11019\n",
      "   macro avg       0.94      0.94      0.93     11019\n",
      "weighted avg       0.97      0.97      0.97     11019\n",
      "\n",
      "time: 1min 20s (started: 2024-12-24 10:47:46 +00:00)\n"
     ]
    }
   ],
   "source": [
    "accuracy_knn_grass_ocsvm_2, f1_score_knn_grass_ocsvm_2 = accuracy_with_ocsvm(knn_grass, ocsvm, X_test_grass, y_test_grass)\n",
    "accuracy_2.append(accuracy_knn_grass_ocsvm_2)\n",
    "f1_score_2.append(f1_score_knn_grass_ocsvm_2)"
   ]
  },
  {
   "cell_type": "code",
   "execution_count": 65,
   "metadata": {
    "colab": {
     "base_uri": "https://localhost:8080/"
    },
    "executionInfo": {
     "elapsed": 17728,
     "status": "ok",
     "timestamp": 1735037365789,
     "user": {
      "displayName": "Uyên Lưu Bảo",
      "userId": "10825055318362925261"
     },
     "user_tz": -420
    },
    "id": "Eu4JA7M9LJY5",
    "outputId": "0f78c411-6cf2-43e2-eb8d-0d304086095d"
   },
   "outputs": [
    {
     "name": "stdout",
     "output_type": "stream",
     "text": [
      "              precision    recall  f1-score   support\n",
      "\n",
      "        -1.0       1.00      0.96      0.98       996\n",
      "         1.0       0.99      1.00      0.99        75\n",
      "         2.0       0.95      1.00      0.97        39\n",
      "         3.0       1.00      0.99      0.99        95\n",
      "         4.0       1.00      0.97      0.99        69\n",
      "         5.0       0.99      1.00      0.99        95\n",
      "         6.0       0.76      1.00      0.86        47\n",
      "         7.0       1.00      1.00      1.00        52\n",
      "         8.0       1.00      1.00      1.00        10\n",
      "         9.0       1.00      1.00      1.00        61\n",
      "        10.0       1.00      1.00      1.00         9\n",
      "        11.0       0.97      1.00      0.99        73\n",
      "        12.0       0.99      1.00      0.99        82\n",
      "        13.0       1.00      1.00      1.00        79\n",
      "        14.0       1.00      1.00      1.00        91\n",
      "        15.0       0.97      1.00      0.99        66\n",
      "        16.0       1.00      0.97      0.99        36\n",
      "        17.0       1.00      1.00      1.00        10\n",
      "        18.0       0.99      1.00      1.00       100\n",
      "        19.0       1.00      1.00      1.00        75\n",
      "        20.0       1.00      1.00      1.00        98\n",
      "        21.0       0.97      0.98      0.98        66\n",
      "        22.0       0.96      1.00      0.98        68\n",
      "        23.0       0.78      1.00      0.88        36\n",
      "        24.0       0.99      1.00      1.00       100\n",
      "        25.0       1.00      0.99      0.99        85\n",
      "        26.0       0.88      1.00      0.93        35\n",
      "\n",
      "    accuracy                           0.98      2648\n",
      "   macro avg       0.97      1.00      0.98      2648\n",
      "weighted avg       0.99      0.98      0.98      2648\n",
      "\n",
      "time: 17.7 s (started: 2024-12-24 10:49:07 +00:00)\n"
     ]
    }
   ],
   "source": [
    "accuracy_knn_synthetic_ocsvm_2, f1_score_rf_synthetic_ocsvm_2 = accuracy_with_ocsvm(knn_synthetic, ocsvm, X_test_synthetic, y_test_synthetic)\n",
    "accuracy_2.append(accuracy_knn_synthetic_ocsvm_2)\n",
    "f1_score_2.append(f1_score_rf_synthetic_ocsvm_2)"
   ]
  },
  {
   "cell_type": "code",
   "execution_count": 69,
   "metadata": {
    "colab": {
     "base_uri": "https://localhost:8080/"
    },
    "executionInfo": {
     "elapsed": 97002,
     "status": "ok",
     "timestamp": 1735037786891,
     "user": {
      "displayName": "Uyên Lưu Bảo",
      "userId": "10825055318362925261"
     },
     "user_tz": -420
    },
    "id": "RSvju2wgLL3c",
    "outputId": "82916025-6135-4203-9e63-f229afd66c12"
   },
   "outputs": [
    {
     "name": "stdout",
     "output_type": "stream",
     "text": [
      "              precision    recall  f1-score   support\n",
      "\n",
      "        -1.0       1.00      0.95      0.98      7839\n",
      "         1.0       0.98      0.99      0.98       357\n",
      "         2.0       0.88      0.99      0.93       228\n",
      "         3.0       0.91      0.99      0.95       143\n",
      "         4.0       0.97      0.99      0.98       298\n",
      "         5.0       0.98      0.99      0.99       373\n",
      "         6.0       0.50      0.98      0.66       124\n",
      "         7.0       0.97      0.94      0.96       184\n",
      "         8.0       0.95      0.97      0.96        99\n",
      "         9.0       1.00      0.99      0.99       179\n",
      "        10.0       0.93      0.89      0.91        91\n",
      "        11.0       0.88      0.98      0.93       341\n",
      "        12.0       0.96      0.96      0.96       255\n",
      "        13.0       0.98      0.98      0.98       107\n",
      "        14.0       1.00      0.99      0.99        97\n",
      "        15.0       0.96      0.99      0.97       207\n",
      "        16.0       0.95      0.95      0.95        40\n",
      "        17.0       0.92      0.92      0.92        12\n",
      "        18.0       0.97      0.97      0.97       341\n",
      "        19.0       0.98      0.99      0.98       397\n",
      "        20.0       0.96      0.98      0.97       329\n",
      "        21.0       0.95      0.96      0.95       343\n",
      "        22.0       0.90      0.98      0.93       375\n",
      "        23.0       0.80      0.97      0.88       248\n",
      "        24.0       0.97      0.99      0.98       408\n",
      "        25.0       0.98      0.96      0.97       181\n",
      "        26.0       0.86      0.98      0.91       279\n",
      "\n",
      "    accuracy                           0.96     13875\n",
      "   macro avg       0.93      0.97      0.95     13875\n",
      "weighted avg       0.97      0.96      0.97     13875\n",
      "\n",
      "time: 1min 36s (started: 2024-12-24 10:54:49 +00:00)\n"
     ]
    }
   ],
   "source": [
    "accuracy_knn_ocsvm_2, f1_score_rf_ocsvm_2 = accuracy_with_ocsvm(knn, ocsvm, X_test, y_test)\n",
    "accuracy_2.append(accuracy_knn_ocsvm_2)\n",
    "f1_score_2.append(f1_score_rf_ocsvm_2)"
   ]
  },
  {
   "cell_type": "markdown",
   "metadata": {
    "id": "Q0byv7w_KiAl"
   },
   "source": [
    "# Evaluate"
   ]
  },
  {
   "cell_type": "markdown",
   "metadata": {
    "id": "8F2xv6AyPvFX"
   },
   "source": [
    "- H0: Không có sự khác biệt giữa các nhóm (trung bình, phương sai)\n",
    "- H1: Có sự khác biệt giữa các nhóm"
   ]
  },
  {
   "cell_type": "markdown",
   "metadata": {
    "id": "fQBq8JA6RU0Y"
   },
   "source": [
    "## Model"
   ]
  },
  {
   "cell_type": "code",
   "execution_count": 70,
   "metadata": {
    "colab": {
     "base_uri": "https://localhost:8080/"
    },
    "executionInfo": {
     "elapsed": 32,
     "status": "ok",
     "timestamp": 1735037786892,
     "user": {
      "displayName": "Uyên Lưu Bảo",
      "userId": "10825055318362925261"
     },
     "user_tz": -420
    },
    "id": "Y4H5nHwpEpAc",
    "outputId": "ea221779-36e5-477d-ce87-d51e92f62ab7"
   },
   "outputs": [
    {
     "name": "stdout",
     "output_type": "stream",
     "text": [
      "time: 1.06 ms (started: 2024-12-24 10:56:26 +00:00)\n"
     ]
    }
   ],
   "source": [
    "accuracy_svc = accuracy[:3]\n",
    "accuracy_rf = accuracy[3:6]\n",
    "accuracy_knn = accuracy[6:]\n",
    "\n",
    "f1_svc = f1[:3]\n",
    "f1_rf = f1[3:6]\n",
    "f1_knn = f1[6:]"
   ]
  },
  {
   "cell_type": "code",
   "execution_count": 71,
   "metadata": {
    "colab": {
     "base_uri": "https://localhost:8080/",
     "height": 98
    },
    "executionInfo": {
     "elapsed": 29,
     "status": "ok",
     "timestamp": 1735037786892,
     "user": {
      "displayName": "Uyên Lưu Bảo",
      "userId": "10825055318362925261"
     },
     "user_tz": -420
    },
    "id": "ePoNu_HuGC1J",
    "outputId": "deed375f-4803-4dc0-c469-1bd80471fbbe"
   },
   "outputs": [
    {
     "data": {
      "application/vnd.google.colaboratory.intrinsic+json": {
       "summary": "{\n  \"name\": \"pd\",\n  \"rows\": 1,\n  \"fields\": [\n    {\n      \"column\": \"F value\",\n      \"properties\": {\n        \"dtype\": \"number\",\n        \"std\": null,\n        \"min\": 0.003738320995660062,\n        \"max\": 0.003738320995660062,\n        \"num_unique_values\": 1,\n        \"samples\": [\n          0.003738320995660062\n        ],\n        \"semantic_type\": \"\",\n        \"description\": \"\"\n      }\n    },\n    {\n      \"column\": \"p value\",\n      \"properties\": {\n        \"dtype\": \"number\",\n        \"std\": null,\n        \"min\": 0.9962709763870219,\n        \"max\": 0.9962709763870219,\n        \"num_unique_values\": 1,\n        \"samples\": [\n          0.9962709763870219\n        ],\n        \"semantic_type\": \"\",\n        \"description\": \"\"\n      }\n    }\n  ]\n}",
       "type": "dataframe"
      },
      "text/html": [
       "\n",
       "  <div id=\"df-d2899e18-7b0e-42f3-8dcd-cd4ab2b64ac9\" class=\"colab-df-container\">\n",
       "    <div>\n",
       "<style scoped>\n",
       "    .dataframe tbody tr th:only-of-type {\n",
       "        vertical-align: middle;\n",
       "    }\n",
       "\n",
       "    .dataframe tbody tr th {\n",
       "        vertical-align: top;\n",
       "    }\n",
       "\n",
       "    .dataframe thead th {\n",
       "        text-align: right;\n",
       "    }\n",
       "</style>\n",
       "<table border=\"1\" class=\"dataframe\">\n",
       "  <thead>\n",
       "    <tr style=\"text-align: right;\">\n",
       "      <th></th>\n",
       "      <th>F value</th>\n",
       "      <th>p value</th>\n",
       "    </tr>\n",
       "  </thead>\n",
       "  <tbody>\n",
       "    <tr>\n",
       "      <th>0</th>\n",
       "      <td>0.003738</td>\n",
       "      <td>0.996271</td>\n",
       "    </tr>\n",
       "  </tbody>\n",
       "</table>\n",
       "</div>\n",
       "    <div class=\"colab-df-buttons\">\n",
       "\n",
       "  <div class=\"colab-df-container\">\n",
       "    <button class=\"colab-df-convert\" onclick=\"convertToInteractive('df-d2899e18-7b0e-42f3-8dcd-cd4ab2b64ac9')\"\n",
       "            title=\"Convert this dataframe to an interactive table.\"\n",
       "            style=\"display:none;\">\n",
       "\n",
       "  <svg xmlns=\"http://www.w3.org/2000/svg\" height=\"24px\" viewBox=\"0 -960 960 960\">\n",
       "    <path d=\"M120-120v-720h720v720H120Zm60-500h600v-160H180v160Zm220 220h160v-160H400v160Zm0 220h160v-160H400v160ZM180-400h160v-160H180v160Zm440 0h160v-160H620v160ZM180-180h160v-160H180v160Zm440 0h160v-160H620v160Z\"/>\n",
       "  </svg>\n",
       "    </button>\n",
       "\n",
       "  <style>\n",
       "    .colab-df-container {\n",
       "      display:flex;\n",
       "      gap: 12px;\n",
       "    }\n",
       "\n",
       "    .colab-df-convert {\n",
       "      background-color: #E8F0FE;\n",
       "      border: none;\n",
       "      border-radius: 50%;\n",
       "      cursor: pointer;\n",
       "      display: none;\n",
       "      fill: #1967D2;\n",
       "      height: 32px;\n",
       "      padding: 0 0 0 0;\n",
       "      width: 32px;\n",
       "    }\n",
       "\n",
       "    .colab-df-convert:hover {\n",
       "      background-color: #E2EBFA;\n",
       "      box-shadow: 0px 1px 2px rgba(60, 64, 67, 0.3), 0px 1px 3px 1px rgba(60, 64, 67, 0.15);\n",
       "      fill: #174EA6;\n",
       "    }\n",
       "\n",
       "    .colab-df-buttons div {\n",
       "      margin-bottom: 4px;\n",
       "    }\n",
       "\n",
       "    [theme=dark] .colab-df-convert {\n",
       "      background-color: #3B4455;\n",
       "      fill: #D2E3FC;\n",
       "    }\n",
       "\n",
       "    [theme=dark] .colab-df-convert:hover {\n",
       "      background-color: #434B5C;\n",
       "      box-shadow: 0px 1px 3px 1px rgba(0, 0, 0, 0.15);\n",
       "      filter: drop-shadow(0px 1px 2px rgba(0, 0, 0, 0.3));\n",
       "      fill: #FFFFFF;\n",
       "    }\n",
       "  </style>\n",
       "\n",
       "    <script>\n",
       "      const buttonEl =\n",
       "        document.querySelector('#df-d2899e18-7b0e-42f3-8dcd-cd4ab2b64ac9 button.colab-df-convert');\n",
       "      buttonEl.style.display =\n",
       "        google.colab.kernel.accessAllowed ? 'block' : 'none';\n",
       "\n",
       "      async function convertToInteractive(key) {\n",
       "        const element = document.querySelector('#df-d2899e18-7b0e-42f3-8dcd-cd4ab2b64ac9');\n",
       "        const dataTable =\n",
       "          await google.colab.kernel.invokeFunction('convertToInteractive',\n",
       "                                                    [key], {});\n",
       "        if (!dataTable) return;\n",
       "\n",
       "        const docLinkHtml = 'Like what you see? Visit the ' +\n",
       "          '<a target=\"_blank\" href=https://colab.research.google.com/notebooks/data_table.ipynb>data table notebook</a>'\n",
       "          + ' to learn more about interactive tables.';\n",
       "        element.innerHTML = '';\n",
       "        dataTable['output_type'] = 'display_data';\n",
       "        await google.colab.output.renderOutput(dataTable, element);\n",
       "        const docLink = document.createElement('div');\n",
       "        docLink.innerHTML = docLinkHtml;\n",
       "        element.appendChild(docLink);\n",
       "      }\n",
       "    </script>\n",
       "  </div>\n",
       "\n",
       "\n",
       "    </div>\n",
       "  </div>\n"
      ],
      "text/plain": [
       "    F value   p value\n",
       "0  0.003738  0.996271"
      ]
     },
     "execution_count": 71,
     "metadata": {},
     "output_type": "execute_result"
    },
    {
     "name": "stdout",
     "output_type": "stream",
     "text": [
      "time: 54.7 ms (started: 2024-12-24 10:56:26 +00:00)\n"
     ]
    }
   ],
   "source": [
    "f_statistic_model, p_value_model = stats.f_oneway(accuracy_svc, accuracy_rf, accuracy_knn)\n",
    "pd.DataFrame([[f_statistic_model, p_value_model]], columns=['F value', 'p value'])"
   ]
  },
  {
   "cell_type": "code",
   "execution_count": 72,
   "metadata": {
    "colab": {
     "base_uri": "https://localhost:8080/",
     "height": 98
    },
    "executionInfo": {
     "elapsed": 20,
     "status": "ok",
     "timestamp": 1735037786892,
     "user": {
      "displayName": "Uyên Lưu Bảo",
      "userId": "10825055318362925261"
     },
     "user_tz": -420
    },
    "id": "mpoO6DXiGFv1",
    "outputId": "ca7c9eb3-0c6a-45d8-fb88-0cb8b40b8172"
   },
   "outputs": [
    {
     "data": {
      "application/vnd.google.colaboratory.intrinsic+json": {
       "summary": "{\n  \"name\": \"pd\",\n  \"rows\": 1,\n  \"fields\": [\n    {\n      \"column\": \"F value\",\n      \"properties\": {\n        \"dtype\": \"number\",\n        \"std\": null,\n        \"min\": 0.012057293522073124,\n        \"max\": 0.012057293522073124,\n        \"num_unique_values\": 1,\n        \"samples\": [\n          0.012057293522073124\n        ],\n        \"semantic_type\": \"\",\n        \"description\": \"\"\n      }\n    },\n    {\n      \"column\": \"p value\",\n      \"properties\": {\n        \"dtype\": \"number\",\n        \"std\": null,\n        \"min\": 0.9880389800438022,\n        \"max\": 0.9880389800438022,\n        \"num_unique_values\": 1,\n        \"samples\": [\n          0.9880389800438022\n        ],\n        \"semantic_type\": \"\",\n        \"description\": \"\"\n      }\n    }\n  ]\n}",
       "type": "dataframe"
      },
      "text/html": [
       "\n",
       "  <div id=\"df-523a554b-aee9-416a-a880-de7d144e74ec\" class=\"colab-df-container\">\n",
       "    <div>\n",
       "<style scoped>\n",
       "    .dataframe tbody tr th:only-of-type {\n",
       "        vertical-align: middle;\n",
       "    }\n",
       "\n",
       "    .dataframe tbody tr th {\n",
       "        vertical-align: top;\n",
       "    }\n",
       "\n",
       "    .dataframe thead th {\n",
       "        text-align: right;\n",
       "    }\n",
       "</style>\n",
       "<table border=\"1\" class=\"dataframe\">\n",
       "  <thead>\n",
       "    <tr style=\"text-align: right;\">\n",
       "      <th></th>\n",
       "      <th>F value</th>\n",
       "      <th>p value</th>\n",
       "    </tr>\n",
       "  </thead>\n",
       "  <tbody>\n",
       "    <tr>\n",
       "      <th>0</th>\n",
       "      <td>0.012057</td>\n",
       "      <td>0.988039</td>\n",
       "    </tr>\n",
       "  </tbody>\n",
       "</table>\n",
       "</div>\n",
       "    <div class=\"colab-df-buttons\">\n",
       "\n",
       "  <div class=\"colab-df-container\">\n",
       "    <button class=\"colab-df-convert\" onclick=\"convertToInteractive('df-523a554b-aee9-416a-a880-de7d144e74ec')\"\n",
       "            title=\"Convert this dataframe to an interactive table.\"\n",
       "            style=\"display:none;\">\n",
       "\n",
       "  <svg xmlns=\"http://www.w3.org/2000/svg\" height=\"24px\" viewBox=\"0 -960 960 960\">\n",
       "    <path d=\"M120-120v-720h720v720H120Zm60-500h600v-160H180v160Zm220 220h160v-160H400v160Zm0 220h160v-160H400v160ZM180-400h160v-160H180v160Zm440 0h160v-160H620v160ZM180-180h160v-160H180v160Zm440 0h160v-160H620v160Z\"/>\n",
       "  </svg>\n",
       "    </button>\n",
       "\n",
       "  <style>\n",
       "    .colab-df-container {\n",
       "      display:flex;\n",
       "      gap: 12px;\n",
       "    }\n",
       "\n",
       "    .colab-df-convert {\n",
       "      background-color: #E8F0FE;\n",
       "      border: none;\n",
       "      border-radius: 50%;\n",
       "      cursor: pointer;\n",
       "      display: none;\n",
       "      fill: #1967D2;\n",
       "      height: 32px;\n",
       "      padding: 0 0 0 0;\n",
       "      width: 32px;\n",
       "    }\n",
       "\n",
       "    .colab-df-convert:hover {\n",
       "      background-color: #E2EBFA;\n",
       "      box-shadow: 0px 1px 2px rgba(60, 64, 67, 0.3), 0px 1px 3px 1px rgba(60, 64, 67, 0.15);\n",
       "      fill: #174EA6;\n",
       "    }\n",
       "\n",
       "    .colab-df-buttons div {\n",
       "      margin-bottom: 4px;\n",
       "    }\n",
       "\n",
       "    [theme=dark] .colab-df-convert {\n",
       "      background-color: #3B4455;\n",
       "      fill: #D2E3FC;\n",
       "    }\n",
       "\n",
       "    [theme=dark] .colab-df-convert:hover {\n",
       "      background-color: #434B5C;\n",
       "      box-shadow: 0px 1px 3px 1px rgba(0, 0, 0, 0.15);\n",
       "      filter: drop-shadow(0px 1px 2px rgba(0, 0, 0, 0.3));\n",
       "      fill: #FFFFFF;\n",
       "    }\n",
       "  </style>\n",
       "\n",
       "    <script>\n",
       "      const buttonEl =\n",
       "        document.querySelector('#df-523a554b-aee9-416a-a880-de7d144e74ec button.colab-df-convert');\n",
       "      buttonEl.style.display =\n",
       "        google.colab.kernel.accessAllowed ? 'block' : 'none';\n",
       "\n",
       "      async function convertToInteractive(key) {\n",
       "        const element = document.querySelector('#df-523a554b-aee9-416a-a880-de7d144e74ec');\n",
       "        const dataTable =\n",
       "          await google.colab.kernel.invokeFunction('convertToInteractive',\n",
       "                                                    [key], {});\n",
       "        if (!dataTable) return;\n",
       "\n",
       "        const docLinkHtml = 'Like what you see? Visit the ' +\n",
       "          '<a target=\"_blank\" href=https://colab.research.google.com/notebooks/data_table.ipynb>data table notebook</a>'\n",
       "          + ' to learn more about interactive tables.';\n",
       "        element.innerHTML = '';\n",
       "        dataTable['output_type'] = 'display_data';\n",
       "        await google.colab.output.renderOutput(dataTable, element);\n",
       "        const docLink = document.createElement('div');\n",
       "        docLink.innerHTML = docLinkHtml;\n",
       "        element.appendChild(docLink);\n",
       "      }\n",
       "    </script>\n",
       "  </div>\n",
       "\n",
       "\n",
       "    </div>\n",
       "  </div>\n"
      ],
      "text/plain": [
       "    F value   p value\n",
       "0  0.012057  0.988039"
      ]
     },
     "execution_count": 72,
     "metadata": {},
     "output_type": "execute_result"
    },
    {
     "name": "stdout",
     "output_type": "stream",
     "text": [
      "time: 21.6 ms (started: 2024-12-24 10:56:26 +00:00)\n"
     ]
    }
   ],
   "source": [
    "f_statistic_model, p_value_model = stats.f_oneway(f1_svc, f1_rf, f1_knn)\n",
    "pd.DataFrame([[f_statistic_model, p_value_model]], columns=['F value', 'p value'])"
   ]
  },
  {
   "cell_type": "code",
   "execution_count": 73,
   "metadata": {
    "colab": {
     "base_uri": "https://localhost:8080/"
    },
    "executionInfo": {
     "elapsed": 19,
     "status": "ok",
     "timestamp": 1735037786892,
     "user": {
      "displayName": "Uyên Lưu Bảo",
      "userId": "10825055318362925261"
     },
     "user_tz": -420
    },
    "id": "qUQiMFtBRZ2z",
    "outputId": "79112cc3-87d3-4db2-d175-adf773c52794"
   },
   "outputs": [
    {
     "name": "stdout",
     "output_type": "stream",
     "text": [
      "time: 920 µs (started: 2024-12-24 10:56:26 +00:00)\n"
     ]
    }
   ],
   "source": [
    "accuracy_svc_1 = accuracy_1[:3]\n",
    "accuracy_rf_1 = accuracy_1[3:6]\n",
    "accuracy_knn_1 = accuracy_1[6:]\n",
    "\n",
    "f1_svc_1 = f1_score_1[:3]\n",
    "f1_rf_1 = f1_score_1[3:6]\n",
    "f1_knn_1 = f1_score_1[6:]"
   ]
  },
  {
   "cell_type": "code",
   "execution_count": 74,
   "metadata": {
    "colab": {
     "base_uri": "https://localhost:8080/",
     "height": 98
    },
    "executionInfo": {
     "elapsed": 16,
     "status": "ok",
     "timestamp": 1735037786892,
     "user": {
      "displayName": "Uyên Lưu Bảo",
      "userId": "10825055318362925261"
     },
     "user_tz": -420
    },
    "id": "d_o4pAoUSijC",
    "outputId": "1cf85517-84be-472a-88d8-4f57a3f1b08d"
   },
   "outputs": [
    {
     "data": {
      "application/vnd.google.colaboratory.intrinsic+json": {
       "summary": "{\n  \"name\": \"pd\",\n  \"rows\": 1,\n  \"fields\": [\n    {\n      \"column\": \"F value\",\n      \"properties\": {\n        \"dtype\": \"number\",\n        \"std\": null,\n        \"min\": 0.4589530568173647,\n        \"max\": 0.4589530568173647,\n        \"num_unique_values\": 1,\n        \"samples\": [\n          0.4589530568173647\n        ],\n        \"semantic_type\": \"\",\n        \"description\": \"\"\n      }\n    },\n    {\n      \"column\": \"p value\",\n      \"properties\": {\n        \"dtype\": \"number\",\n        \"std\": null,\n        \"min\": 0.6459536028985943,\n        \"max\": 0.6459536028985943,\n        \"num_unique_values\": 1,\n        \"samples\": [\n          0.6459536028985943\n        ],\n        \"semantic_type\": \"\",\n        \"description\": \"\"\n      }\n    }\n  ]\n}",
       "type": "dataframe"
      },
      "text/html": [
       "\n",
       "  <div id=\"df-a4cd666e-27f8-4e12-9140-7718000439bd\" class=\"colab-df-container\">\n",
       "    <div>\n",
       "<style scoped>\n",
       "    .dataframe tbody tr th:only-of-type {\n",
       "        vertical-align: middle;\n",
       "    }\n",
       "\n",
       "    .dataframe tbody tr th {\n",
       "        vertical-align: top;\n",
       "    }\n",
       "\n",
       "    .dataframe thead th {\n",
       "        text-align: right;\n",
       "    }\n",
       "</style>\n",
       "<table border=\"1\" class=\"dataframe\">\n",
       "  <thead>\n",
       "    <tr style=\"text-align: right;\">\n",
       "      <th></th>\n",
       "      <th>F value</th>\n",
       "      <th>p value</th>\n",
       "    </tr>\n",
       "  </thead>\n",
       "  <tbody>\n",
       "    <tr>\n",
       "      <th>0</th>\n",
       "      <td>0.458953</td>\n",
       "      <td>0.645954</td>\n",
       "    </tr>\n",
       "  </tbody>\n",
       "</table>\n",
       "</div>\n",
       "    <div class=\"colab-df-buttons\">\n",
       "\n",
       "  <div class=\"colab-df-container\">\n",
       "    <button class=\"colab-df-convert\" onclick=\"convertToInteractive('df-a4cd666e-27f8-4e12-9140-7718000439bd')\"\n",
       "            title=\"Convert this dataframe to an interactive table.\"\n",
       "            style=\"display:none;\">\n",
       "\n",
       "  <svg xmlns=\"http://www.w3.org/2000/svg\" height=\"24px\" viewBox=\"0 -960 960 960\">\n",
       "    <path d=\"M120-120v-720h720v720H120Zm60-500h600v-160H180v160Zm220 220h160v-160H400v160Zm0 220h160v-160H400v160ZM180-400h160v-160H180v160Zm440 0h160v-160H620v160ZM180-180h160v-160H180v160Zm440 0h160v-160H620v160Z\"/>\n",
       "  </svg>\n",
       "    </button>\n",
       "\n",
       "  <style>\n",
       "    .colab-df-container {\n",
       "      display:flex;\n",
       "      gap: 12px;\n",
       "    }\n",
       "\n",
       "    .colab-df-convert {\n",
       "      background-color: #E8F0FE;\n",
       "      border: none;\n",
       "      border-radius: 50%;\n",
       "      cursor: pointer;\n",
       "      display: none;\n",
       "      fill: #1967D2;\n",
       "      height: 32px;\n",
       "      padding: 0 0 0 0;\n",
       "      width: 32px;\n",
       "    }\n",
       "\n",
       "    .colab-df-convert:hover {\n",
       "      background-color: #E2EBFA;\n",
       "      box-shadow: 0px 1px 2px rgba(60, 64, 67, 0.3), 0px 1px 3px 1px rgba(60, 64, 67, 0.15);\n",
       "      fill: #174EA6;\n",
       "    }\n",
       "\n",
       "    .colab-df-buttons div {\n",
       "      margin-bottom: 4px;\n",
       "    }\n",
       "\n",
       "    [theme=dark] .colab-df-convert {\n",
       "      background-color: #3B4455;\n",
       "      fill: #D2E3FC;\n",
       "    }\n",
       "\n",
       "    [theme=dark] .colab-df-convert:hover {\n",
       "      background-color: #434B5C;\n",
       "      box-shadow: 0px 1px 3px 1px rgba(0, 0, 0, 0.15);\n",
       "      filter: drop-shadow(0px 1px 2px rgba(0, 0, 0, 0.3));\n",
       "      fill: #FFFFFF;\n",
       "    }\n",
       "  </style>\n",
       "\n",
       "    <script>\n",
       "      const buttonEl =\n",
       "        document.querySelector('#df-a4cd666e-27f8-4e12-9140-7718000439bd button.colab-df-convert');\n",
       "      buttonEl.style.display =\n",
       "        google.colab.kernel.accessAllowed ? 'block' : 'none';\n",
       "\n",
       "      async function convertToInteractive(key) {\n",
       "        const element = document.querySelector('#df-a4cd666e-27f8-4e12-9140-7718000439bd');\n",
       "        const dataTable =\n",
       "          await google.colab.kernel.invokeFunction('convertToInteractive',\n",
       "                                                    [key], {});\n",
       "        if (!dataTable) return;\n",
       "\n",
       "        const docLinkHtml = 'Like what you see? Visit the ' +\n",
       "          '<a target=\"_blank\" href=https://colab.research.google.com/notebooks/data_table.ipynb>data table notebook</a>'\n",
       "          + ' to learn more about interactive tables.';\n",
       "        element.innerHTML = '';\n",
       "        dataTable['output_type'] = 'display_data';\n",
       "        await google.colab.output.renderOutput(dataTable, element);\n",
       "        const docLink = document.createElement('div');\n",
       "        docLink.innerHTML = docLinkHtml;\n",
       "        element.appendChild(docLink);\n",
       "      }\n",
       "    </script>\n",
       "  </div>\n",
       "\n",
       "\n",
       "    </div>\n",
       "  </div>\n"
      ],
      "text/plain": [
       "    F value   p value\n",
       "0  0.458953  0.645954"
      ]
     },
     "execution_count": 74,
     "metadata": {},
     "output_type": "execute_result"
    },
    {
     "name": "stdout",
     "output_type": "stream",
     "text": [
      "time: 18.9 ms (started: 2024-12-24 10:56:26 +00:00)\n"
     ]
    }
   ],
   "source": [
    "f_statistic_model, p_value_model = stats.f_oneway(accuracy_svc_1, accuracy_rf_1, accuracy_knn_1)\n",
    "pd.DataFrame([[f_statistic_model, p_value_model]], columns=['F value', 'p value'])"
   ]
  },
  {
   "cell_type": "code",
   "execution_count": 75,
   "metadata": {
    "colab": {
     "base_uri": "https://localhost:8080/",
     "height": 98
    },
    "executionInfo": {
     "elapsed": 14,
     "status": "ok",
     "timestamp": 1735037786892,
     "user": {
      "displayName": "Uyên Lưu Bảo",
      "userId": "10825055318362925261"
     },
     "user_tz": -420
    },
    "id": "_IxDHrOkHsEN",
    "outputId": "6a9655cb-b6ac-4dba-e329-001c913c3065"
   },
   "outputs": [
    {
     "data": {
      "application/vnd.google.colaboratory.intrinsic+json": {
       "summary": "{\n  \"name\": \"pd\",\n  \"rows\": 1,\n  \"fields\": [\n    {\n      \"column\": \"F value\",\n      \"properties\": {\n        \"dtype\": \"number\",\n        \"std\": null,\n        \"min\": 0.4127449341087498,\n        \"max\": 0.4127449341087498,\n        \"num_unique_values\": 1,\n        \"samples\": [\n          0.4127449341087498\n        ],\n        \"semantic_type\": \"\",\n        \"description\": \"\"\n      }\n    },\n    {\n      \"column\": \"p value\",\n      \"properties\": {\n        \"dtype\": \"number\",\n        \"std\": null,\n        \"min\": 0.6737477654064908,\n        \"max\": 0.6737477654064908,\n        \"num_unique_values\": 1,\n        \"samples\": [\n          0.6737477654064908\n        ],\n        \"semantic_type\": \"\",\n        \"description\": \"\"\n      }\n    }\n  ]\n}",
       "type": "dataframe"
      },
      "text/html": [
       "\n",
       "  <div id=\"df-0fe1d690-a59f-4a3d-8ba8-23038c675f66\" class=\"colab-df-container\">\n",
       "    <div>\n",
       "<style scoped>\n",
       "    .dataframe tbody tr th:only-of-type {\n",
       "        vertical-align: middle;\n",
       "    }\n",
       "\n",
       "    .dataframe tbody tr th {\n",
       "        vertical-align: top;\n",
       "    }\n",
       "\n",
       "    .dataframe thead th {\n",
       "        text-align: right;\n",
       "    }\n",
       "</style>\n",
       "<table border=\"1\" class=\"dataframe\">\n",
       "  <thead>\n",
       "    <tr style=\"text-align: right;\">\n",
       "      <th></th>\n",
       "      <th>F value</th>\n",
       "      <th>p value</th>\n",
       "    </tr>\n",
       "  </thead>\n",
       "  <tbody>\n",
       "    <tr>\n",
       "      <th>0</th>\n",
       "      <td>0.412745</td>\n",
       "      <td>0.673748</td>\n",
       "    </tr>\n",
       "  </tbody>\n",
       "</table>\n",
       "</div>\n",
       "    <div class=\"colab-df-buttons\">\n",
       "\n",
       "  <div class=\"colab-df-container\">\n",
       "    <button class=\"colab-df-convert\" onclick=\"convertToInteractive('df-0fe1d690-a59f-4a3d-8ba8-23038c675f66')\"\n",
       "            title=\"Convert this dataframe to an interactive table.\"\n",
       "            style=\"display:none;\">\n",
       "\n",
       "  <svg xmlns=\"http://www.w3.org/2000/svg\" height=\"24px\" viewBox=\"0 -960 960 960\">\n",
       "    <path d=\"M120-120v-720h720v720H120Zm60-500h600v-160H180v160Zm220 220h160v-160H400v160Zm0 220h160v-160H400v160ZM180-400h160v-160H180v160Zm440 0h160v-160H620v160ZM180-180h160v-160H180v160Zm440 0h160v-160H620v160Z\"/>\n",
       "  </svg>\n",
       "    </button>\n",
       "\n",
       "  <style>\n",
       "    .colab-df-container {\n",
       "      display:flex;\n",
       "      gap: 12px;\n",
       "    }\n",
       "\n",
       "    .colab-df-convert {\n",
       "      background-color: #E8F0FE;\n",
       "      border: none;\n",
       "      border-radius: 50%;\n",
       "      cursor: pointer;\n",
       "      display: none;\n",
       "      fill: #1967D2;\n",
       "      height: 32px;\n",
       "      padding: 0 0 0 0;\n",
       "      width: 32px;\n",
       "    }\n",
       "\n",
       "    .colab-df-convert:hover {\n",
       "      background-color: #E2EBFA;\n",
       "      box-shadow: 0px 1px 2px rgba(60, 64, 67, 0.3), 0px 1px 3px 1px rgba(60, 64, 67, 0.15);\n",
       "      fill: #174EA6;\n",
       "    }\n",
       "\n",
       "    .colab-df-buttons div {\n",
       "      margin-bottom: 4px;\n",
       "    }\n",
       "\n",
       "    [theme=dark] .colab-df-convert {\n",
       "      background-color: #3B4455;\n",
       "      fill: #D2E3FC;\n",
       "    }\n",
       "\n",
       "    [theme=dark] .colab-df-convert:hover {\n",
       "      background-color: #434B5C;\n",
       "      box-shadow: 0px 1px 3px 1px rgba(0, 0, 0, 0.15);\n",
       "      filter: drop-shadow(0px 1px 2px rgba(0, 0, 0, 0.3));\n",
       "      fill: #FFFFFF;\n",
       "    }\n",
       "  </style>\n",
       "\n",
       "    <script>\n",
       "      const buttonEl =\n",
       "        document.querySelector('#df-0fe1d690-a59f-4a3d-8ba8-23038c675f66 button.colab-df-convert');\n",
       "      buttonEl.style.display =\n",
       "        google.colab.kernel.accessAllowed ? 'block' : 'none';\n",
       "\n",
       "      async function convertToInteractive(key) {\n",
       "        const element = document.querySelector('#df-0fe1d690-a59f-4a3d-8ba8-23038c675f66');\n",
       "        const dataTable =\n",
       "          await google.colab.kernel.invokeFunction('convertToInteractive',\n",
       "                                                    [key], {});\n",
       "        if (!dataTable) return;\n",
       "\n",
       "        const docLinkHtml = 'Like what you see? Visit the ' +\n",
       "          '<a target=\"_blank\" href=https://colab.research.google.com/notebooks/data_table.ipynb>data table notebook</a>'\n",
       "          + ' to learn more about interactive tables.';\n",
       "        element.innerHTML = '';\n",
       "        dataTable['output_type'] = 'display_data';\n",
       "        await google.colab.output.renderOutput(dataTable, element);\n",
       "        const docLink = document.createElement('div');\n",
       "        docLink.innerHTML = docLinkHtml;\n",
       "        element.appendChild(docLink);\n",
       "      }\n",
       "    </script>\n",
       "  </div>\n",
       "\n",
       "\n",
       "    </div>\n",
       "  </div>\n"
      ],
      "text/plain": [
       "    F value   p value\n",
       "0  0.412745  0.673748"
      ]
     },
     "execution_count": 75,
     "metadata": {},
     "output_type": "execute_result"
    },
    {
     "name": "stdout",
     "output_type": "stream",
     "text": [
      "time: 19.1 ms (started: 2024-12-24 10:56:26 +00:00)\n"
     ]
    }
   ],
   "source": [
    "f_statistic_model, p_value_model = stats.f_oneway(f1_svc_1, f1_rf_1, f1_knn_1)\n",
    "pd.DataFrame([[f_statistic_model, p_value_model]], columns=['F value', 'p value'])"
   ]
  },
  {
   "cell_type": "code",
   "execution_count": 76,
   "metadata": {
    "colab": {
     "base_uri": "https://localhost:8080/"
    },
    "executionInfo": {
     "elapsed": 14,
     "status": "ok",
     "timestamp": 1735037786892,
     "user": {
      "displayName": "Uyên Lưu Bảo",
      "userId": "10825055318362925261"
     },
     "user_tz": -420
    },
    "id": "E0Ic-Wu2TErx",
    "outputId": "3b8caac3-c3ad-482f-9153-43a1accdb206"
   },
   "outputs": [
    {
     "name": "stdout",
     "output_type": "stream",
     "text": [
      "time: 923 µs (started: 2024-12-24 10:56:26 +00:00)\n"
     ]
    }
   ],
   "source": [
    "accuracy_svc_2 = accuracy_2[:3]\n",
    "accuracy_rf_2 = accuracy_2[3:6]\n",
    "accuracy_knn_2 = accuracy_2[6:]\n",
    "\n",
    "f1_svc_2 = f1_score_2[:3]\n",
    "f1_rf_2 = f1_score_2[3:6]\n",
    "f1_knn_2 = f1_score_2[6:]"
   ]
  },
  {
   "cell_type": "code",
   "execution_count": 77,
   "metadata": {
    "colab": {
     "base_uri": "https://localhost:8080/",
     "height": 98
    },
    "executionInfo": {
     "elapsed": 384,
     "status": "ok",
     "timestamp": 1735037787265,
     "user": {
      "displayName": "Uyên Lưu Bảo",
      "userId": "10825055318362925261"
     },
     "user_tz": -420
    },
    "id": "LosF3KI_THU3",
    "outputId": "97790ed3-3fb5-4701-85f4-5c948f0668b4"
   },
   "outputs": [
    {
     "data": {
      "application/vnd.google.colaboratory.intrinsic+json": {
       "summary": "{\n  \"name\": \"pd\",\n  \"rows\": 1,\n  \"fields\": [\n    {\n      \"column\": \"F value\",\n      \"properties\": {\n        \"dtype\": \"number\",\n        \"std\": null,\n        \"min\": 0.48337626699618175,\n        \"max\": 0.48337626699618175,\n        \"num_unique_values\": 1,\n        \"samples\": [\n          0.48337626699618175\n        ],\n        \"semantic_type\": \"\",\n        \"description\": \"\"\n      }\n    },\n    {\n      \"column\": \"p value\",\n      \"properties\": {\n        \"dtype\": \"number\",\n        \"std\": null,\n        \"min\": 0.6318292887076158,\n        \"max\": 0.6318292887076158,\n        \"num_unique_values\": 1,\n        \"samples\": [\n          0.6318292887076158\n        ],\n        \"semantic_type\": \"\",\n        \"description\": \"\"\n      }\n    }\n  ]\n}",
       "type": "dataframe"
      },
      "text/html": [
       "\n",
       "  <div id=\"df-4e1a300c-0ce3-4e08-b1b5-822480fc1289\" class=\"colab-df-container\">\n",
       "    <div>\n",
       "<style scoped>\n",
       "    .dataframe tbody tr th:only-of-type {\n",
       "        vertical-align: middle;\n",
       "    }\n",
       "\n",
       "    .dataframe tbody tr th {\n",
       "        vertical-align: top;\n",
       "    }\n",
       "\n",
       "    .dataframe thead th {\n",
       "        text-align: right;\n",
       "    }\n",
       "</style>\n",
       "<table border=\"1\" class=\"dataframe\">\n",
       "  <thead>\n",
       "    <tr style=\"text-align: right;\">\n",
       "      <th></th>\n",
       "      <th>F value</th>\n",
       "      <th>p value</th>\n",
       "    </tr>\n",
       "  </thead>\n",
       "  <tbody>\n",
       "    <tr>\n",
       "      <th>0</th>\n",
       "      <td>0.483376</td>\n",
       "      <td>0.631829</td>\n",
       "    </tr>\n",
       "  </tbody>\n",
       "</table>\n",
       "</div>\n",
       "    <div class=\"colab-df-buttons\">\n",
       "\n",
       "  <div class=\"colab-df-container\">\n",
       "    <button class=\"colab-df-convert\" onclick=\"convertToInteractive('df-4e1a300c-0ce3-4e08-b1b5-822480fc1289')\"\n",
       "            title=\"Convert this dataframe to an interactive table.\"\n",
       "            style=\"display:none;\">\n",
       "\n",
       "  <svg xmlns=\"http://www.w3.org/2000/svg\" height=\"24px\" viewBox=\"0 -960 960 960\">\n",
       "    <path d=\"M120-120v-720h720v720H120Zm60-500h600v-160H180v160Zm220 220h160v-160H400v160Zm0 220h160v-160H400v160ZM180-400h160v-160H180v160Zm440 0h160v-160H620v160ZM180-180h160v-160H180v160Zm440 0h160v-160H620v160Z\"/>\n",
       "  </svg>\n",
       "    </button>\n",
       "\n",
       "  <style>\n",
       "    .colab-df-container {\n",
       "      display:flex;\n",
       "      gap: 12px;\n",
       "    }\n",
       "\n",
       "    .colab-df-convert {\n",
       "      background-color: #E8F0FE;\n",
       "      border: none;\n",
       "      border-radius: 50%;\n",
       "      cursor: pointer;\n",
       "      display: none;\n",
       "      fill: #1967D2;\n",
       "      height: 32px;\n",
       "      padding: 0 0 0 0;\n",
       "      width: 32px;\n",
       "    }\n",
       "\n",
       "    .colab-df-convert:hover {\n",
       "      background-color: #E2EBFA;\n",
       "      box-shadow: 0px 1px 2px rgba(60, 64, 67, 0.3), 0px 1px 3px 1px rgba(60, 64, 67, 0.15);\n",
       "      fill: #174EA6;\n",
       "    }\n",
       "\n",
       "    .colab-df-buttons div {\n",
       "      margin-bottom: 4px;\n",
       "    }\n",
       "\n",
       "    [theme=dark] .colab-df-convert {\n",
       "      background-color: #3B4455;\n",
       "      fill: #D2E3FC;\n",
       "    }\n",
       "\n",
       "    [theme=dark] .colab-df-convert:hover {\n",
       "      background-color: #434B5C;\n",
       "      box-shadow: 0px 1px 3px 1px rgba(0, 0, 0, 0.15);\n",
       "      filter: drop-shadow(0px 1px 2px rgba(0, 0, 0, 0.3));\n",
       "      fill: #FFFFFF;\n",
       "    }\n",
       "  </style>\n",
       "\n",
       "    <script>\n",
       "      const buttonEl =\n",
       "        document.querySelector('#df-4e1a300c-0ce3-4e08-b1b5-822480fc1289 button.colab-df-convert');\n",
       "      buttonEl.style.display =\n",
       "        google.colab.kernel.accessAllowed ? 'block' : 'none';\n",
       "\n",
       "      async function convertToInteractive(key) {\n",
       "        const element = document.querySelector('#df-4e1a300c-0ce3-4e08-b1b5-822480fc1289');\n",
       "        const dataTable =\n",
       "          await google.colab.kernel.invokeFunction('convertToInteractive',\n",
       "                                                    [key], {});\n",
       "        if (!dataTable) return;\n",
       "\n",
       "        const docLinkHtml = 'Like what you see? Visit the ' +\n",
       "          '<a target=\"_blank\" href=https://colab.research.google.com/notebooks/data_table.ipynb>data table notebook</a>'\n",
       "          + ' to learn more about interactive tables.';\n",
       "        element.innerHTML = '';\n",
       "        dataTable['output_type'] = 'display_data';\n",
       "        await google.colab.output.renderOutput(dataTable, element);\n",
       "        const docLink = document.createElement('div');\n",
       "        docLink.innerHTML = docLinkHtml;\n",
       "        element.appendChild(docLink);\n",
       "      }\n",
       "    </script>\n",
       "  </div>\n",
       "\n",
       "\n",
       "    </div>\n",
       "  </div>\n"
      ],
      "text/plain": [
       "    F value   p value\n",
       "0  0.483376  0.631829"
      ]
     },
     "execution_count": 77,
     "metadata": {},
     "output_type": "execute_result"
    },
    {
     "name": "stdout",
     "output_type": "stream",
     "text": [
      "time: 19.6 ms (started: 2024-12-24 10:56:26 +00:00)\n"
     ]
    }
   ],
   "source": [
    "f_statistic_model, p_value_model = stats.f_oneway(accuracy_svc_2, accuracy_rf_2, accuracy_knn_2)\n",
    "pd.DataFrame([[f_statistic_model, p_value_model]], columns=['F value', 'p value'])"
   ]
  },
  {
   "cell_type": "code",
   "execution_count": 78,
   "metadata": {
    "colab": {
     "base_uri": "https://localhost:8080/",
     "height": 98
    },
    "executionInfo": {
     "elapsed": 18,
     "status": "ok",
     "timestamp": 1735037787265,
     "user": {
      "displayName": "Uyên Lưu Bảo",
      "userId": "10825055318362925261"
     },
     "user_tz": -420
    },
    "id": "xMYbKqmaHwIN",
    "outputId": "8b61005a-8476-4818-c59f-2bc5956bc312"
   },
   "outputs": [
    {
     "data": {
      "application/vnd.google.colaboratory.intrinsic+json": {
       "summary": "{\n  \"name\": \"pd\",\n  \"rows\": 1,\n  \"fields\": [\n    {\n      \"column\": \"F value\",\n      \"properties\": {\n        \"dtype\": \"number\",\n        \"std\": null,\n        \"min\": 0.07818745827558557,\n        \"max\": 0.07818745827558557,\n        \"num_unique_values\": 1,\n        \"samples\": [\n          0.07818745827558557\n        ],\n        \"semantic_type\": \"\",\n        \"description\": \"\"\n      }\n    },\n    {\n      \"column\": \"p value\",\n      \"properties\": {\n        \"dtype\": \"number\",\n        \"std\": null,\n        \"min\": 0.92541224361185,\n        \"max\": 0.92541224361185,\n        \"num_unique_values\": 1,\n        \"samples\": [\n          0.92541224361185\n        ],\n        \"semantic_type\": \"\",\n        \"description\": \"\"\n      }\n    }\n  ]\n}",
       "type": "dataframe"
      },
      "text/html": [
       "\n",
       "  <div id=\"df-82b389ce-0c4a-4413-876f-1bf500f08e29\" class=\"colab-df-container\">\n",
       "    <div>\n",
       "<style scoped>\n",
       "    .dataframe tbody tr th:only-of-type {\n",
       "        vertical-align: middle;\n",
       "    }\n",
       "\n",
       "    .dataframe tbody tr th {\n",
       "        vertical-align: top;\n",
       "    }\n",
       "\n",
       "    .dataframe thead th {\n",
       "        text-align: right;\n",
       "    }\n",
       "</style>\n",
       "<table border=\"1\" class=\"dataframe\">\n",
       "  <thead>\n",
       "    <tr style=\"text-align: right;\">\n",
       "      <th></th>\n",
       "      <th>F value</th>\n",
       "      <th>p value</th>\n",
       "    </tr>\n",
       "  </thead>\n",
       "  <tbody>\n",
       "    <tr>\n",
       "      <th>0</th>\n",
       "      <td>0.078187</td>\n",
       "      <td>0.925412</td>\n",
       "    </tr>\n",
       "  </tbody>\n",
       "</table>\n",
       "</div>\n",
       "    <div class=\"colab-df-buttons\">\n",
       "\n",
       "  <div class=\"colab-df-container\">\n",
       "    <button class=\"colab-df-convert\" onclick=\"convertToInteractive('df-82b389ce-0c4a-4413-876f-1bf500f08e29')\"\n",
       "            title=\"Convert this dataframe to an interactive table.\"\n",
       "            style=\"display:none;\">\n",
       "\n",
       "  <svg xmlns=\"http://www.w3.org/2000/svg\" height=\"24px\" viewBox=\"0 -960 960 960\">\n",
       "    <path d=\"M120-120v-720h720v720H120Zm60-500h600v-160H180v160Zm220 220h160v-160H400v160Zm0 220h160v-160H400v160ZM180-400h160v-160H180v160Zm440 0h160v-160H620v160ZM180-180h160v-160H180v160Zm440 0h160v-160H620v160Z\"/>\n",
       "  </svg>\n",
       "    </button>\n",
       "\n",
       "  <style>\n",
       "    .colab-df-container {\n",
       "      display:flex;\n",
       "      gap: 12px;\n",
       "    }\n",
       "\n",
       "    .colab-df-convert {\n",
       "      background-color: #E8F0FE;\n",
       "      border: none;\n",
       "      border-radius: 50%;\n",
       "      cursor: pointer;\n",
       "      display: none;\n",
       "      fill: #1967D2;\n",
       "      height: 32px;\n",
       "      padding: 0 0 0 0;\n",
       "      width: 32px;\n",
       "    }\n",
       "\n",
       "    .colab-df-convert:hover {\n",
       "      background-color: #E2EBFA;\n",
       "      box-shadow: 0px 1px 2px rgba(60, 64, 67, 0.3), 0px 1px 3px 1px rgba(60, 64, 67, 0.15);\n",
       "      fill: #174EA6;\n",
       "    }\n",
       "\n",
       "    .colab-df-buttons div {\n",
       "      margin-bottom: 4px;\n",
       "    }\n",
       "\n",
       "    [theme=dark] .colab-df-convert {\n",
       "      background-color: #3B4455;\n",
       "      fill: #D2E3FC;\n",
       "    }\n",
       "\n",
       "    [theme=dark] .colab-df-convert:hover {\n",
       "      background-color: #434B5C;\n",
       "      box-shadow: 0px 1px 3px 1px rgba(0, 0, 0, 0.15);\n",
       "      filter: drop-shadow(0px 1px 2px rgba(0, 0, 0, 0.3));\n",
       "      fill: #FFFFFF;\n",
       "    }\n",
       "  </style>\n",
       "\n",
       "    <script>\n",
       "      const buttonEl =\n",
       "        document.querySelector('#df-82b389ce-0c4a-4413-876f-1bf500f08e29 button.colab-df-convert');\n",
       "      buttonEl.style.display =\n",
       "        google.colab.kernel.accessAllowed ? 'block' : 'none';\n",
       "\n",
       "      async function convertToInteractive(key) {\n",
       "        const element = document.querySelector('#df-82b389ce-0c4a-4413-876f-1bf500f08e29');\n",
       "        const dataTable =\n",
       "          await google.colab.kernel.invokeFunction('convertToInteractive',\n",
       "                                                    [key], {});\n",
       "        if (!dataTable) return;\n",
       "\n",
       "        const docLinkHtml = 'Like what you see? Visit the ' +\n",
       "          '<a target=\"_blank\" href=https://colab.research.google.com/notebooks/data_table.ipynb>data table notebook</a>'\n",
       "          + ' to learn more about interactive tables.';\n",
       "        element.innerHTML = '';\n",
       "        dataTable['output_type'] = 'display_data';\n",
       "        await google.colab.output.renderOutput(dataTable, element);\n",
       "        const docLink = document.createElement('div');\n",
       "        docLink.innerHTML = docLinkHtml;\n",
       "        element.appendChild(docLink);\n",
       "      }\n",
       "    </script>\n",
       "  </div>\n",
       "\n",
       "\n",
       "    </div>\n",
       "  </div>\n"
      ],
      "text/plain": [
       "    F value   p value\n",
       "0  0.078187  0.925412"
      ]
     },
     "execution_count": 78,
     "metadata": {},
     "output_type": "execute_result"
    },
    {
     "name": "stdout",
     "output_type": "stream",
     "text": [
      "time: 18.6 ms (started: 2024-12-24 10:56:26 +00:00)\n"
     ]
    }
   ],
   "source": [
    "f_statistic_model, p_value_model = stats.f_oneway(f1_svc_2, f1_rf_2, f1_knn_2)\n",
    "pd.DataFrame([[f_statistic_model, p_value_model]], columns=['F value', 'p value'])"
   ]
  },
  {
   "cell_type": "markdown",
   "metadata": {
    "id": "fT8HZCsUTToW"
   },
   "source": [
    "- Kết luận: Không có sự khác biệt khi sử dụng 3 model SVC, Random Forest, KNN."
   ]
  },
  {
   "cell_type": "markdown",
   "metadata": {
    "id": "80t79_BqRWxT"
   },
   "source": [
    "## The first direction"
   ]
  },
  {
   "cell_type": "code",
   "execution_count": 79,
   "metadata": {
    "colab": {
     "base_uri": "https://localhost:8080/",
     "height": 98
    },
    "executionInfo": {
     "elapsed": 17,
     "status": "ok",
     "timestamp": 1735037787266,
     "user": {
      "displayName": "Uyên Lưu Bảo",
      "userId": "10825055318362925261"
     },
     "user_tz": -420
    },
    "id": "_3-d5TBhH1q5",
    "outputId": "ccd2826d-cd9a-48b4-abeb-29cfee379c63"
   },
   "outputs": [
    {
     "data": {
      "application/vnd.google.colaboratory.intrinsic+json": {
       "summary": "{\n  \"name\": \"pd\",\n  \"rows\": 1,\n  \"fields\": [\n    {\n      \"column\": \"F value\",\n      \"properties\": {\n        \"dtype\": \"number\",\n        \"std\": null,\n        \"min\": 30112.200700509195,\n        \"max\": 30112.200700509195,\n        \"num_unique_values\": 1,\n        \"samples\": [\n          30112.200700509195\n        ],\n        \"semantic_type\": \"\",\n        \"description\": \"\"\n      }\n    },\n    {\n      \"column\": \"p value\",\n      \"properties\": {\n        \"dtype\": \"number\",\n        \"std\": null,\n        \"min\": 7.152839134303396e-32,\n        \"max\": 7.152839134303396e-32,\n        \"num_unique_values\": 1,\n        \"samples\": [\n          7.152839134303396e-32\n        ],\n        \"semantic_type\": \"\",\n        \"description\": \"\"\n      }\n    }\n  ]\n}",
       "type": "dataframe"
      },
      "text/html": [
       "\n",
       "  <div id=\"df-442ad1c7-f3b5-45c6-b8a7-4b91502bcc42\" class=\"colab-df-container\">\n",
       "    <div>\n",
       "<style scoped>\n",
       "    .dataframe tbody tr th:only-of-type {\n",
       "        vertical-align: middle;\n",
       "    }\n",
       "\n",
       "    .dataframe tbody tr th {\n",
       "        vertical-align: top;\n",
       "    }\n",
       "\n",
       "    .dataframe thead th {\n",
       "        text-align: right;\n",
       "    }\n",
       "</style>\n",
       "<table border=\"1\" class=\"dataframe\">\n",
       "  <thead>\n",
       "    <tr style=\"text-align: right;\">\n",
       "      <th></th>\n",
       "      <th>F value</th>\n",
       "      <th>p value</th>\n",
       "    </tr>\n",
       "  </thead>\n",
       "  <tbody>\n",
       "    <tr>\n",
       "      <th>0</th>\n",
       "      <td>30112.200701</td>\n",
       "      <td>7.152839e-32</td>\n",
       "    </tr>\n",
       "  </tbody>\n",
       "</table>\n",
       "</div>\n",
       "    <div class=\"colab-df-buttons\">\n",
       "\n",
       "  <div class=\"colab-df-container\">\n",
       "    <button class=\"colab-df-convert\" onclick=\"convertToInteractive('df-442ad1c7-f3b5-45c6-b8a7-4b91502bcc42')\"\n",
       "            title=\"Convert this dataframe to an interactive table.\"\n",
       "            style=\"display:none;\">\n",
       "\n",
       "  <svg xmlns=\"http://www.w3.org/2000/svg\" height=\"24px\" viewBox=\"0 -960 960 960\">\n",
       "    <path d=\"M120-120v-720h720v720H120Zm60-500h600v-160H180v160Zm220 220h160v-160H400v160Zm0 220h160v-160H400v160ZM180-400h160v-160H180v160Zm440 0h160v-160H620v160ZM180-180h160v-160H180v160Zm440 0h160v-160H620v160Z\"/>\n",
       "  </svg>\n",
       "    </button>\n",
       "\n",
       "  <style>\n",
       "    .colab-df-container {\n",
       "      display:flex;\n",
       "      gap: 12px;\n",
       "    }\n",
       "\n",
       "    .colab-df-convert {\n",
       "      background-color: #E8F0FE;\n",
       "      border: none;\n",
       "      border-radius: 50%;\n",
       "      cursor: pointer;\n",
       "      display: none;\n",
       "      fill: #1967D2;\n",
       "      height: 32px;\n",
       "      padding: 0 0 0 0;\n",
       "      width: 32px;\n",
       "    }\n",
       "\n",
       "    .colab-df-convert:hover {\n",
       "      background-color: #E2EBFA;\n",
       "      box-shadow: 0px 1px 2px rgba(60, 64, 67, 0.3), 0px 1px 3px 1px rgba(60, 64, 67, 0.15);\n",
       "      fill: #174EA6;\n",
       "    }\n",
       "\n",
       "    .colab-df-buttons div {\n",
       "      margin-bottom: 4px;\n",
       "    }\n",
       "\n",
       "    [theme=dark] .colab-df-convert {\n",
       "      background-color: #3B4455;\n",
       "      fill: #D2E3FC;\n",
       "    }\n",
       "\n",
       "    [theme=dark] .colab-df-convert:hover {\n",
       "      background-color: #434B5C;\n",
       "      box-shadow: 0px 1px 3px 1px rgba(0, 0, 0, 0.15);\n",
       "      filter: drop-shadow(0px 1px 2px rgba(0, 0, 0, 0.3));\n",
       "      fill: #FFFFFF;\n",
       "    }\n",
       "  </style>\n",
       "\n",
       "    <script>\n",
       "      const buttonEl =\n",
       "        document.querySelector('#df-442ad1c7-f3b5-45c6-b8a7-4b91502bcc42 button.colab-df-convert');\n",
       "      buttonEl.style.display =\n",
       "        google.colab.kernel.accessAllowed ? 'block' : 'none';\n",
       "\n",
       "      async function convertToInteractive(key) {\n",
       "        const element = document.querySelector('#df-442ad1c7-f3b5-45c6-b8a7-4b91502bcc42');\n",
       "        const dataTable =\n",
       "          await google.colab.kernel.invokeFunction('convertToInteractive',\n",
       "                                                    [key], {});\n",
       "        if (!dataTable) return;\n",
       "\n",
       "        const docLinkHtml = 'Like what you see? Visit the ' +\n",
       "          '<a target=\"_blank\" href=https://colab.research.google.com/notebooks/data_table.ipynb>data table notebook</a>'\n",
       "          + ' to learn more about interactive tables.';\n",
       "        element.innerHTML = '';\n",
       "        dataTable['output_type'] = 'display_data';\n",
       "        await google.colab.output.renderOutput(dataTable, element);\n",
       "        const docLink = document.createElement('div');\n",
       "        docLink.innerHTML = docLinkHtml;\n",
       "        element.appendChild(docLink);\n",
       "      }\n",
       "    </script>\n",
       "  </div>\n",
       "\n",
       "\n",
       "    </div>\n",
       "  </div>\n"
      ],
      "text/plain": [
       "        F value       p value\n",
       "0  30112.200701  7.152839e-32"
      ]
     },
     "execution_count": 79,
     "metadata": {},
     "output_type": "execute_result"
    },
    {
     "name": "stdout",
     "output_type": "stream",
     "text": [
      "time: 19.3 ms (started: 2024-12-24 10:56:26 +00:00)\n"
     ]
    }
   ],
   "source": [
    "f_statistic, p_value = stats.f_oneway(accuracy, accuracy_1)\n",
    "pd.DataFrame([[f_statistic, p_value]], columns=['F value', 'p value'])"
   ]
  },
  {
   "cell_type": "code",
   "execution_count": 82,
   "metadata": {
    "colab": {
     "base_uri": "https://localhost:8080/",
     "height": 98
    },
    "executionInfo": {
     "elapsed": 15,
     "status": "ok",
     "timestamp": 1735037787266,
     "user": {
      "displayName": "Uyên Lưu Bảo",
      "userId": "10825055318362925261"
     },
     "user_tz": -420
    },
    "id": "If_0v-jBH61R",
    "outputId": "76c3cb98-7b26-4f7b-931e-591896716328"
   },
   "outputs": [
    {
     "data": {
      "application/vnd.google.colaboratory.intrinsic+json": {
       "summary": "{\n  \"name\": \"pd\",\n  \"rows\": 1,\n  \"fields\": [\n    {\n      \"column\": \"F value\",\n      \"properties\": {\n        \"dtype\": \"number\",\n        \"std\": null,\n        \"min\": 24472.229313692635,\n        \"max\": 24472.229313692635,\n        \"num_unique_values\": 1,\n        \"samples\": [\n          24472.229313692635\n        ],\n        \"semantic_type\": \"\",\n        \"description\": \"\"\n      }\n    },\n    {\n      \"column\": \"p value\",\n      \"properties\": {\n        \"dtype\": \"number\",\n        \"std\": null,\n        \"min\": 5.123451327872809e-31,\n        \"max\": 5.123451327872809e-31,\n        \"num_unique_values\": 1,\n        \"samples\": [\n          5.123451327872809e-31\n        ],\n        \"semantic_type\": \"\",\n        \"description\": \"\"\n      }\n    }\n  ]\n}",
       "type": "dataframe"
      },
      "text/html": [
       "\n",
       "  <div id=\"df-cb998b9d-a048-410e-befd-4e02c4809c76\" class=\"colab-df-container\">\n",
       "    <div>\n",
       "<style scoped>\n",
       "    .dataframe tbody tr th:only-of-type {\n",
       "        vertical-align: middle;\n",
       "    }\n",
       "\n",
       "    .dataframe tbody tr th {\n",
       "        vertical-align: top;\n",
       "    }\n",
       "\n",
       "    .dataframe thead th {\n",
       "        text-align: right;\n",
       "    }\n",
       "</style>\n",
       "<table border=\"1\" class=\"dataframe\">\n",
       "  <thead>\n",
       "    <tr style=\"text-align: right;\">\n",
       "      <th></th>\n",
       "      <th>F value</th>\n",
       "      <th>p value</th>\n",
       "    </tr>\n",
       "  </thead>\n",
       "  <tbody>\n",
       "    <tr>\n",
       "      <th>0</th>\n",
       "      <td>24472.229314</td>\n",
       "      <td>5.123451e-31</td>\n",
       "    </tr>\n",
       "  </tbody>\n",
       "</table>\n",
       "</div>\n",
       "    <div class=\"colab-df-buttons\">\n",
       "\n",
       "  <div class=\"colab-df-container\">\n",
       "    <button class=\"colab-df-convert\" onclick=\"convertToInteractive('df-cb998b9d-a048-410e-befd-4e02c4809c76')\"\n",
       "            title=\"Convert this dataframe to an interactive table.\"\n",
       "            style=\"display:none;\">\n",
       "\n",
       "  <svg xmlns=\"http://www.w3.org/2000/svg\" height=\"24px\" viewBox=\"0 -960 960 960\">\n",
       "    <path d=\"M120-120v-720h720v720H120Zm60-500h600v-160H180v160Zm220 220h160v-160H400v160Zm0 220h160v-160H400v160ZM180-400h160v-160H180v160Zm440 0h160v-160H620v160ZM180-180h160v-160H180v160Zm440 0h160v-160H620v160Z\"/>\n",
       "  </svg>\n",
       "    </button>\n",
       "\n",
       "  <style>\n",
       "    .colab-df-container {\n",
       "      display:flex;\n",
       "      gap: 12px;\n",
       "    }\n",
       "\n",
       "    .colab-df-convert {\n",
       "      background-color: #E8F0FE;\n",
       "      border: none;\n",
       "      border-radius: 50%;\n",
       "      cursor: pointer;\n",
       "      display: none;\n",
       "      fill: #1967D2;\n",
       "      height: 32px;\n",
       "      padding: 0 0 0 0;\n",
       "      width: 32px;\n",
       "    }\n",
       "\n",
       "    .colab-df-convert:hover {\n",
       "      background-color: #E2EBFA;\n",
       "      box-shadow: 0px 1px 2px rgba(60, 64, 67, 0.3), 0px 1px 3px 1px rgba(60, 64, 67, 0.15);\n",
       "      fill: #174EA6;\n",
       "    }\n",
       "\n",
       "    .colab-df-buttons div {\n",
       "      margin-bottom: 4px;\n",
       "    }\n",
       "\n",
       "    [theme=dark] .colab-df-convert {\n",
       "      background-color: #3B4455;\n",
       "      fill: #D2E3FC;\n",
       "    }\n",
       "\n",
       "    [theme=dark] .colab-df-convert:hover {\n",
       "      background-color: #434B5C;\n",
       "      box-shadow: 0px 1px 3px 1px rgba(0, 0, 0, 0.15);\n",
       "      filter: drop-shadow(0px 1px 2px rgba(0, 0, 0, 0.3));\n",
       "      fill: #FFFFFF;\n",
       "    }\n",
       "  </style>\n",
       "\n",
       "    <script>\n",
       "      const buttonEl =\n",
       "        document.querySelector('#df-cb998b9d-a048-410e-befd-4e02c4809c76 button.colab-df-convert');\n",
       "      buttonEl.style.display =\n",
       "        google.colab.kernel.accessAllowed ? 'block' : 'none';\n",
       "\n",
       "      async function convertToInteractive(key) {\n",
       "        const element = document.querySelector('#df-cb998b9d-a048-410e-befd-4e02c4809c76');\n",
       "        const dataTable =\n",
       "          await google.colab.kernel.invokeFunction('convertToInteractive',\n",
       "                                                    [key], {});\n",
       "        if (!dataTable) return;\n",
       "\n",
       "        const docLinkHtml = 'Like what you see? Visit the ' +\n",
       "          '<a target=\"_blank\" href=https://colab.research.google.com/notebooks/data_table.ipynb>data table notebook</a>'\n",
       "          + ' to learn more about interactive tables.';\n",
       "        element.innerHTML = '';\n",
       "        dataTable['output_type'] = 'display_data';\n",
       "        await google.colab.output.renderOutput(dataTable, element);\n",
       "        const docLink = document.createElement('div');\n",
       "        docLink.innerHTML = docLinkHtml;\n",
       "        element.appendChild(docLink);\n",
       "      }\n",
       "    </script>\n",
       "  </div>\n",
       "\n",
       "\n",
       "    </div>\n",
       "  </div>\n"
      ],
      "text/plain": [
       "        F value       p value\n",
       "0  24472.229314  5.123451e-31"
      ]
     },
     "execution_count": 82,
     "metadata": {},
     "output_type": "execute_result"
    },
    {
     "name": "stdout",
     "output_type": "stream",
     "text": [
      "time: 22.3 ms (started: 2024-12-24 10:56:26 +00:00)\n"
     ]
    }
   ],
   "source": [
    "f_statistic, p_value = stats.f_oneway(f1, f1_score_1)\n",
    "pd.DataFrame([[f_statistic, p_value]], columns=['F value', 'p value'])"
   ]
  },
  {
   "cell_type": "markdown",
   "metadata": {
    "id": "NDtoCuM3YLT0"
   },
   "source": [
    "* Kết luận: Hướng thứ nhất cho ra kết quả với độ chính xác có sự thay đổi đáng kể và có ý nghĩa thống kê."
   ]
  },
  {
   "cell_type": "markdown",
   "metadata": {
    "id": "2N1_E4YpVrAK"
   },
   "source": [
    "## The second direction"
   ]
  },
  {
   "cell_type": "code",
   "execution_count": 80,
   "metadata": {
    "colab": {
     "base_uri": "https://localhost:8080/",
     "height": 98
    },
    "executionInfo": {
     "elapsed": 16,
     "status": "ok",
     "timestamp": 1735037787266,
     "user": {
      "displayName": "Uyên Lưu Bảo",
      "userId": "10825055318362925261"
     },
     "user_tz": -420
    },
    "id": "jaNZA10_H4dJ",
    "outputId": "c4146b6c-b9ac-4a07-e513-438278f97ad1"
   },
   "outputs": [
    {
     "data": {
      "application/vnd.google.colaboratory.intrinsic+json": {
       "summary": "{\n  \"name\": \"pd\",\n  \"rows\": 1,\n  \"fields\": [\n    {\n      \"column\": \"F value\",\n      \"properties\": {\n        \"dtype\": \"number\",\n        \"std\": null,\n        \"min\": 67118.90227971532,\n        \"max\": 67118.90227971532,\n        \"num_unique_values\": 1,\n        \"samples\": [\n          67118.90227971532\n        ],\n        \"semantic_type\": \"\",\n        \"description\": \"\"\n      }\n    },\n    {\n      \"column\": \"p value\",\n      \"properties\": {\n        \"dtype\": \"number\",\n        \"std\": null,\n        \"min\": 3.5389344081124383e-35,\n        \"max\": 3.5389344081124383e-35,\n        \"num_unique_values\": 1,\n        \"samples\": [\n          3.5389344081124383e-35\n        ],\n        \"semantic_type\": \"\",\n        \"description\": \"\"\n      }\n    }\n  ]\n}",
       "type": "dataframe"
      },
      "text/html": [
       "\n",
       "  <div id=\"df-0e7c1d94-8b1b-4acd-813e-235f82c3c42c\" class=\"colab-df-container\">\n",
       "    <div>\n",
       "<style scoped>\n",
       "    .dataframe tbody tr th:only-of-type {\n",
       "        vertical-align: middle;\n",
       "    }\n",
       "\n",
       "    .dataframe tbody tr th {\n",
       "        vertical-align: top;\n",
       "    }\n",
       "\n",
       "    .dataframe thead th {\n",
       "        text-align: right;\n",
       "    }\n",
       "</style>\n",
       "<table border=\"1\" class=\"dataframe\">\n",
       "  <thead>\n",
       "    <tr style=\"text-align: right;\">\n",
       "      <th></th>\n",
       "      <th>F value</th>\n",
       "      <th>p value</th>\n",
       "    </tr>\n",
       "  </thead>\n",
       "  <tbody>\n",
       "    <tr>\n",
       "      <th>0</th>\n",
       "      <td>67118.90228</td>\n",
       "      <td>3.538934e-35</td>\n",
       "    </tr>\n",
       "  </tbody>\n",
       "</table>\n",
       "</div>\n",
       "    <div class=\"colab-df-buttons\">\n",
       "\n",
       "  <div class=\"colab-df-container\">\n",
       "    <button class=\"colab-df-convert\" onclick=\"convertToInteractive('df-0e7c1d94-8b1b-4acd-813e-235f82c3c42c')\"\n",
       "            title=\"Convert this dataframe to an interactive table.\"\n",
       "            style=\"display:none;\">\n",
       "\n",
       "  <svg xmlns=\"http://www.w3.org/2000/svg\" height=\"24px\" viewBox=\"0 -960 960 960\">\n",
       "    <path d=\"M120-120v-720h720v720H120Zm60-500h600v-160H180v160Zm220 220h160v-160H400v160Zm0 220h160v-160H400v160ZM180-400h160v-160H180v160Zm440 0h160v-160H620v160ZM180-180h160v-160H180v160Zm440 0h160v-160H620v160Z\"/>\n",
       "  </svg>\n",
       "    </button>\n",
       "\n",
       "  <style>\n",
       "    .colab-df-container {\n",
       "      display:flex;\n",
       "      gap: 12px;\n",
       "    }\n",
       "\n",
       "    .colab-df-convert {\n",
       "      background-color: #E8F0FE;\n",
       "      border: none;\n",
       "      border-radius: 50%;\n",
       "      cursor: pointer;\n",
       "      display: none;\n",
       "      fill: #1967D2;\n",
       "      height: 32px;\n",
       "      padding: 0 0 0 0;\n",
       "      width: 32px;\n",
       "    }\n",
       "\n",
       "    .colab-df-convert:hover {\n",
       "      background-color: #E2EBFA;\n",
       "      box-shadow: 0px 1px 2px rgba(60, 64, 67, 0.3), 0px 1px 3px 1px rgba(60, 64, 67, 0.15);\n",
       "      fill: #174EA6;\n",
       "    }\n",
       "\n",
       "    .colab-df-buttons div {\n",
       "      margin-bottom: 4px;\n",
       "    }\n",
       "\n",
       "    [theme=dark] .colab-df-convert {\n",
       "      background-color: #3B4455;\n",
       "      fill: #D2E3FC;\n",
       "    }\n",
       "\n",
       "    [theme=dark] .colab-df-convert:hover {\n",
       "      background-color: #434B5C;\n",
       "      box-shadow: 0px 1px 3px 1px rgba(0, 0, 0, 0.15);\n",
       "      filter: drop-shadow(0px 1px 2px rgba(0, 0, 0, 0.3));\n",
       "      fill: #FFFFFF;\n",
       "    }\n",
       "  </style>\n",
       "\n",
       "    <script>\n",
       "      const buttonEl =\n",
       "        document.querySelector('#df-0e7c1d94-8b1b-4acd-813e-235f82c3c42c button.colab-df-convert');\n",
       "      buttonEl.style.display =\n",
       "        google.colab.kernel.accessAllowed ? 'block' : 'none';\n",
       "\n",
       "      async function convertToInteractive(key) {\n",
       "        const element = document.querySelector('#df-0e7c1d94-8b1b-4acd-813e-235f82c3c42c');\n",
       "        const dataTable =\n",
       "          await google.colab.kernel.invokeFunction('convertToInteractive',\n",
       "                                                    [key], {});\n",
       "        if (!dataTable) return;\n",
       "\n",
       "        const docLinkHtml = 'Like what you see? Visit the ' +\n",
       "          '<a target=\"_blank\" href=https://colab.research.google.com/notebooks/data_table.ipynb>data table notebook</a>'\n",
       "          + ' to learn more about interactive tables.';\n",
       "        element.innerHTML = '';\n",
       "        dataTable['output_type'] = 'display_data';\n",
       "        await google.colab.output.renderOutput(dataTable, element);\n",
       "        const docLink = document.createElement('div');\n",
       "        docLink.innerHTML = docLinkHtml;\n",
       "        element.appendChild(docLink);\n",
       "      }\n",
       "    </script>\n",
       "  </div>\n",
       "\n",
       "\n",
       "    </div>\n",
       "  </div>\n"
      ],
      "text/plain": [
       "       F value       p value\n",
       "0  67118.90228  3.538934e-35"
      ]
     },
     "execution_count": 80,
     "metadata": {},
     "output_type": "execute_result"
    },
    {
     "name": "stdout",
     "output_type": "stream",
     "text": [
      "time: 18.2 ms (started: 2024-12-24 10:56:26 +00:00)\n"
     ]
    }
   ],
   "source": [
    "f_statistic, p_value = stats.f_oneway(accuracy, accuracy_2)\n",
    "pd.DataFrame([[f_statistic, p_value]], columns=['F value', 'p value'])"
   ]
  },
  {
   "cell_type": "code",
   "execution_count": 83,
   "metadata": {
    "colab": {
     "base_uri": "https://localhost:8080/",
     "height": 98
    },
    "executionInfo": {
     "elapsed": 14,
     "status": "ok",
     "timestamp": 1735037787266,
     "user": {
      "displayName": "Uyên Lưu Bảo",
      "userId": "10825055318362925261"
     },
     "user_tz": -420
    },
    "id": "zxQz9pMqH-Om",
    "outputId": "fc424aea-7077-422a-b014-6f1a94a0b136"
   },
   "outputs": [
    {
     "data": {
      "application/vnd.google.colaboratory.intrinsic+json": {
       "summary": "{\n  \"name\": \"pd\",\n  \"rows\": 1,\n  \"fields\": [\n    {\n      \"column\": \"F value\",\n      \"properties\": {\n        \"dtype\": \"number\",\n        \"std\": null,\n        \"min\": 9367.926904184762,\n        \"max\": 9367.926904184762,\n        \"num_unique_values\": 1,\n        \"samples\": [\n          9367.926904184762\n        ],\n        \"semantic_type\": \"\",\n        \"description\": \"\"\n      }\n    },\n    {\n      \"column\": \"p value\",\n      \"properties\": {\n        \"dtype\": \"number\",\n        \"std\": null,\n        \"min\": 4.6391251861658714e-27,\n        \"max\": 4.6391251861658714e-27,\n        \"num_unique_values\": 1,\n        \"samples\": [\n          4.6391251861658714e-27\n        ],\n        \"semantic_type\": \"\",\n        \"description\": \"\"\n      }\n    }\n  ]\n}",
       "type": "dataframe"
      },
      "text/html": [
       "\n",
       "  <div id=\"df-a8eac698-0d2d-4cff-b566-4d0c72be8801\" class=\"colab-df-container\">\n",
       "    <div>\n",
       "<style scoped>\n",
       "    .dataframe tbody tr th:only-of-type {\n",
       "        vertical-align: middle;\n",
       "    }\n",
       "\n",
       "    .dataframe tbody tr th {\n",
       "        vertical-align: top;\n",
       "    }\n",
       "\n",
       "    .dataframe thead th {\n",
       "        text-align: right;\n",
       "    }\n",
       "</style>\n",
       "<table border=\"1\" class=\"dataframe\">\n",
       "  <thead>\n",
       "    <tr style=\"text-align: right;\">\n",
       "      <th></th>\n",
       "      <th>F value</th>\n",
       "      <th>p value</th>\n",
       "    </tr>\n",
       "  </thead>\n",
       "  <tbody>\n",
       "    <tr>\n",
       "      <th>0</th>\n",
       "      <td>9367.926904</td>\n",
       "      <td>4.639125e-27</td>\n",
       "    </tr>\n",
       "  </tbody>\n",
       "</table>\n",
       "</div>\n",
       "    <div class=\"colab-df-buttons\">\n",
       "\n",
       "  <div class=\"colab-df-container\">\n",
       "    <button class=\"colab-df-convert\" onclick=\"convertToInteractive('df-a8eac698-0d2d-4cff-b566-4d0c72be8801')\"\n",
       "            title=\"Convert this dataframe to an interactive table.\"\n",
       "            style=\"display:none;\">\n",
       "\n",
       "  <svg xmlns=\"http://www.w3.org/2000/svg\" height=\"24px\" viewBox=\"0 -960 960 960\">\n",
       "    <path d=\"M120-120v-720h720v720H120Zm60-500h600v-160H180v160Zm220 220h160v-160H400v160Zm0 220h160v-160H400v160ZM180-400h160v-160H180v160Zm440 0h160v-160H620v160ZM180-180h160v-160H180v160Zm440 0h160v-160H620v160Z\"/>\n",
       "  </svg>\n",
       "    </button>\n",
       "\n",
       "  <style>\n",
       "    .colab-df-container {\n",
       "      display:flex;\n",
       "      gap: 12px;\n",
       "    }\n",
       "\n",
       "    .colab-df-convert {\n",
       "      background-color: #E8F0FE;\n",
       "      border: none;\n",
       "      border-radius: 50%;\n",
       "      cursor: pointer;\n",
       "      display: none;\n",
       "      fill: #1967D2;\n",
       "      height: 32px;\n",
       "      padding: 0 0 0 0;\n",
       "      width: 32px;\n",
       "    }\n",
       "\n",
       "    .colab-df-convert:hover {\n",
       "      background-color: #E2EBFA;\n",
       "      box-shadow: 0px 1px 2px rgba(60, 64, 67, 0.3), 0px 1px 3px 1px rgba(60, 64, 67, 0.15);\n",
       "      fill: #174EA6;\n",
       "    }\n",
       "\n",
       "    .colab-df-buttons div {\n",
       "      margin-bottom: 4px;\n",
       "    }\n",
       "\n",
       "    [theme=dark] .colab-df-convert {\n",
       "      background-color: #3B4455;\n",
       "      fill: #D2E3FC;\n",
       "    }\n",
       "\n",
       "    [theme=dark] .colab-df-convert:hover {\n",
       "      background-color: #434B5C;\n",
       "      box-shadow: 0px 1px 3px 1px rgba(0, 0, 0, 0.15);\n",
       "      filter: drop-shadow(0px 1px 2px rgba(0, 0, 0, 0.3));\n",
       "      fill: #FFFFFF;\n",
       "    }\n",
       "  </style>\n",
       "\n",
       "    <script>\n",
       "      const buttonEl =\n",
       "        document.querySelector('#df-a8eac698-0d2d-4cff-b566-4d0c72be8801 button.colab-df-convert');\n",
       "      buttonEl.style.display =\n",
       "        google.colab.kernel.accessAllowed ? 'block' : 'none';\n",
       "\n",
       "      async function convertToInteractive(key) {\n",
       "        const element = document.querySelector('#df-a8eac698-0d2d-4cff-b566-4d0c72be8801');\n",
       "        const dataTable =\n",
       "          await google.colab.kernel.invokeFunction('convertToInteractive',\n",
       "                                                    [key], {});\n",
       "        if (!dataTable) return;\n",
       "\n",
       "        const docLinkHtml = 'Like what you see? Visit the ' +\n",
       "          '<a target=\"_blank\" href=https://colab.research.google.com/notebooks/data_table.ipynb>data table notebook</a>'\n",
       "          + ' to learn more about interactive tables.';\n",
       "        element.innerHTML = '';\n",
       "        dataTable['output_type'] = 'display_data';\n",
       "        await google.colab.output.renderOutput(dataTable, element);\n",
       "        const docLink = document.createElement('div');\n",
       "        docLink.innerHTML = docLinkHtml;\n",
       "        element.appendChild(docLink);\n",
       "      }\n",
       "    </script>\n",
       "  </div>\n",
       "\n",
       "\n",
       "    </div>\n",
       "  </div>\n"
      ],
      "text/plain": [
       "       F value       p value\n",
       "0  9367.926904  4.639125e-27"
      ]
     },
     "execution_count": 83,
     "metadata": {},
     "output_type": "execute_result"
    },
    {
     "name": "stdout",
     "output_type": "stream",
     "text": [
      "time: 24.7 ms (started: 2024-12-24 10:56:26 +00:00)\n"
     ]
    }
   ],
   "source": [
    "f_statistic, p_value = stats.f_oneway(f1, f1_score_2)\n",
    "pd.DataFrame([[f_statistic, p_value]], columns=['F value', 'p value'])"
   ]
  },
  {
   "cell_type": "markdown",
   "metadata": {
    "id": "k1mWg_oAZJCm"
   },
   "source": [
    "* Kết luận: Hướng thứ hai cho ra kết quả với độ chính xác có sự thay đổi đáng kể và có ý nghĩa thống kê."
   ]
  },
  {
   "cell_type": "markdown",
   "metadata": {
    "id": "-grJlUA6W87B"
   },
   "source": [
    "## 2 direction"
   ]
  },
  {
   "cell_type": "code",
   "execution_count": 81,
   "metadata": {
    "colab": {
     "base_uri": "https://localhost:8080/",
     "height": 98
    },
    "executionInfo": {
     "elapsed": 16,
     "status": "ok",
     "timestamp": 1735037787266,
     "user": {
      "displayName": "Uyên Lưu Bảo",
      "userId": "10825055318362925261"
     },
     "user_tz": -420
    },
    "id": "zANi-RXsKjOd",
    "outputId": "b3e63f94-b155-4912-ca2c-4de5fb586a26"
   },
   "outputs": [
    {
     "data": {
      "application/vnd.google.colaboratory.intrinsic+json": {
       "summary": "{\n  \"name\": \"pd\",\n  \"rows\": 1,\n  \"fields\": [\n    {\n      \"column\": \"F value\",\n      \"properties\": {\n        \"dtype\": \"number\",\n        \"std\": null,\n        \"min\": 0.3255648961095997,\n        \"max\": 0.3255648961095997,\n        \"num_unique_values\": 1,\n        \"samples\": [\n          0.3255648961095997\n        ],\n        \"semantic_type\": \"\",\n        \"description\": \"\"\n      }\n    },\n    {\n      \"column\": \"p value\",\n      \"properties\": {\n        \"dtype\": \"number\",\n        \"std\": null,\n        \"min\": 0.5740646342661627,\n        \"max\": 0.5740646342661627,\n        \"num_unique_values\": 1,\n        \"samples\": [\n          0.5740646342661627\n        ],\n        \"semantic_type\": \"\",\n        \"description\": \"\"\n      }\n    }\n  ]\n}",
       "type": "dataframe"
      },
      "text/html": [
       "\n",
       "  <div id=\"df-4bb994d2-d8eb-4bdb-bcce-c10ccb9d9aa6\" class=\"colab-df-container\">\n",
       "    <div>\n",
       "<style scoped>\n",
       "    .dataframe tbody tr th:only-of-type {\n",
       "        vertical-align: middle;\n",
       "    }\n",
       "\n",
       "    .dataframe tbody tr th {\n",
       "        vertical-align: top;\n",
       "    }\n",
       "\n",
       "    .dataframe thead th {\n",
       "        text-align: right;\n",
       "    }\n",
       "</style>\n",
       "<table border=\"1\" class=\"dataframe\">\n",
       "  <thead>\n",
       "    <tr style=\"text-align: right;\">\n",
       "      <th></th>\n",
       "      <th>F value</th>\n",
       "      <th>p value</th>\n",
       "    </tr>\n",
       "  </thead>\n",
       "  <tbody>\n",
       "    <tr>\n",
       "      <th>0</th>\n",
       "      <td>0.325565</td>\n",
       "      <td>0.574065</td>\n",
       "    </tr>\n",
       "  </tbody>\n",
       "</table>\n",
       "</div>\n",
       "    <div class=\"colab-df-buttons\">\n",
       "\n",
       "  <div class=\"colab-df-container\">\n",
       "    <button class=\"colab-df-convert\" onclick=\"convertToInteractive('df-4bb994d2-d8eb-4bdb-bcce-c10ccb9d9aa6')\"\n",
       "            title=\"Convert this dataframe to an interactive table.\"\n",
       "            style=\"display:none;\">\n",
       "\n",
       "  <svg xmlns=\"http://www.w3.org/2000/svg\" height=\"24px\" viewBox=\"0 -960 960 960\">\n",
       "    <path d=\"M120-120v-720h720v720H120Zm60-500h600v-160H180v160Zm220 220h160v-160H400v160Zm0 220h160v-160H400v160ZM180-400h160v-160H180v160Zm440 0h160v-160H620v160ZM180-180h160v-160H180v160Zm440 0h160v-160H620v160Z\"/>\n",
       "  </svg>\n",
       "    </button>\n",
       "\n",
       "  <style>\n",
       "    .colab-df-container {\n",
       "      display:flex;\n",
       "      gap: 12px;\n",
       "    }\n",
       "\n",
       "    .colab-df-convert {\n",
       "      background-color: #E8F0FE;\n",
       "      border: none;\n",
       "      border-radius: 50%;\n",
       "      cursor: pointer;\n",
       "      display: none;\n",
       "      fill: #1967D2;\n",
       "      height: 32px;\n",
       "      padding: 0 0 0 0;\n",
       "      width: 32px;\n",
       "    }\n",
       "\n",
       "    .colab-df-convert:hover {\n",
       "      background-color: #E2EBFA;\n",
       "      box-shadow: 0px 1px 2px rgba(60, 64, 67, 0.3), 0px 1px 3px 1px rgba(60, 64, 67, 0.15);\n",
       "      fill: #174EA6;\n",
       "    }\n",
       "\n",
       "    .colab-df-buttons div {\n",
       "      margin-bottom: 4px;\n",
       "    }\n",
       "\n",
       "    [theme=dark] .colab-df-convert {\n",
       "      background-color: #3B4455;\n",
       "      fill: #D2E3FC;\n",
       "    }\n",
       "\n",
       "    [theme=dark] .colab-df-convert:hover {\n",
       "      background-color: #434B5C;\n",
       "      box-shadow: 0px 1px 3px 1px rgba(0, 0, 0, 0.15);\n",
       "      filter: drop-shadow(0px 1px 2px rgba(0, 0, 0, 0.3));\n",
       "      fill: #FFFFFF;\n",
       "    }\n",
       "  </style>\n",
       "\n",
       "    <script>\n",
       "      const buttonEl =\n",
       "        document.querySelector('#df-4bb994d2-d8eb-4bdb-bcce-c10ccb9d9aa6 button.colab-df-convert');\n",
       "      buttonEl.style.display =\n",
       "        google.colab.kernel.accessAllowed ? 'block' : 'none';\n",
       "\n",
       "      async function convertToInteractive(key) {\n",
       "        const element = document.querySelector('#df-4bb994d2-d8eb-4bdb-bcce-c10ccb9d9aa6');\n",
       "        const dataTable =\n",
       "          await google.colab.kernel.invokeFunction('convertToInteractive',\n",
       "                                                    [key], {});\n",
       "        if (!dataTable) return;\n",
       "\n",
       "        const docLinkHtml = 'Like what you see? Visit the ' +\n",
       "          '<a target=\"_blank\" href=https://colab.research.google.com/notebooks/data_table.ipynb>data table notebook</a>'\n",
       "          + ' to learn more about interactive tables.';\n",
       "        element.innerHTML = '';\n",
       "        dataTable['output_type'] = 'display_data';\n",
       "        await google.colab.output.renderOutput(dataTable, element);\n",
       "        const docLink = document.createElement('div');\n",
       "        docLink.innerHTML = docLinkHtml;\n",
       "        element.appendChild(docLink);\n",
       "      }\n",
       "    </script>\n",
       "  </div>\n",
       "\n",
       "\n",
       "    </div>\n",
       "  </div>\n"
      ],
      "text/plain": [
       "    F value   p value\n",
       "0  0.325565  0.574065"
      ]
     },
     "execution_count": 81,
     "metadata": {},
     "output_type": "execute_result"
    },
    {
     "name": "stdout",
     "output_type": "stream",
     "text": [
      "time: 20.7 ms (started: 2024-12-24 10:56:26 +00:00)\n"
     ]
    }
   ],
   "source": [
    "f_statistic, p_value = stats.f_oneway(accuracy_1, accuracy_2)\n",
    "pd.DataFrame([[f_statistic, p_value]], columns=['F value', 'p value'])"
   ]
  },
  {
   "cell_type": "code",
   "execution_count": 84,
   "metadata": {
    "colab": {
     "base_uri": "https://localhost:8080/",
     "height": 98
    },
    "executionInfo": {
     "elapsed": 13,
     "status": "ok",
     "timestamp": 1735037787266,
     "user": {
      "displayName": "Uyên Lưu Bảo",
      "userId": "10825055318362925261"
     },
     "user_tz": -420
    },
    "id": "a63dxkDhIBWD",
    "outputId": "2f4ebc6a-e66a-40fb-8556-72d126ab55ab"
   },
   "outputs": [
    {
     "data": {
      "application/vnd.google.colaboratory.intrinsic+json": {
       "summary": "{\n  \"name\": \"pd\",\n  \"rows\": 1,\n  \"fields\": [\n    {\n      \"column\": \"F value\",\n      \"properties\": {\n        \"dtype\": \"number\",\n        \"std\": null,\n        \"min\": 3.710631835012816,\n        \"max\": 3.710631835012816,\n        \"num_unique_values\": 1,\n        \"samples\": [\n          3.710631835012816\n        ],\n        \"semantic_type\": \"\",\n        \"description\": \"\"\n      }\n    },\n    {\n      \"column\": \"p value\",\n      \"properties\": {\n        \"dtype\": \"number\",\n        \"std\": null,\n        \"min\": 0.06708461732724841,\n        \"max\": 0.06708461732724841,\n        \"num_unique_values\": 1,\n        \"samples\": [\n          0.06708461732724841\n        ],\n        \"semantic_type\": \"\",\n        \"description\": \"\"\n      }\n    }\n  ]\n}",
       "type": "dataframe"
      },
      "text/html": [
       "\n",
       "  <div id=\"df-be278732-35a0-4e07-83ed-22a88bbbeead\" class=\"colab-df-container\">\n",
       "    <div>\n",
       "<style scoped>\n",
       "    .dataframe tbody tr th:only-of-type {\n",
       "        vertical-align: middle;\n",
       "    }\n",
       "\n",
       "    .dataframe tbody tr th {\n",
       "        vertical-align: top;\n",
       "    }\n",
       "\n",
       "    .dataframe thead th {\n",
       "        text-align: right;\n",
       "    }\n",
       "</style>\n",
       "<table border=\"1\" class=\"dataframe\">\n",
       "  <thead>\n",
       "    <tr style=\"text-align: right;\">\n",
       "      <th></th>\n",
       "      <th>F value</th>\n",
       "      <th>p value</th>\n",
       "    </tr>\n",
       "  </thead>\n",
       "  <tbody>\n",
       "    <tr>\n",
       "      <th>0</th>\n",
       "      <td>3.710632</td>\n",
       "      <td>0.067085</td>\n",
       "    </tr>\n",
       "  </tbody>\n",
       "</table>\n",
       "</div>\n",
       "    <div class=\"colab-df-buttons\">\n",
       "\n",
       "  <div class=\"colab-df-container\">\n",
       "    <button class=\"colab-df-convert\" onclick=\"convertToInteractive('df-be278732-35a0-4e07-83ed-22a88bbbeead')\"\n",
       "            title=\"Convert this dataframe to an interactive table.\"\n",
       "            style=\"display:none;\">\n",
       "\n",
       "  <svg xmlns=\"http://www.w3.org/2000/svg\" height=\"24px\" viewBox=\"0 -960 960 960\">\n",
       "    <path d=\"M120-120v-720h720v720H120Zm60-500h600v-160H180v160Zm220 220h160v-160H400v160Zm0 220h160v-160H400v160ZM180-400h160v-160H180v160Zm440 0h160v-160H620v160ZM180-180h160v-160H180v160Zm440 0h160v-160H620v160Z\"/>\n",
       "  </svg>\n",
       "    </button>\n",
       "\n",
       "  <style>\n",
       "    .colab-df-container {\n",
       "      display:flex;\n",
       "      gap: 12px;\n",
       "    }\n",
       "\n",
       "    .colab-df-convert {\n",
       "      background-color: #E8F0FE;\n",
       "      border: none;\n",
       "      border-radius: 50%;\n",
       "      cursor: pointer;\n",
       "      display: none;\n",
       "      fill: #1967D2;\n",
       "      height: 32px;\n",
       "      padding: 0 0 0 0;\n",
       "      width: 32px;\n",
       "    }\n",
       "\n",
       "    .colab-df-convert:hover {\n",
       "      background-color: #E2EBFA;\n",
       "      box-shadow: 0px 1px 2px rgba(60, 64, 67, 0.3), 0px 1px 3px 1px rgba(60, 64, 67, 0.15);\n",
       "      fill: #174EA6;\n",
       "    }\n",
       "\n",
       "    .colab-df-buttons div {\n",
       "      margin-bottom: 4px;\n",
       "    }\n",
       "\n",
       "    [theme=dark] .colab-df-convert {\n",
       "      background-color: #3B4455;\n",
       "      fill: #D2E3FC;\n",
       "    }\n",
       "\n",
       "    [theme=dark] .colab-df-convert:hover {\n",
       "      background-color: #434B5C;\n",
       "      box-shadow: 0px 1px 3px 1px rgba(0, 0, 0, 0.15);\n",
       "      filter: drop-shadow(0px 1px 2px rgba(0, 0, 0, 0.3));\n",
       "      fill: #FFFFFF;\n",
       "    }\n",
       "  </style>\n",
       "\n",
       "    <script>\n",
       "      const buttonEl =\n",
       "        document.querySelector('#df-be278732-35a0-4e07-83ed-22a88bbbeead button.colab-df-convert');\n",
       "      buttonEl.style.display =\n",
       "        google.colab.kernel.accessAllowed ? 'block' : 'none';\n",
       "\n",
       "      async function convertToInteractive(key) {\n",
       "        const element = document.querySelector('#df-be278732-35a0-4e07-83ed-22a88bbbeead');\n",
       "        const dataTable =\n",
       "          await google.colab.kernel.invokeFunction('convertToInteractive',\n",
       "                                                    [key], {});\n",
       "        if (!dataTable) return;\n",
       "\n",
       "        const docLinkHtml = 'Like what you see? Visit the ' +\n",
       "          '<a target=\"_blank\" href=https://colab.research.google.com/notebooks/data_table.ipynb>data table notebook</a>'\n",
       "          + ' to learn more about interactive tables.';\n",
       "        element.innerHTML = '';\n",
       "        dataTable['output_type'] = 'display_data';\n",
       "        await google.colab.output.renderOutput(dataTable, element);\n",
       "        const docLink = document.createElement('div');\n",
       "        docLink.innerHTML = docLinkHtml;\n",
       "        element.appendChild(docLink);\n",
       "      }\n",
       "    </script>\n",
       "  </div>\n",
       "\n",
       "\n",
       "    </div>\n",
       "  </div>\n"
      ],
      "text/plain": [
       "    F value   p value\n",
       "0  3.710632  0.067085"
      ]
     },
     "execution_count": 84,
     "metadata": {},
     "output_type": "execute_result"
    },
    {
     "name": "stdout",
     "output_type": "stream",
     "text": [
      "time: 21.1 ms (started: 2024-12-24 10:56:26 +00:00)\n"
     ]
    }
   ],
   "source": [
    "f_statistic, p_value = stats.f_oneway(f1_score_1, f1_score_2)\n",
    "pd.DataFrame([[f_statistic, p_value]], columns=['F value', 'p value'])"
   ]
  },
  {
   "cell_type": "markdown",
   "metadata": {
    "id": "T6sz9OjzTcLt"
   },
   "source": [
    "- Kết luận: Không có sự khác biệt khi sử dụng 2 hướng."
   ]
  }
 ],
 "metadata": {
  "colab": {
   "authorship_tag": "ABX9TyMHOVRYXFaXdosPViavqWUX",
   "mount_file_id": "1gnN1M-anizUKDfCRb6xspBals54W-9cq",
   "provenance": [],
   "toc_visible": true
  },
  "kernelspec": {
   "display_name": "Python 3",
   "name": "python3"
  },
  "language_info": {
   "name": "python"
  }
 },
 "nbformat": 4,
 "nbformat_minor": 0
}
